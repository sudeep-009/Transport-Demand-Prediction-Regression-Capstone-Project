{
  "nbformat": 4,
  "nbformat_minor": 0,
  "metadata": {
    "kernelspec": {
      "display_name": "Python 3",
      "language": "python",
      "name": "python3"
    },
    "language_info": {
      "codemirror_mode": {
        "name": "ipython",
        "version": 3
      },
      "file_extension": ".py",
      "mimetype": "text/x-python",
      "name": "python",
      "nbconvert_exporter": "python",
      "pygments_lexer": "ipython3",
      "version": "3.6.6"
    },
    "colab": {
      "name": "Copy of Demand Prediction for Public Transport - Capstone Project.ipynb",
      "provenance": [],
      "collapsed_sections": [],
      "include_colab_link": true
    }
  },
  "cells": [
    {
      "cell_type": "markdown",
      "metadata": {
        "id": "view-in-github",
        "colab_type": "text"
      },
      "source": [
        "<a href=\"https://colab.research.google.com/github/sudeep-009/Transport-Demand-Prediction-Regression-Capstone-Project/blob/dev/Copy_of_Demand_Prediction_for_Public_Transport_Capstone_Project.ipynb\" target=\"_parent\"><img src=\"https://colab.research.google.com/assets/colab-badge.svg\" alt=\"Open In Colab\"/></a>"
      ]
    },
    {
      "cell_type": "markdown",
      "metadata": {
        "id": "tOGC-qoyhJeX"
      },
      "source": [
        "# <b><u> Project Title : Traffic Jam: Predicting People's Movement into Nairobi </u></b>"
      ]
    },
    {
      "cell_type": "markdown",
      "metadata": {
        "id": "Y06xIdG26kRF"
      },
      "source": [
        "## <b> Problem Description </b>\n",
        "\n",
        "### This challenge asks you to build a model that predicts the number of seats that Mobiticket can expect to sell for each ride, i.e. for a specific route on a specific date and time. There are 14 routes in this dataset. All of the routes end in Nairobi and originate in towns to the North-West of Nairobi towards Lake Victoria.\n",
        "\n",
        "\n",
        "### The towns from which these routes originate are:\n",
        "\n",
        "* Awendo\n",
        "* Homa Bay\n",
        "* Kehancha\n",
        "* Kendu Bay\n",
        "* Keroka\n",
        "* Keumbu\n",
        "* Kijauri\n",
        "* Kisii\n",
        "* Mbita\n",
        "* Migori\n",
        "* Ndhiwa\n",
        "* Nyachenge\n",
        "* Oyugis\n",
        "* Rodi\n",
        "* Rongo\n",
        "* Sirare\n",
        "* Sori\n",
        "\n",
        "### The routes from these 14 origins to the first stop in the outskirts of Nairobi takes approximately 8 to 9 hours from time of departure. From the first stop in the outskirts of Nairobi into the main bus terminal, where most passengers get off, in Central Business District, takes another 2 to 3 hours depending on traffic.\n",
        "\n",
        "### The three stops that all these routes make in Nairobi (in order) are:\n",
        "\n",
        "1. Kawangware: the first stop in the outskirts of Nairobi\n",
        "2. Westlands\n",
        "3. Afya Centre: the main bus terminal where most passengers disembark\n",
        "\n",
        "### All of these points are mapped [here](https://www.google.com/maps/d/viewer?mid=1Ef2pFdP8keVHHid8bwju2raoRvjOGagN&ll=-0.8281897101491997%2C35.51706279999996&z=8).\n",
        "\n",
        "### Passengers of these bus (or shuttle) rides are affected by Nairobi traffic not only during their ride into the city, but from there they must continue their journey to their final destination in Nairobi wherever that may be. Traffic can act as a deterrent for those who have the option to avoid buses that arrive in Nairobi during peak traffic hours. On the other hand, traffic may be an indication for people’s movement patterns, reflecting business hours, cultural events, political events, and holidays."
      ]
    },
    {
      "cell_type": "markdown",
      "metadata": {
        "id": "AlLxAtlziMbP"
      },
      "source": [
        "## <b> Data Description </b>\n",
        "\n",
        "### <b>Nairobi Transport Data.csv (zipped)</b> is the dataset of tickets purchased from Mobiticket for the 14 routes from “up country” into Nairobi between 17 October 2017 and 20 April 2018. This dataset includes the variables: ride_id, seat_number, payment_method, payment_receipt, travel_date, travel_time, travel_from, travel_to, car_type, max_capacity.\n",
        "\n",
        "\n",
        "### Uber Movement traffic data can be accessed [here](https://movement.uber.com). Data is available for Nairobi through June 2018. Uber Movement provided historic hourly travel time between any two points in Nairobi. Any tables that are extracted from the Uber Movement platform can be used in your model.\n",
        "\n",
        "### Variables description:\n",
        "\n",
        "* #### ride_id: unique ID of a vehicle on a specific route on a specific day and time.\n",
        "* #### seat_number: seat assigned to ticket\n",
        "* #### payment_method: method used by customer to purchase ticket from Mobiticket (cash or Mpesa)\n",
        "* #### payment_receipt: unique id number for ticket purchased from Mobiticket\n",
        "* #### travel_date: date of ride departure. (MM/DD/YYYY)\n",
        "* #### travel_time: scheduled departure time of ride. Rides generally depart on time. (hh:mm)\n",
        "* #### travel_from: town from which ride originated\n",
        "* #### travel_to: destination of ride. All rides are to Nairobi.\n",
        "* #### car_type: vehicle type (shuttle or bus)\n",
        "* #### max_capacity: number of seats on the vehicle"
      ]
    },
    {
      "cell_type": "code",
      "metadata": {
        "id": "dByMsuzT8Tnw"
      },
      "source": [
        "import warnings\n",
        "warnings.filterwarnings(\"ignore\") \n",
        "import pandas as pd\n",
        "import numpy as np\n",
        "import matplotlib as mpl\n",
        "import matplotlib.pyplot as plt\n",
        "mpl.style.use('ggplot')\n",
        "import seaborn as sns\n",
        "sns.set_theme(style=\"whitegrid\")\n",
        "from sklearn.preprocessing import LabelEncoder\n",
        "from sklearn.preprocessing import OneHotEncoder"
      ],
      "execution_count": 1,
      "outputs": []
    },
    {
      "cell_type": "code",
      "source": [
        "from google.colab import drive\n",
        "drive.mount('/content/drive')"
      ],
      "metadata": {
        "colab": {
          "base_uri": "https://localhost:8080/"
        },
        "id": "uOhslidzJ3QL",
        "outputId": "5498be7c-e3a0-400d-9948-9fee3ccd1c21"
      },
      "execution_count": 2,
      "outputs": [
        {
          "output_type": "stream",
          "name": "stdout",
          "text": [
            "Mounted at /content/drive\n"
          ]
        }
      ]
    },
    {
      "cell_type": "code",
      "source": [
        "transport_df = pd.read_csv('/content/drive/MyDrive/Colab Notebooks/AlmaBetter/Capstone Projects/Traffic Demand Prediction-Capstone/train_revised.csv')"
      ],
      "metadata": {
        "id": "s9M0oTSqKJqB"
      },
      "execution_count": 3,
      "outputs": []
    },
    {
      "cell_type": "markdown",
      "source": [
        "#**First lets understand the given dataset**"
      ],
      "metadata": {
        "id": "E_bwtkVALx_P"
      }
    },
    {
      "cell_type": "markdown",
      "source": [
        "####**Lets explore few rows of our dataset**"
      ],
      "metadata": {
        "id": "fGrQPxvSqTpr"
      }
    },
    {
      "cell_type": "code",
      "source": [
        "pd.concat([transport_df.head(),transport_df.tail()])"
      ],
      "metadata": {
        "colab": {
          "base_uri": "https://localhost:8080/",
          "height": 363
        },
        "id": "t5lJYJmIMkh4",
        "outputId": "3241e437-3217-43e0-e06c-56098ae610cc"
      },
      "execution_count": 4,
      "outputs": [
        {
          "output_type": "execute_result",
          "data": {
            "text/plain": [
              "       ride_id seat_number payment_method payment_receipt travel_date  \\\n",
              "0         1442         15A          Mpesa      UZUEHCBUSO    17-10-17   \n",
              "1         5437         14A          Mpesa      TIHLBUSGTE    19-11-17   \n",
              "2         5710          8B          Mpesa      EQX8Q5G19O    26-11-17   \n",
              "3         5777         19A          Mpesa      SGP18CL0ME    27-11-17   \n",
              "4         5778         11A          Mpesa      BM97HFRGL9    27-11-17   \n",
              "51640    13826          9B          Mpesa      8V2XDDZR6V    20-04-18   \n",
              "51641    13809         18A          Mpesa      4PEBSVJSNK    20-04-18   \n",
              "51642    13809         17A          Mpesa      LVN64LZDNN    20-04-18   \n",
              "51643    13796         16B          Mpesa      REYBSKTYWN    20-04-18   \n",
              "51644    14304           7          Mpesa      AQN7FBUSGP    14-11-17   \n",
              "\n",
              "      travel_time travel_from travel_to car_type  max_capacity  \n",
              "0            7:15      Migori   Nairobi      Bus            49  \n",
              "1            7:12      Migori   Nairobi      Bus            49  \n",
              "2            7:05      Keroka   Nairobi      Bus            49  \n",
              "3            7:10    Homa Bay   Nairobi      Bus            49  \n",
              "4            7:12      Migori   Nairobi      Bus            49  \n",
              "51640        8:00      Awendo   Nairobi      Bus            49  \n",
              "51641        8:00      Migori   Nairobi      Bus            49  \n",
              "51642        8:00      Migori   Nairobi      Bus            49  \n",
              "51643        7:08      Awendo   Nairobi      Bus            49  \n",
              "51644        5:10       Kisii   Nairobi      Bus            49  "
            ],
            "text/html": [
              "\n",
              "  <div id=\"df-60c2117c-ac43-4bb7-a603-0ed0672a0cab\">\n",
              "    <div class=\"colab-df-container\">\n",
              "      <div>\n",
              "<style scoped>\n",
              "    .dataframe tbody tr th:only-of-type {\n",
              "        vertical-align: middle;\n",
              "    }\n",
              "\n",
              "    .dataframe tbody tr th {\n",
              "        vertical-align: top;\n",
              "    }\n",
              "\n",
              "    .dataframe thead th {\n",
              "        text-align: right;\n",
              "    }\n",
              "</style>\n",
              "<table border=\"1\" class=\"dataframe\">\n",
              "  <thead>\n",
              "    <tr style=\"text-align: right;\">\n",
              "      <th></th>\n",
              "      <th>ride_id</th>\n",
              "      <th>seat_number</th>\n",
              "      <th>payment_method</th>\n",
              "      <th>payment_receipt</th>\n",
              "      <th>travel_date</th>\n",
              "      <th>travel_time</th>\n",
              "      <th>travel_from</th>\n",
              "      <th>travel_to</th>\n",
              "      <th>car_type</th>\n",
              "      <th>max_capacity</th>\n",
              "    </tr>\n",
              "  </thead>\n",
              "  <tbody>\n",
              "    <tr>\n",
              "      <th>0</th>\n",
              "      <td>1442</td>\n",
              "      <td>15A</td>\n",
              "      <td>Mpesa</td>\n",
              "      <td>UZUEHCBUSO</td>\n",
              "      <td>17-10-17</td>\n",
              "      <td>7:15</td>\n",
              "      <td>Migori</td>\n",
              "      <td>Nairobi</td>\n",
              "      <td>Bus</td>\n",
              "      <td>49</td>\n",
              "    </tr>\n",
              "    <tr>\n",
              "      <th>1</th>\n",
              "      <td>5437</td>\n",
              "      <td>14A</td>\n",
              "      <td>Mpesa</td>\n",
              "      <td>TIHLBUSGTE</td>\n",
              "      <td>19-11-17</td>\n",
              "      <td>7:12</td>\n",
              "      <td>Migori</td>\n",
              "      <td>Nairobi</td>\n",
              "      <td>Bus</td>\n",
              "      <td>49</td>\n",
              "    </tr>\n",
              "    <tr>\n",
              "      <th>2</th>\n",
              "      <td>5710</td>\n",
              "      <td>8B</td>\n",
              "      <td>Mpesa</td>\n",
              "      <td>EQX8Q5G19O</td>\n",
              "      <td>26-11-17</td>\n",
              "      <td>7:05</td>\n",
              "      <td>Keroka</td>\n",
              "      <td>Nairobi</td>\n",
              "      <td>Bus</td>\n",
              "      <td>49</td>\n",
              "    </tr>\n",
              "    <tr>\n",
              "      <th>3</th>\n",
              "      <td>5777</td>\n",
              "      <td>19A</td>\n",
              "      <td>Mpesa</td>\n",
              "      <td>SGP18CL0ME</td>\n",
              "      <td>27-11-17</td>\n",
              "      <td>7:10</td>\n",
              "      <td>Homa Bay</td>\n",
              "      <td>Nairobi</td>\n",
              "      <td>Bus</td>\n",
              "      <td>49</td>\n",
              "    </tr>\n",
              "    <tr>\n",
              "      <th>4</th>\n",
              "      <td>5778</td>\n",
              "      <td>11A</td>\n",
              "      <td>Mpesa</td>\n",
              "      <td>BM97HFRGL9</td>\n",
              "      <td>27-11-17</td>\n",
              "      <td>7:12</td>\n",
              "      <td>Migori</td>\n",
              "      <td>Nairobi</td>\n",
              "      <td>Bus</td>\n",
              "      <td>49</td>\n",
              "    </tr>\n",
              "    <tr>\n",
              "      <th>51640</th>\n",
              "      <td>13826</td>\n",
              "      <td>9B</td>\n",
              "      <td>Mpesa</td>\n",
              "      <td>8V2XDDZR6V</td>\n",
              "      <td>20-04-18</td>\n",
              "      <td>8:00</td>\n",
              "      <td>Awendo</td>\n",
              "      <td>Nairobi</td>\n",
              "      <td>Bus</td>\n",
              "      <td>49</td>\n",
              "    </tr>\n",
              "    <tr>\n",
              "      <th>51641</th>\n",
              "      <td>13809</td>\n",
              "      <td>18A</td>\n",
              "      <td>Mpesa</td>\n",
              "      <td>4PEBSVJSNK</td>\n",
              "      <td>20-04-18</td>\n",
              "      <td>8:00</td>\n",
              "      <td>Migori</td>\n",
              "      <td>Nairobi</td>\n",
              "      <td>Bus</td>\n",
              "      <td>49</td>\n",
              "    </tr>\n",
              "    <tr>\n",
              "      <th>51642</th>\n",
              "      <td>13809</td>\n",
              "      <td>17A</td>\n",
              "      <td>Mpesa</td>\n",
              "      <td>LVN64LZDNN</td>\n",
              "      <td>20-04-18</td>\n",
              "      <td>8:00</td>\n",
              "      <td>Migori</td>\n",
              "      <td>Nairobi</td>\n",
              "      <td>Bus</td>\n",
              "      <td>49</td>\n",
              "    </tr>\n",
              "    <tr>\n",
              "      <th>51643</th>\n",
              "      <td>13796</td>\n",
              "      <td>16B</td>\n",
              "      <td>Mpesa</td>\n",
              "      <td>REYBSKTYWN</td>\n",
              "      <td>20-04-18</td>\n",
              "      <td>7:08</td>\n",
              "      <td>Awendo</td>\n",
              "      <td>Nairobi</td>\n",
              "      <td>Bus</td>\n",
              "      <td>49</td>\n",
              "    </tr>\n",
              "    <tr>\n",
              "      <th>51644</th>\n",
              "      <td>14304</td>\n",
              "      <td>7</td>\n",
              "      <td>Mpesa</td>\n",
              "      <td>AQN7FBUSGP</td>\n",
              "      <td>14-11-17</td>\n",
              "      <td>5:10</td>\n",
              "      <td>Kisii</td>\n",
              "      <td>Nairobi</td>\n",
              "      <td>Bus</td>\n",
              "      <td>49</td>\n",
              "    </tr>\n",
              "  </tbody>\n",
              "</table>\n",
              "</div>\n",
              "      <button class=\"colab-df-convert\" onclick=\"convertToInteractive('df-60c2117c-ac43-4bb7-a603-0ed0672a0cab')\"\n",
              "              title=\"Convert this dataframe to an interactive table.\"\n",
              "              style=\"display:none;\">\n",
              "        \n",
              "  <svg xmlns=\"http://www.w3.org/2000/svg\" height=\"24px\"viewBox=\"0 0 24 24\"\n",
              "       width=\"24px\">\n",
              "    <path d=\"M0 0h24v24H0V0z\" fill=\"none\"/>\n",
              "    <path d=\"M18.56 5.44l.94 2.06.94-2.06 2.06-.94-2.06-.94-.94-2.06-.94 2.06-2.06.94zm-11 1L8.5 8.5l.94-2.06 2.06-.94-2.06-.94L8.5 2.5l-.94 2.06-2.06.94zm10 10l.94 2.06.94-2.06 2.06-.94-2.06-.94-.94-2.06-.94 2.06-2.06.94z\"/><path d=\"M17.41 7.96l-1.37-1.37c-.4-.4-.92-.59-1.43-.59-.52 0-1.04.2-1.43.59L10.3 9.45l-7.72 7.72c-.78.78-.78 2.05 0 2.83L4 21.41c.39.39.9.59 1.41.59.51 0 1.02-.2 1.41-.59l7.78-7.78 2.81-2.81c.8-.78.8-2.07 0-2.86zM5.41 20L4 18.59l7.72-7.72 1.47 1.35L5.41 20z\"/>\n",
              "  </svg>\n",
              "      </button>\n",
              "      \n",
              "  <style>\n",
              "    .colab-df-container {\n",
              "      display:flex;\n",
              "      flex-wrap:wrap;\n",
              "      gap: 12px;\n",
              "    }\n",
              "\n",
              "    .colab-df-convert {\n",
              "      background-color: #E8F0FE;\n",
              "      border: none;\n",
              "      border-radius: 50%;\n",
              "      cursor: pointer;\n",
              "      display: none;\n",
              "      fill: #1967D2;\n",
              "      height: 32px;\n",
              "      padding: 0 0 0 0;\n",
              "      width: 32px;\n",
              "    }\n",
              "\n",
              "    .colab-df-convert:hover {\n",
              "      background-color: #E2EBFA;\n",
              "      box-shadow: 0px 1px 2px rgba(60, 64, 67, 0.3), 0px 1px 3px 1px rgba(60, 64, 67, 0.15);\n",
              "      fill: #174EA6;\n",
              "    }\n",
              "\n",
              "    [theme=dark] .colab-df-convert {\n",
              "      background-color: #3B4455;\n",
              "      fill: #D2E3FC;\n",
              "    }\n",
              "\n",
              "    [theme=dark] .colab-df-convert:hover {\n",
              "      background-color: #434B5C;\n",
              "      box-shadow: 0px 1px 3px 1px rgba(0, 0, 0, 0.15);\n",
              "      filter: drop-shadow(0px 1px 2px rgba(0, 0, 0, 0.3));\n",
              "      fill: #FFFFFF;\n",
              "    }\n",
              "  </style>\n",
              "\n",
              "      <script>\n",
              "        const buttonEl =\n",
              "          document.querySelector('#df-60c2117c-ac43-4bb7-a603-0ed0672a0cab button.colab-df-convert');\n",
              "        buttonEl.style.display =\n",
              "          google.colab.kernel.accessAllowed ? 'block' : 'none';\n",
              "\n",
              "        async function convertToInteractive(key) {\n",
              "          const element = document.querySelector('#df-60c2117c-ac43-4bb7-a603-0ed0672a0cab');\n",
              "          const dataTable =\n",
              "            await google.colab.kernel.invokeFunction('convertToInteractive',\n",
              "                                                     [key], {});\n",
              "          if (!dataTable) return;\n",
              "\n",
              "          const docLinkHtml = 'Like what you see? Visit the ' +\n",
              "            '<a target=\"_blank\" href=https://colab.research.google.com/notebooks/data_table.ipynb>data table notebook</a>'\n",
              "            + ' to learn more about interactive tables.';\n",
              "          element.innerHTML = '';\n",
              "          dataTable['output_type'] = 'display_data';\n",
              "          await google.colab.output.renderOutput(dataTable, element);\n",
              "          const docLink = document.createElement('div');\n",
              "          docLink.innerHTML = docLinkHtml;\n",
              "          element.appendChild(docLink);\n",
              "        }\n",
              "      </script>\n",
              "    </div>\n",
              "  </div>\n",
              "  "
            ]
          },
          "metadata": {},
          "execution_count": 4
        }
      ]
    },
    {
      "cell_type": "markdown",
      "source": [
        "**Lets see the number of records present in the given dataset**"
      ],
      "metadata": {
        "id": "7rYvtPriikM3"
      }
    },
    {
      "cell_type": "code",
      "source": [
        "print('Number of features present in the dataset:{}'.format(transport_df.shape[1]))\n",
        "print('Number of records present in the dataset:{}'.format(transport_df.shape[0]))"
      ],
      "metadata": {
        "colab": {
          "base_uri": "https://localhost:8080/"
        },
        "id": "ahAVIx6givNm",
        "outputId": "ac7affb2-5cf2-44bf-a68e-fe25ed4c0bd1"
      },
      "execution_count": 5,
      "outputs": [
        {
          "output_type": "stream",
          "name": "stdout",
          "text": [
            "Number of features present in the dataset:10\n",
            "Number of records present in the dataset:51645\n"
          ]
        }
      ]
    },
    {
      "cell_type": "markdown",
      "source": [
        "**Features Name present in the dataset**"
      ],
      "metadata": {
        "id": "4NjRgdMqsRgw"
      }
    },
    {
      "cell_type": "code",
      "source": [
        "for i in transport_df.columns:\n",
        "  print(i)"
      ],
      "metadata": {
        "colab": {
          "base_uri": "https://localhost:8080/"
        },
        "id": "hlZrCv3psXml",
        "outputId": "1f41ea9f-bcd9-4d58-cff2-ccebbe28c27e"
      },
      "execution_count": 6,
      "outputs": [
        {
          "output_type": "stream",
          "name": "stdout",
          "text": [
            "ride_id\n",
            "seat_number\n",
            "payment_method\n",
            "payment_receipt\n",
            "travel_date\n",
            "travel_time\n",
            "travel_from\n",
            "travel_to\n",
            "car_type\n",
            "max_capacity\n"
          ]
        }
      ]
    },
    {
      "cell_type": "markdown",
      "source": [
        "**Null Value Detection**"
      ],
      "metadata": {
        "id": "myfm7xHq45fi"
      }
    },
    {
      "cell_type": "code",
      "source": [
        "#detecting null values present in any of the columns\n",
        "transport_df.isnull().sum()"
      ],
      "metadata": {
        "colab": {
          "base_uri": "https://localhost:8080/"
        },
        "id": "IZTHqEe04_ny",
        "outputId": "d537019d-28f2-4466-cc01-b3eef9f36ad0"
      },
      "execution_count": 6,
      "outputs": [
        {
          "output_type": "execute_result",
          "data": {
            "text/plain": [
              "ride_id            0\n",
              "seat_number        0\n",
              "payment_method     0\n",
              "payment_receipt    0\n",
              "travel_date        0\n",
              "travel_time        0\n",
              "travel_from        0\n",
              "travel_to          0\n",
              "car_type           0\n",
              "max_capacity       0\n",
              "dtype: int64"
            ]
          },
          "metadata": {},
          "execution_count": 6
        }
      ]
    },
    {
      "cell_type": "markdown",
      "source": [
        "**Finding:** There is no null value present in any of the features of the dataset."
      ],
      "metadata": {
        "id": "BmBm5OXu5FrA"
      }
    },
    {
      "cell_type": "code",
      "source": [
        "#concise summary of the dataset\n",
        "transport_df.describe(include='object')"
      ],
      "metadata": {
        "colab": {
          "base_uri": "https://localhost:8080/",
          "height": 174
        },
        "id": "qoyUR4Eq5fQl",
        "outputId": "2586b016-b1da-45dd-c0a3-0bb476f011cf"
      },
      "execution_count": 7,
      "outputs": [
        {
          "output_type": "execute_result",
          "data": {
            "text/plain": [
              "       seat_number payment_method payment_receipt travel_date travel_time  \\\n",
              "count        51645          51645           51645       51645       51645   \n",
              "unique          61              2           51645         149          78   \n",
              "top              1          Mpesa      UZUEHCBUSO    10-12-17        7:09   \n",
              "freq          2065          51532               1         856        3926   \n",
              "\n",
              "       travel_from travel_to car_type  \n",
              "count        51645     51645    51645  \n",
              "unique          17         1        2  \n",
              "top          Kisii   Nairobi      Bus  \n",
              "freq         22607     51645    31985  "
            ],
            "text/html": [
              "\n",
              "  <div id=\"df-201ab830-a99d-44de-b294-f23b08873371\">\n",
              "    <div class=\"colab-df-container\">\n",
              "      <div>\n",
              "<style scoped>\n",
              "    .dataframe tbody tr th:only-of-type {\n",
              "        vertical-align: middle;\n",
              "    }\n",
              "\n",
              "    .dataframe tbody tr th {\n",
              "        vertical-align: top;\n",
              "    }\n",
              "\n",
              "    .dataframe thead th {\n",
              "        text-align: right;\n",
              "    }\n",
              "</style>\n",
              "<table border=\"1\" class=\"dataframe\">\n",
              "  <thead>\n",
              "    <tr style=\"text-align: right;\">\n",
              "      <th></th>\n",
              "      <th>seat_number</th>\n",
              "      <th>payment_method</th>\n",
              "      <th>payment_receipt</th>\n",
              "      <th>travel_date</th>\n",
              "      <th>travel_time</th>\n",
              "      <th>travel_from</th>\n",
              "      <th>travel_to</th>\n",
              "      <th>car_type</th>\n",
              "    </tr>\n",
              "  </thead>\n",
              "  <tbody>\n",
              "    <tr>\n",
              "      <th>count</th>\n",
              "      <td>51645</td>\n",
              "      <td>51645</td>\n",
              "      <td>51645</td>\n",
              "      <td>51645</td>\n",
              "      <td>51645</td>\n",
              "      <td>51645</td>\n",
              "      <td>51645</td>\n",
              "      <td>51645</td>\n",
              "    </tr>\n",
              "    <tr>\n",
              "      <th>unique</th>\n",
              "      <td>61</td>\n",
              "      <td>2</td>\n",
              "      <td>51645</td>\n",
              "      <td>149</td>\n",
              "      <td>78</td>\n",
              "      <td>17</td>\n",
              "      <td>1</td>\n",
              "      <td>2</td>\n",
              "    </tr>\n",
              "    <tr>\n",
              "      <th>top</th>\n",
              "      <td>1</td>\n",
              "      <td>Mpesa</td>\n",
              "      <td>UZUEHCBUSO</td>\n",
              "      <td>10-12-17</td>\n",
              "      <td>7:09</td>\n",
              "      <td>Kisii</td>\n",
              "      <td>Nairobi</td>\n",
              "      <td>Bus</td>\n",
              "    </tr>\n",
              "    <tr>\n",
              "      <th>freq</th>\n",
              "      <td>2065</td>\n",
              "      <td>51532</td>\n",
              "      <td>1</td>\n",
              "      <td>856</td>\n",
              "      <td>3926</td>\n",
              "      <td>22607</td>\n",
              "      <td>51645</td>\n",
              "      <td>31985</td>\n",
              "    </tr>\n",
              "  </tbody>\n",
              "</table>\n",
              "</div>\n",
              "      <button class=\"colab-df-convert\" onclick=\"convertToInteractive('df-201ab830-a99d-44de-b294-f23b08873371')\"\n",
              "              title=\"Convert this dataframe to an interactive table.\"\n",
              "              style=\"display:none;\">\n",
              "        \n",
              "  <svg xmlns=\"http://www.w3.org/2000/svg\" height=\"24px\"viewBox=\"0 0 24 24\"\n",
              "       width=\"24px\">\n",
              "    <path d=\"M0 0h24v24H0V0z\" fill=\"none\"/>\n",
              "    <path d=\"M18.56 5.44l.94 2.06.94-2.06 2.06-.94-2.06-.94-.94-2.06-.94 2.06-2.06.94zm-11 1L8.5 8.5l.94-2.06 2.06-.94-2.06-.94L8.5 2.5l-.94 2.06-2.06.94zm10 10l.94 2.06.94-2.06 2.06-.94-2.06-.94-.94-2.06-.94 2.06-2.06.94z\"/><path d=\"M17.41 7.96l-1.37-1.37c-.4-.4-.92-.59-1.43-.59-.52 0-1.04.2-1.43.59L10.3 9.45l-7.72 7.72c-.78.78-.78 2.05 0 2.83L4 21.41c.39.39.9.59 1.41.59.51 0 1.02-.2 1.41-.59l7.78-7.78 2.81-2.81c.8-.78.8-2.07 0-2.86zM5.41 20L4 18.59l7.72-7.72 1.47 1.35L5.41 20z\"/>\n",
              "  </svg>\n",
              "      </button>\n",
              "      \n",
              "  <style>\n",
              "    .colab-df-container {\n",
              "      display:flex;\n",
              "      flex-wrap:wrap;\n",
              "      gap: 12px;\n",
              "    }\n",
              "\n",
              "    .colab-df-convert {\n",
              "      background-color: #E8F0FE;\n",
              "      border: none;\n",
              "      border-radius: 50%;\n",
              "      cursor: pointer;\n",
              "      display: none;\n",
              "      fill: #1967D2;\n",
              "      height: 32px;\n",
              "      padding: 0 0 0 0;\n",
              "      width: 32px;\n",
              "    }\n",
              "\n",
              "    .colab-df-convert:hover {\n",
              "      background-color: #E2EBFA;\n",
              "      box-shadow: 0px 1px 2px rgba(60, 64, 67, 0.3), 0px 1px 3px 1px rgba(60, 64, 67, 0.15);\n",
              "      fill: #174EA6;\n",
              "    }\n",
              "\n",
              "    [theme=dark] .colab-df-convert {\n",
              "      background-color: #3B4455;\n",
              "      fill: #D2E3FC;\n",
              "    }\n",
              "\n",
              "    [theme=dark] .colab-df-convert:hover {\n",
              "      background-color: #434B5C;\n",
              "      box-shadow: 0px 1px 3px 1px rgba(0, 0, 0, 0.15);\n",
              "      filter: drop-shadow(0px 1px 2px rgba(0, 0, 0, 0.3));\n",
              "      fill: #FFFFFF;\n",
              "    }\n",
              "  </style>\n",
              "\n",
              "      <script>\n",
              "        const buttonEl =\n",
              "          document.querySelector('#df-201ab830-a99d-44de-b294-f23b08873371 button.colab-df-convert');\n",
              "        buttonEl.style.display =\n",
              "          google.colab.kernel.accessAllowed ? 'block' : 'none';\n",
              "\n",
              "        async function convertToInteractive(key) {\n",
              "          const element = document.querySelector('#df-201ab830-a99d-44de-b294-f23b08873371');\n",
              "          const dataTable =\n",
              "            await google.colab.kernel.invokeFunction('convertToInteractive',\n",
              "                                                     [key], {});\n",
              "          if (!dataTable) return;\n",
              "\n",
              "          const docLinkHtml = 'Like what you see? Visit the ' +\n",
              "            '<a target=\"_blank\" href=https://colab.research.google.com/notebooks/data_table.ipynb>data table notebook</a>'\n",
              "            + ' to learn more about interactive tables.';\n",
              "          element.innerHTML = '';\n",
              "          dataTable['output_type'] = 'display_data';\n",
              "          await google.colab.output.renderOutput(dataTable, element);\n",
              "          const docLink = document.createElement('div');\n",
              "          docLink.innerHTML = docLinkHtml;\n",
              "          element.appendChild(docLink);\n",
              "        }\n",
              "      </script>\n",
              "    </div>\n",
              "  </div>\n",
              "  "
            ]
          },
          "metadata": {},
          "execution_count": 7
        }
      ]
    },
    {
      "cell_type": "markdown",
      "source": [
        "**Findings:**\n",
        "\n",
        "1. Two type of payment method.\n",
        "2. Only 149 days record is available.\n",
        "3. There are 17 distinct origin.\n",
        "4. There are 2 type of vehicle."
      ],
      "metadata": {
        "id": "O8UfvETT5-tI"
      }
    },
    {
      "cell_type": "markdown",
      "source": [
        "**Type, Null Count, Non Null Count, Unique Count of Features present in the dataset**"
      ],
      "metadata": {
        "id": "qDeBRRWXyqrK"
      }
    },
    {
      "cell_type": "code",
      "source": [
        "def info(dataset):\n",
        "  info_df = pd.DataFrame(columns={'Type','Null Count','Non Null Count','Unique Count'},index=dataset.columns)\n",
        "  info_df['Type'] = dataset.dtypes\n",
        "  info_df['Null Count'] = dataset.isnull().sum()\n",
        "  info_df['Non Null Count'] = len(dataset) - dataset.isnull().sum()\n",
        "  info_df['Unique Count'] = dataset.nunique()\n",
        "  return info_df"
      ],
      "metadata": {
        "id": "Olwpvig6zKAd"
      },
      "execution_count": 8,
      "outputs": []
    },
    {
      "cell_type": "code",
      "source": [
        "info(transport_df)"
      ],
      "metadata": {
        "colab": {
          "base_uri": "https://localhost:8080/",
          "height": 363
        },
        "id": "QI96lik605DS",
        "outputId": "90a9e239-0851-48d1-b131-f2a7dc6e6b4f"
      },
      "execution_count": 9,
      "outputs": [
        {
          "output_type": "execute_result",
          "data": {
            "text/plain": [
              "                   Type  Unique Count  Null Count  Non Null Count\n",
              "ride_id           int64          6249           0           51645\n",
              "seat_number      object            61           0           51645\n",
              "payment_method   object             2           0           51645\n",
              "payment_receipt  object         51645           0           51645\n",
              "travel_date      object           149           0           51645\n",
              "travel_time      object            78           0           51645\n",
              "travel_from      object            17           0           51645\n",
              "travel_to        object             1           0           51645\n",
              "car_type         object             2           0           51645\n",
              "max_capacity      int64             2           0           51645"
            ],
            "text/html": [
              "\n",
              "  <div id=\"df-0588c030-f707-4ec7-8ac8-fb73745d19d2\">\n",
              "    <div class=\"colab-df-container\">\n",
              "      <div>\n",
              "<style scoped>\n",
              "    .dataframe tbody tr th:only-of-type {\n",
              "        vertical-align: middle;\n",
              "    }\n",
              "\n",
              "    .dataframe tbody tr th {\n",
              "        vertical-align: top;\n",
              "    }\n",
              "\n",
              "    .dataframe thead th {\n",
              "        text-align: right;\n",
              "    }\n",
              "</style>\n",
              "<table border=\"1\" class=\"dataframe\">\n",
              "  <thead>\n",
              "    <tr style=\"text-align: right;\">\n",
              "      <th></th>\n",
              "      <th>Type</th>\n",
              "      <th>Unique Count</th>\n",
              "      <th>Null Count</th>\n",
              "      <th>Non Null Count</th>\n",
              "    </tr>\n",
              "  </thead>\n",
              "  <tbody>\n",
              "    <tr>\n",
              "      <th>ride_id</th>\n",
              "      <td>int64</td>\n",
              "      <td>6249</td>\n",
              "      <td>0</td>\n",
              "      <td>51645</td>\n",
              "    </tr>\n",
              "    <tr>\n",
              "      <th>seat_number</th>\n",
              "      <td>object</td>\n",
              "      <td>61</td>\n",
              "      <td>0</td>\n",
              "      <td>51645</td>\n",
              "    </tr>\n",
              "    <tr>\n",
              "      <th>payment_method</th>\n",
              "      <td>object</td>\n",
              "      <td>2</td>\n",
              "      <td>0</td>\n",
              "      <td>51645</td>\n",
              "    </tr>\n",
              "    <tr>\n",
              "      <th>payment_receipt</th>\n",
              "      <td>object</td>\n",
              "      <td>51645</td>\n",
              "      <td>0</td>\n",
              "      <td>51645</td>\n",
              "    </tr>\n",
              "    <tr>\n",
              "      <th>travel_date</th>\n",
              "      <td>object</td>\n",
              "      <td>149</td>\n",
              "      <td>0</td>\n",
              "      <td>51645</td>\n",
              "    </tr>\n",
              "    <tr>\n",
              "      <th>travel_time</th>\n",
              "      <td>object</td>\n",
              "      <td>78</td>\n",
              "      <td>0</td>\n",
              "      <td>51645</td>\n",
              "    </tr>\n",
              "    <tr>\n",
              "      <th>travel_from</th>\n",
              "      <td>object</td>\n",
              "      <td>17</td>\n",
              "      <td>0</td>\n",
              "      <td>51645</td>\n",
              "    </tr>\n",
              "    <tr>\n",
              "      <th>travel_to</th>\n",
              "      <td>object</td>\n",
              "      <td>1</td>\n",
              "      <td>0</td>\n",
              "      <td>51645</td>\n",
              "    </tr>\n",
              "    <tr>\n",
              "      <th>car_type</th>\n",
              "      <td>object</td>\n",
              "      <td>2</td>\n",
              "      <td>0</td>\n",
              "      <td>51645</td>\n",
              "    </tr>\n",
              "    <tr>\n",
              "      <th>max_capacity</th>\n",
              "      <td>int64</td>\n",
              "      <td>2</td>\n",
              "      <td>0</td>\n",
              "      <td>51645</td>\n",
              "    </tr>\n",
              "  </tbody>\n",
              "</table>\n",
              "</div>\n",
              "      <button class=\"colab-df-convert\" onclick=\"convertToInteractive('df-0588c030-f707-4ec7-8ac8-fb73745d19d2')\"\n",
              "              title=\"Convert this dataframe to an interactive table.\"\n",
              "              style=\"display:none;\">\n",
              "        \n",
              "  <svg xmlns=\"http://www.w3.org/2000/svg\" height=\"24px\"viewBox=\"0 0 24 24\"\n",
              "       width=\"24px\">\n",
              "    <path d=\"M0 0h24v24H0V0z\" fill=\"none\"/>\n",
              "    <path d=\"M18.56 5.44l.94 2.06.94-2.06 2.06-.94-2.06-.94-.94-2.06-.94 2.06-2.06.94zm-11 1L8.5 8.5l.94-2.06 2.06-.94-2.06-.94L8.5 2.5l-.94 2.06-2.06.94zm10 10l.94 2.06.94-2.06 2.06-.94-2.06-.94-.94-2.06-.94 2.06-2.06.94z\"/><path d=\"M17.41 7.96l-1.37-1.37c-.4-.4-.92-.59-1.43-.59-.52 0-1.04.2-1.43.59L10.3 9.45l-7.72 7.72c-.78.78-.78 2.05 0 2.83L4 21.41c.39.39.9.59 1.41.59.51 0 1.02-.2 1.41-.59l7.78-7.78 2.81-2.81c.8-.78.8-2.07 0-2.86zM5.41 20L4 18.59l7.72-7.72 1.47 1.35L5.41 20z\"/>\n",
              "  </svg>\n",
              "      </button>\n",
              "      \n",
              "  <style>\n",
              "    .colab-df-container {\n",
              "      display:flex;\n",
              "      flex-wrap:wrap;\n",
              "      gap: 12px;\n",
              "    }\n",
              "\n",
              "    .colab-df-convert {\n",
              "      background-color: #E8F0FE;\n",
              "      border: none;\n",
              "      border-radius: 50%;\n",
              "      cursor: pointer;\n",
              "      display: none;\n",
              "      fill: #1967D2;\n",
              "      height: 32px;\n",
              "      padding: 0 0 0 0;\n",
              "      width: 32px;\n",
              "    }\n",
              "\n",
              "    .colab-df-convert:hover {\n",
              "      background-color: #E2EBFA;\n",
              "      box-shadow: 0px 1px 2px rgba(60, 64, 67, 0.3), 0px 1px 3px 1px rgba(60, 64, 67, 0.15);\n",
              "      fill: #174EA6;\n",
              "    }\n",
              "\n",
              "    [theme=dark] .colab-df-convert {\n",
              "      background-color: #3B4455;\n",
              "      fill: #D2E3FC;\n",
              "    }\n",
              "\n",
              "    [theme=dark] .colab-df-convert:hover {\n",
              "      background-color: #434B5C;\n",
              "      box-shadow: 0px 1px 3px 1px rgba(0, 0, 0, 0.15);\n",
              "      filter: drop-shadow(0px 1px 2px rgba(0, 0, 0, 0.3));\n",
              "      fill: #FFFFFF;\n",
              "    }\n",
              "  </style>\n",
              "\n",
              "      <script>\n",
              "        const buttonEl =\n",
              "          document.querySelector('#df-0588c030-f707-4ec7-8ac8-fb73745d19d2 button.colab-df-convert');\n",
              "        buttonEl.style.display =\n",
              "          google.colab.kernel.accessAllowed ? 'block' : 'none';\n",
              "\n",
              "        async function convertToInteractive(key) {\n",
              "          const element = document.querySelector('#df-0588c030-f707-4ec7-8ac8-fb73745d19d2');\n",
              "          const dataTable =\n",
              "            await google.colab.kernel.invokeFunction('convertToInteractive',\n",
              "                                                     [key], {});\n",
              "          if (!dataTable) return;\n",
              "\n",
              "          const docLinkHtml = 'Like what you see? Visit the ' +\n",
              "            '<a target=\"_blank\" href=https://colab.research.google.com/notebooks/data_table.ipynb>data table notebook</a>'\n",
              "            + ' to learn more about interactive tables.';\n",
              "          element.innerHTML = '';\n",
              "          dataTable['output_type'] = 'display_data';\n",
              "          await google.colab.output.renderOutput(dataTable, element);\n",
              "          const docLink = document.createElement('div');\n",
              "          docLink.innerHTML = docLinkHtml;\n",
              "          element.appendChild(docLink);\n",
              "        }\n",
              "      </script>\n",
              "    </div>\n",
              "  </div>\n",
              "  "
            ]
          },
          "metadata": {},
          "execution_count": 9
        }
      ]
    },
    {
      "cell_type": "markdown",
      "source": [
        "**Findings:**\n",
        "\n",
        "1.    No Null Values are  present in the dataset.\n",
        "2.    Maximum features are of categorical type.\n",
        "3.    Two types of payment method.\n",
        "4.    17 Unique Origin.\n",
        "5.    1 Destination for all Origin\n",
        "6.    2 Types of Vehicle."
      ],
      "metadata": {
        "id": "LCzjGT_A10RZ"
      }
    },
    {
      "cell_type": "markdown",
      "source": [
        "#**EDA**"
      ],
      "metadata": {
        "id": "oIFipfO4dqDL"
      }
    },
    {
      "cell_type": "markdown",
      "source": [
        "**Payment,CarType and Maximum Capacity**"
      ],
      "metadata": {
        "id": "vo_ZMjd_5fbA"
      }
    },
    {
      "cell_type": "code",
      "source": [
        "#count of unique values\n",
        "value_count_cols = ['payment_method','car_type','max_capacity']\n",
        "for value in value_count_cols:\n",
        "  print(transport_df[value].value_counts())"
      ],
      "metadata": {
        "colab": {
          "base_uri": "https://localhost:8080/"
        },
        "id": "4_CVO4Oi5rHk",
        "outputId": "1eaf12b1-2296-4fdc-bf23-afd27d8bb040"
      },
      "execution_count": 10,
      "outputs": [
        {
          "output_type": "stream",
          "name": "stdout",
          "text": [
            "Mpesa    51532\n",
            "Cash       113\n",
            "Name: payment_method, dtype: int64\n",
            "Bus        31985\n",
            "shuttle    19660\n",
            "Name: car_type, dtype: int64\n",
            "49    31985\n",
            "11    19660\n",
            "Name: max_capacity, dtype: int64\n"
          ]
        }
      ]
    },
    {
      "cell_type": "code",
      "source": [
        "plot_count_cols = ['payment_method','car_type','max_capacity']\n",
        "for plots in plot_count_cols:\n",
        "  sns.countplot(transport_df[plots])\n",
        "  plt.show()"
      ],
      "metadata": {
        "colab": {
          "base_uri": "https://localhost:8080/",
          "height": 821
        },
        "id": "n1s7AjIM5-RM",
        "outputId": "1655fc63-692e-43c7-e365-3585fbb18ba7"
      },
      "execution_count": 11,
      "outputs": [
        {
          "output_type": "display_data",
          "data": {
            "text/plain": [
              "<Figure size 432x288 with 1 Axes>"
            ],
            "image/png": "[encoded data removed]"
          },
          "metadata": {
            "needs_background": "light"
          }
        },
        {
          "output_type": "display_data",
          "data": {
            "text/plain": [
              "<Figure size 432x288 with 1 Axes>"
            ],
            "image/png": "[encoded data removed]"
          },
          "metadata": {
            "needs_background": "light"
          }
        },
        {
          "output_type": "display_data",
          "data": {
            "text/plain": [
              "<Figure size 432x288 with 1 Axes>"
            ],
            "image/png": "[encoded data removed]"
          },
          "metadata": {
            "needs_background": "light"
          }
        }
      ]
    },
    {
      "cell_type": "markdown",
      "source": [
        "**Findings:**\n",
        "1. Peoples are highly aware about digital payment. Less prefer to pay in cash.\n",
        "2. Count of Bus is more than Shuttle."
      ],
      "metadata": {
        "id": "JNi6dk2M6ymV"
      }
    },
    {
      "cell_type": "markdown",
      "source": [
        "**Unique Origin**"
      ],
      "metadata": {
        "id": "z5Kw-e-c7Q8G"
      }
    },
    {
      "cell_type": "code",
      "source": [
        "plt.figure(figsize=(10,6))\n",
        "transport_df['travel_from'].value_counts().plot(kind='bar')\n",
        "plt.xticks(rotation=90)"
      ],
      "metadata": {
        "colab": {
          "base_uri": "https://localhost:8080/",
          "height": 465
        },
        "id": "RGkhzT1y7XXD",
        "outputId": "92f7d0a2-d585-444c-f219-e31d4a25c505"
      },
      "execution_count": 12,
      "outputs": [
        {
          "output_type": "execute_result",
          "data": {
            "text/plain": [
              "(array([ 0,  1,  2,  3,  4,  5,  6,  7,  8,  9, 10, 11, 12, 13, 14, 15, 16]),\n",
              " <a list of 17 Text major ticklabel objects>)"
            ]
          },
          "metadata": {},
          "execution_count": 12
        },
        {
          "output_type": "display_data",
          "data": {
            "text/plain": [
              "<Figure size 720x432 with 1 Axes>"
            ],
            "image/png": "[encoded data removed]"
          },
          "metadata": {
            "needs_background": "light"
          }
        }
      ]
    },
    {
      "cell_type": "markdown",
      "source": [
        "**Findings:**\n",
        "1. Some Origins have negligible impact on demand. Showing very less transit between them and Nairobi\n",
        "2. Kisii is the most popular Origin. Having frequent availability of transportation vehicle."
      ],
      "metadata": {
        "id": "SbjWr9XH-vzk"
      }
    },
    {
      "cell_type": "markdown",
      "source": [
        "**Travel Time**"
      ],
      "metadata": {
        "id": "_ShKKI7Kc58b"
      }
    },
    {
      "cell_type": "code",
      "source": [
        "plt.figure(figsize=(15,8))\n",
        "transport_df['travel_time'].value_counts().plot(kind='bar')\n",
        "plt.xticks(rotation=90)\n",
        "plt.show()"
      ],
      "metadata": {
        "colab": {
          "base_uri": "https://localhost:8080/",
          "height": 506
        },
        "id": "LDrI8gbqR9eP",
        "outputId": "c3c1148e-949b-41a8-897e-7a6a04a2716e"
      },
      "execution_count": 13,
      "outputs": [
        {
          "output_type": "display_data",
          "data": {
            "text/plain": [
              "<Figure size 1080x576 with 1 Axes>"
            ],
            "image/png": "[encoded data removed]"
          },
          "metadata": {
            "needs_background": "light"
          }
        }
      ]
    },
    {
      "cell_type": "markdown",
      "source": [
        "**Findings:**\n",
        "\n",
        "1. Public transport is highly available during the morning time till 10 am in the morning.\n",
        "2. There is no public transport during the midnight. \n",
        "3. Last availability is at 11:09 pm in the night.\n",
        "4. There is surge in availability during the evening time may be because of returning back from their respective work."
      ],
      "metadata": {
        "id": "q3c6FL-CeGMM"
      }
    },
    {
      "cell_type": "markdown",
      "source": [
        "##**Determining Target Variable:**\n",
        "\n",
        "Predicting demand of a particular ride means predicting a demand at a particular date and time for a  specific route\n",
        "\n",
        "Now we can understand Demand here as a number of booking made for each ride. For this we will build a new dataset by grouping the rideId and all other features and then aggregating number of seat booked in a given ride. By doing this we will get out target variable in the form of number of booking for a given at a given time and data for a particular route."
      ],
      "metadata": {
        "id": "e_rvYaBHeh0e"
      }
    },
    {
      "cell_type": "markdown",
      "source": [
        "**Dropping features**\n",
        "\n",
        "\n",
        "As **payment_method**,**travel_to** and **max_capacity** will not play any role in determining the demand. Hence we will drop these features."
      ],
      "metadata": {
        "id": "bNt1t2E9j_Ag"
      }
    },
    {
      "cell_type": "code",
      "source": [
        "transform_df = transport_df.groupby(['ride_id','travel_from','travel_date','travel_time','car_type']).agg({\"seat_number\": \"count\"}).reset_index()"
      ],
      "metadata": {
        "id": "Qe2k61zkghVg"
      },
      "execution_count": 33,
      "outputs": []
    },
    {
      "cell_type": "code",
      "source": [
        "transform_df.rename(columns={'seat_number': 'target'},inplace=True)"
      ],
      "metadata": {
        "id": "6gylut0jh5g2"
      },
      "execution_count": 34,
      "outputs": []
    },
    {
      "cell_type": "code",
      "source": [
        "transform_df.head()"
      ],
      "metadata": {
        "colab": {
          "base_uri": "https://localhost:8080/",
          "height": 206
        },
        "id": "G_TcP47shygQ",
        "outputId": "3c25b308-8038-4530-d209-80d4cfa13b1b"
      },
      "execution_count": 35,
      "outputs": [
        {
          "output_type": "execute_result",
          "data": {
            "text/plain": [
              "   ride_id travel_from travel_date travel_time car_type  target\n",
              "0     1442      Migori    17-10-17        7:15      Bus       1\n",
              "1     5437      Migori    19-11-17        7:12      Bus       1\n",
              "2     5710      Keroka    26-11-17        7:05      Bus       1\n",
              "3     5777    Homa Bay    27-11-17        7:10      Bus       5\n",
              "4     5778      Migori    27-11-17        7:12      Bus      31"
            ],
            "text/html": [
              "\n",
              "  <div id=\"df-6f4792e1-d758-4250-b23e-411d45cc299c\">\n",
              "    <div class=\"colab-df-container\">\n",
              "      <div>\n",
              "<style scoped>\n",
              "    .dataframe tbody tr th:only-of-type {\n",
              "        vertical-align: middle;\n",
              "    }\n",
              "\n",
              "    .dataframe tbody tr th {\n",
              "        vertical-align: top;\n",
              "    }\n",
              "\n",
              "    .dataframe thead th {\n",
              "        text-align: right;\n",
              "    }\n",
              "</style>\n",
              "<table border=\"1\" class=\"dataframe\">\n",
              "  <thead>\n",
              "    <tr style=\"text-align: right;\">\n",
              "      <th></th>\n",
              "      <th>ride_id</th>\n",
              "      <th>travel_from</th>\n",
              "      <th>travel_date</th>\n",
              "      <th>travel_time</th>\n",
              "      <th>car_type</th>\n",
              "      <th>target</th>\n",
              "    </tr>\n",
              "  </thead>\n",
              "  <tbody>\n",
              "    <tr>\n",
              "      <th>0</th>\n",
              "      <td>1442</td>\n",
              "      <td>Migori</td>\n",
              "      <td>17-10-17</td>\n",
              "      <td>7:15</td>\n",
              "      <td>Bus</td>\n",
              "      <td>1</td>\n",
              "    </tr>\n",
              "    <tr>\n",
              "      <th>1</th>\n",
              "      <td>5437</td>\n",
              "      <td>Migori</td>\n",
              "      <td>19-11-17</td>\n",
              "      <td>7:12</td>\n",
              "      <td>Bus</td>\n",
              "      <td>1</td>\n",
              "    </tr>\n",
              "    <tr>\n",
              "      <th>2</th>\n",
              "      <td>5710</td>\n",
              "      <td>Keroka</td>\n",
              "      <td>26-11-17</td>\n",
              "      <td>7:05</td>\n",
              "      <td>Bus</td>\n",
              "      <td>1</td>\n",
              "    </tr>\n",
              "    <tr>\n",
              "      <th>3</th>\n",
              "      <td>5777</td>\n",
              "      <td>Homa Bay</td>\n",
              "      <td>27-11-17</td>\n",
              "      <td>7:10</td>\n",
              "      <td>Bus</td>\n",
              "      <td>5</td>\n",
              "    </tr>\n",
              "    <tr>\n",
              "      <th>4</th>\n",
              "      <td>5778</td>\n",
              "      <td>Migori</td>\n",
              "      <td>27-11-17</td>\n",
              "      <td>7:12</td>\n",
              "      <td>Bus</td>\n",
              "      <td>31</td>\n",
              "    </tr>\n",
              "  </tbody>\n",
              "</table>\n",
              "</div>\n",
              "      <button class=\"colab-df-convert\" onclick=\"convertToInteractive('df-6f4792e1-d758-4250-b23e-411d45cc299c')\"\n",
              "              title=\"Convert this dataframe to an interactive table.\"\n",
              "              style=\"display:none;\">\n",
              "        \n",
              "  <svg xmlns=\"http://www.w3.org/2000/svg\" height=\"24px\"viewBox=\"0 0 24 24\"\n",
              "       width=\"24px\">\n",
              "    <path d=\"M0 0h24v24H0V0z\" fill=\"none\"/>\n",
              "    <path d=\"M18.56 5.44l.94 2.06.94-2.06 2.06-.94-2.06-.94-.94-2.06-.94 2.06-2.06.94zm-11 1L8.5 8.5l.94-2.06 2.06-.94-2.06-.94L8.5 2.5l-.94 2.06-2.06.94zm10 10l.94 2.06.94-2.06 2.06-.94-2.06-.94-.94-2.06-.94 2.06-2.06.94z\"/><path d=\"M17.41 7.96l-1.37-1.37c-.4-.4-.92-.59-1.43-.59-.52 0-1.04.2-1.43.59L10.3 9.45l-7.72 7.72c-.78.78-.78 2.05 0 2.83L4 21.41c.39.39.9.59 1.41.59.51 0 1.02-.2 1.41-.59l7.78-7.78 2.81-2.81c.8-.78.8-2.07 0-2.86zM5.41 20L4 18.59l7.72-7.72 1.47 1.35L5.41 20z\"/>\n",
              "  </svg>\n",
              "      </button>\n",
              "      \n",
              "  <style>\n",
              "    .colab-df-container {\n",
              "      display:flex;\n",
              "      flex-wrap:wrap;\n",
              "      gap: 12px;\n",
              "    }\n",
              "\n",
              "    .colab-df-convert {\n",
              "      background-color: #E8F0FE;\n",
              "      border: none;\n",
              "      border-radius: 50%;\n",
              "      cursor: pointer;\n",
              "      display: none;\n",
              "      fill: #1967D2;\n",
              "      height: 32px;\n",
              "      padding: 0 0 0 0;\n",
              "      width: 32px;\n",
              "    }\n",
              "\n",
              "    .colab-df-convert:hover {\n",
              "      background-color: #E2EBFA;\n",
              "      box-shadow: 0px 1px 2px rgba(60, 64, 67, 0.3), 0px 1px 3px 1px rgba(60, 64, 67, 0.15);\n",
              "      fill: #174EA6;\n",
              "    }\n",
              "\n",
              "    [theme=dark] .colab-df-convert {\n",
              "      background-color: #3B4455;\n",
              "      fill: #D2E3FC;\n",
              "    }\n",
              "\n",
              "    [theme=dark] .colab-df-convert:hover {\n",
              "      background-color: #434B5C;\n",
              "      box-shadow: 0px 1px 3px 1px rgba(0, 0, 0, 0.15);\n",
              "      filter: drop-shadow(0px 1px 2px rgba(0, 0, 0, 0.3));\n",
              "      fill: #FFFFFF;\n",
              "    }\n",
              "  </style>\n",
              "\n",
              "      <script>\n",
              "        const buttonEl =\n",
              "          document.querySelector('#df-6f4792e1-d758-4250-b23e-411d45cc299c button.colab-df-convert');\n",
              "        buttonEl.style.display =\n",
              "          google.colab.kernel.accessAllowed ? 'block' : 'none';\n",
              "\n",
              "        async function convertToInteractive(key) {\n",
              "          const element = document.querySelector('#df-6f4792e1-d758-4250-b23e-411d45cc299c');\n",
              "          const dataTable =\n",
              "            await google.colab.kernel.invokeFunction('convertToInteractive',\n",
              "                                                     [key], {});\n",
              "          if (!dataTable) return;\n",
              "\n",
              "          const docLinkHtml = 'Like what you see? Visit the ' +\n",
              "            '<a target=\"_blank\" href=https://colab.research.google.com/notebooks/data_table.ipynb>data table notebook</a>'\n",
              "            + ' to learn more about interactive tables.';\n",
              "          element.innerHTML = '';\n",
              "          dataTable['output_type'] = 'display_data';\n",
              "          await google.colab.output.renderOutput(dataTable, element);\n",
              "          const docLink = document.createElement('div');\n",
              "          docLink.innerHTML = docLinkHtml;\n",
              "          element.appendChild(docLink);\n",
              "        }\n",
              "      </script>\n",
              "    </div>\n",
              "  </div>\n",
              "  "
            ]
          },
          "metadata": {},
          "execution_count": 35
        }
      ]
    },
    {
      "cell_type": "markdown",
      "source": [
        "**Number of duplicate value in the dataset**"
      ],
      "metadata": {
        "id": "EJKcqAAUZ8E1"
      }
    },
    {
      "cell_type": "code",
      "source": [
        "transform_df.duplicated( keep='first').sum()"
      ],
      "metadata": {
        "colab": {
          "base_uri": "https://localhost:8080/"
        },
        "id": "AVm7N8VjZxEp",
        "outputId": "d97b93bd-a7ff-41ee-c6a7-a46b684517bc"
      },
      "execution_count": 36,
      "outputs": [
        {
          "output_type": "execute_result",
          "data": {
            "text/plain": [
              "0"
            ]
          },
          "metadata": {},
          "execution_count": 36
        }
      ]
    },
    {
      "cell_type": "markdown",
      "source": [
        "**Shape of a transform dataframe**"
      ],
      "metadata": {
        "id": "sBFEBR64ABFY"
      }
    },
    {
      "cell_type": "code",
      "source": [
        "#shape of transform dataframe\n",
        "transform_df.shape"
      ],
      "metadata": {
        "colab": {
          "base_uri": "https://localhost:8080/"
        },
        "id": "YVjW-LYYmIaQ",
        "outputId": "c55cc303-2363-4c4f-f399-30f0b99ea09e"
      },
      "execution_count": 37,
      "outputs": [
        {
          "output_type": "execute_result",
          "data": {
            "text/plain": [
              "(6249, 6)"
            ]
          },
          "metadata": {},
          "execution_count": 37
        }
      ]
    },
    {
      "cell_type": "code",
      "source": [
        "#concise summary of dataframe\n",
        "transform_df.info()"
      ],
      "metadata": {
        "colab": {
          "base_uri": "https://localhost:8080/"
        },
        "id": "6LSJf5oa_37G",
        "outputId": "f9251666-1012-40c9-9098-b63ab1157207"
      },
      "execution_count": 38,
      "outputs": [
        {
          "output_type": "stream",
          "name": "stdout",
          "text": [
            "<class 'pandas.core.frame.DataFrame'>\n",
            "RangeIndex: 6249 entries, 0 to 6248\n",
            "Data columns (total 6 columns):\n",
            " #   Column       Non-Null Count  Dtype \n",
            "---  ------       --------------  ----- \n",
            " 0   ride_id      6249 non-null   int64 \n",
            " 1   travel_from  6249 non-null   object\n",
            " 2   travel_date  6249 non-null   object\n",
            " 3   travel_time  6249 non-null   object\n",
            " 4   car_type     6249 non-null   object\n",
            " 5   target       6249 non-null   int64 \n",
            "dtypes: int64(2), object(4)\n",
            "memory usage: 293.0+ KB\n"
          ]
        }
      ]
    },
    {
      "cell_type": "markdown",
      "source": [
        "##**Feature Engineering**"
      ],
      "metadata": {
        "id": "F_1S9oeyXEbt"
      }
    },
    {
      "cell_type": "code",
      "source": [
        "#date column which will be addition of date column and time column\n",
        "transform_df['date'] = transform_df['travel_date']+' '+transform_df['travel_time']"
      ],
      "metadata": {
        "id": "Gu2L5CoGXJpF"
      },
      "execution_count": 39,
      "outputs": []
    },
    {
      "cell_type": "code",
      "source": [
        "def  time_features(df): \n",
        "\n",
        "  '''This function takes dataframe as an argument and extracts the\n",
        "  different features from the date variable of the dataset and finaly returns the updated \n",
        "  dataset'''\n",
        "  \n",
        "  df[\"date\"]=pd.to_datetime(df[\"date\"])\n",
        "  df[\"day_of_week\"]=df[\"date\"].dt.dayofweek\n",
        "  df[\"day_of_month\"]=df[\"date\"].dt.day\n",
        "  df[\"hour\"]=df[\"date\"].dt.hour\n",
        "  df[\"minute\"]=df[\"date\"].dt.minute\n",
        "  df[\"is_weekend\"]=df[\"day_of_week\"].apply( lambda x : 1 if x  in [5,6] else 0 )\n",
        "  df[\"year\"]=df[\"date\"].dt.year\n",
        "  df[\"quarter\"]=df[\"date\"].dt.quarter\n",
        "  df[\"month\"]=df[\"date\"].dt.month\n",
        "  return df"
      ],
      "metadata": {
        "id": "s1f7lKF0Y6AH"
      },
      "execution_count": 40,
      "outputs": []
    },
    {
      "cell_type": "code",
      "source": [
        "time_features(transform_df)"
      ],
      "metadata": {
        "colab": {
          "base_uri": "https://localhost:8080/",
          "height": 423
        },
        "id": "e6LWIW3EZYHL",
        "outputId": "620fe8fc-38ec-4846-8f25-9bf014307739"
      },
      "execution_count": 41,
      "outputs": [
        {
          "output_type": "execute_result",
          "data": {
            "text/plain": [
              "      ride_id travel_from travel_date travel_time car_type  target  \\\n",
              "0        1442      Migori    17-10-17        7:15      Bus       1   \n",
              "1        5437      Migori    19-11-17        7:12      Bus       1   \n",
              "2        5710      Keroka    26-11-17        7:05      Bus       1   \n",
              "3        5777    Homa Bay    27-11-17        7:10      Bus       5   \n",
              "4        5778      Migori    27-11-17        7:12      Bus      31   \n",
              "...       ...         ...         ...         ...      ...     ...   \n",
              "6244    20113       Kisii    07-02-18        7:00  shuttle       9   \n",
              "6245    20114       Kisii    12-12-17        7:10      Bus       4   \n",
              "6246    20115       Kisii    06-12-17        7:10  shuttle       5   \n",
              "6247    20116       Kisii    27-11-17        7:10  shuttle       1   \n",
              "6248    20117       Kisii    27-11-17        5:00      Bus       1   \n",
              "\n",
              "                    date  day_of_week  day_of_month  hour  minute  is_weekend  \\\n",
              "0    2017-10-17 07:15:00            1            17     7      15           0   \n",
              "1    2017-11-19 07:12:00            6            19     7      12           1   \n",
              "2    2017-11-26 07:05:00            6            26     7       5           1   \n",
              "3    2017-11-27 07:10:00            0            27     7      10           0   \n",
              "4    2017-11-27 07:12:00            0            27     7      12           0   \n",
              "...                  ...          ...           ...   ...     ...         ...   \n",
              "6244 2018-07-02 07:00:00            0             2     7       0           0   \n",
              "6245 2017-12-12 07:10:00            1            12     7      10           0   \n",
              "6246 2017-06-12 07:10:00            0            12     7      10           0   \n",
              "6247 2017-11-27 07:10:00            0            27     7      10           0   \n",
              "6248 2017-11-27 05:00:00            0            27     5       0           0   \n",
              "\n",
              "      year  quarter  month  \n",
              "0     2017        4     10  \n",
              "1     2017        4     11  \n",
              "2     2017        4     11  \n",
              "3     2017        4     11  \n",
              "4     2017        4     11  \n",
              "...    ...      ...    ...  \n",
              "6244  2018        3      7  \n",
              "6245  2017        4     12  \n",
              "6246  2017        2      6  \n",
              "6247  2017        4     11  \n",
              "6248  2017        4     11  \n",
              "\n",
              "[6249 rows x 15 columns]"
            ],
            "text/html": [
              "\n",
              "  <div id=\"df-2a39d278-6077-4523-aa36-2c9c2f6d1aff\">\n",
              "    <div class=\"colab-df-container\">\n",
              "      <div>\n",
              "<style scoped>\n",
              "    .dataframe tbody tr th:only-of-type {\n",
              "        vertical-align: middle;\n",
              "    }\n",
              "\n",
              "    .dataframe tbody tr th {\n",
              "        vertical-align: top;\n",
              "    }\n",
              "\n",
              "    .dataframe thead th {\n",
              "        text-align: right;\n",
              "    }\n",
              "</style>\n",
              "<table border=\"1\" class=\"dataframe\">\n",
              "  <thead>\n",
              "    <tr style=\"text-align: right;\">\n",
              "      <th></th>\n",
              "      <th>ride_id</th>\n",
              "      <th>travel_from</th>\n",
              "      <th>travel_date</th>\n",
              "      <th>travel_time</th>\n",
              "      <th>car_type</th>\n",
              "      <th>target</th>\n",
              "      <th>date</th>\n",
              "      <th>day_of_week</th>\n",
              "      <th>day_of_month</th>\n",
              "      <th>hour</th>\n",
              "      <th>minute</th>\n",
              "      <th>is_weekend</th>\n",
              "      <th>year</th>\n",
              "      <th>quarter</th>\n",
              "      <th>month</th>\n",
              "    </tr>\n",
              "  </thead>\n",
              "  <tbody>\n",
              "    <tr>\n",
              "      <th>0</th>\n",
              "      <td>1442</td>\n",
              "      <td>Migori</td>\n",
              "      <td>17-10-17</td>\n",
              "      <td>7:15</td>\n",
              "      <td>Bus</td>\n",
              "      <td>1</td>\n",
              "      <td>2017-10-17 07:15:00</td>\n",
              "      <td>1</td>\n",
              "      <td>17</td>\n",
              "      <td>7</td>\n",
              "      <td>15</td>\n",
              "      <td>0</td>\n",
              "      <td>2017</td>\n",
              "      <td>4</td>\n",
              "      <td>10</td>\n",
              "    </tr>\n",
              "    <tr>\n",
              "      <th>1</th>\n",
              "      <td>5437</td>\n",
              "      <td>Migori</td>\n",
              "      <td>19-11-17</td>\n",
              "      <td>7:12</td>\n",
              "      <td>Bus</td>\n",
              "      <td>1</td>\n",
              "      <td>2017-11-19 07:12:00</td>\n",
              "      <td>6</td>\n",
              "      <td>19</td>\n",
              "      <td>7</td>\n",
              "      <td>12</td>\n",
              "      <td>1</td>\n",
              "      <td>2017</td>\n",
              "      <td>4</td>\n",
              "      <td>11</td>\n",
              "    </tr>\n",
              "    <tr>\n",
              "      <th>2</th>\n",
              "      <td>5710</td>\n",
              "      <td>Keroka</td>\n",
              "      <td>26-11-17</td>\n",
              "      <td>7:05</td>\n",
              "      <td>Bus</td>\n",
              "      <td>1</td>\n",
              "      <td>2017-11-26 07:05:00</td>\n",
              "      <td>6</td>\n",
              "      <td>26</td>\n",
              "      <td>7</td>\n",
              "      <td>5</td>\n",
              "      <td>1</td>\n",
              "      <td>2017</td>\n",
              "      <td>4</td>\n",
              "      <td>11</td>\n",
              "    </tr>\n",
              "    <tr>\n",
              "      <th>3</th>\n",
              "      <td>5777</td>\n",
              "      <td>Homa Bay</td>\n",
              "      <td>27-11-17</td>\n",
              "      <td>7:10</td>\n",
              "      <td>Bus</td>\n",
              "      <td>5</td>\n",
              "      <td>2017-11-27 07:10:00</td>\n",
              "      <td>0</td>\n",
              "      <td>27</td>\n",
              "      <td>7</td>\n",
              "      <td>10</td>\n",
              "      <td>0</td>\n",
              "      <td>2017</td>\n",
              "      <td>4</td>\n",
              "      <td>11</td>\n",
              "    </tr>\n",
              "    <tr>\n",
              "      <th>4</th>\n",
              "      <td>5778</td>\n",
              "      <td>Migori</td>\n",
              "      <td>27-11-17</td>\n",
              "      <td>7:12</td>\n",
              "      <td>Bus</td>\n",
              "      <td>31</td>\n",
              "      <td>2017-11-27 07:12:00</td>\n",
              "      <td>0</td>\n",
              "      <td>27</td>\n",
              "      <td>7</td>\n",
              "      <td>12</td>\n",
              "      <td>0</td>\n",
              "      <td>2017</td>\n",
              "      <td>4</td>\n",
              "      <td>11</td>\n",
              "    </tr>\n",
              "    <tr>\n",
              "      <th>...</th>\n",
              "      <td>...</td>\n",
              "      <td>...</td>\n",
              "      <td>...</td>\n",
              "      <td>...</td>\n",
              "      <td>...</td>\n",
              "      <td>...</td>\n",
              "      <td>...</td>\n",
              "      <td>...</td>\n",
              "      <td>...</td>\n",
              "      <td>...</td>\n",
              "      <td>...</td>\n",
              "      <td>...</td>\n",
              "      <td>...</td>\n",
              "      <td>...</td>\n",
              "      <td>...</td>\n",
              "    </tr>\n",
              "    <tr>\n",
              "      <th>6244</th>\n",
              "      <td>20113</td>\n",
              "      <td>Kisii</td>\n",
              "      <td>07-02-18</td>\n",
              "      <td>7:00</td>\n",
              "      <td>shuttle</td>\n",
              "      <td>9</td>\n",
              "      <td>2018-07-02 07:00:00</td>\n",
              "      <td>0</td>\n",
              "      <td>2</td>\n",
              "      <td>7</td>\n",
              "      <td>0</td>\n",
              "      <td>0</td>\n",
              "      <td>2018</td>\n",
              "      <td>3</td>\n",
              "      <td>7</td>\n",
              "    </tr>\n",
              "    <tr>\n",
              "      <th>6245</th>\n",
              "      <td>20114</td>\n",
              "      <td>Kisii</td>\n",
              "      <td>12-12-17</td>\n",
              "      <td>7:10</td>\n",
              "      <td>Bus</td>\n",
              "      <td>4</td>\n",
              "      <td>2017-12-12 07:10:00</td>\n",
              "      <td>1</td>\n",
              "      <td>12</td>\n",
              "      <td>7</td>\n",
              "      <td>10</td>\n",
              "      <td>0</td>\n",
              "      <td>2017</td>\n",
              "      <td>4</td>\n",
              "      <td>12</td>\n",
              "    </tr>\n",
              "    <tr>\n",
              "      <th>6246</th>\n",
              "      <td>20115</td>\n",
              "      <td>Kisii</td>\n",
              "      <td>06-12-17</td>\n",
              "      <td>7:10</td>\n",
              "      <td>shuttle</td>\n",
              "      <td>5</td>\n",
              "      <td>2017-06-12 07:10:00</td>\n",
              "      <td>0</td>\n",
              "      <td>12</td>\n",
              "      <td>7</td>\n",
              "      <td>10</td>\n",
              "      <td>0</td>\n",
              "      <td>2017</td>\n",
              "      <td>2</td>\n",
              "      <td>6</td>\n",
              "    </tr>\n",
              "    <tr>\n",
              "      <th>6247</th>\n",
              "      <td>20116</td>\n",
              "      <td>Kisii</td>\n",
              "      <td>27-11-17</td>\n",
              "      <td>7:10</td>\n",
              "      <td>shuttle</td>\n",
              "      <td>1</td>\n",
              "      <td>2017-11-27 07:10:00</td>\n",
              "      <td>0</td>\n",
              "      <td>27</td>\n",
              "      <td>7</td>\n",
              "      <td>10</td>\n",
              "      <td>0</td>\n",
              "      <td>2017</td>\n",
              "      <td>4</td>\n",
              "      <td>11</td>\n",
              "    </tr>\n",
              "    <tr>\n",
              "      <th>6248</th>\n",
              "      <td>20117</td>\n",
              "      <td>Kisii</td>\n",
              "      <td>27-11-17</td>\n",
              "      <td>5:00</td>\n",
              "      <td>Bus</td>\n",
              "      <td>1</td>\n",
              "      <td>2017-11-27 05:00:00</td>\n",
              "      <td>0</td>\n",
              "      <td>27</td>\n",
              "      <td>5</td>\n",
              "      <td>0</td>\n",
              "      <td>0</td>\n",
              "      <td>2017</td>\n",
              "      <td>4</td>\n",
              "      <td>11</td>\n",
              "    </tr>\n",
              "  </tbody>\n",
              "</table>\n",
              "<p>6249 rows × 15 columns</p>\n",
              "</div>\n",
              "      <button class=\"colab-df-convert\" onclick=\"convertToInteractive('df-2a39d278-6077-4523-aa36-2c9c2f6d1aff')\"\n",
              "              title=\"Convert this dataframe to an interactive table.\"\n",
              "              style=\"display:none;\">\n",
              "        \n",
              "  <svg xmlns=\"http://www.w3.org/2000/svg\" height=\"24px\"viewBox=\"0 0 24 24\"\n",
              "       width=\"24px\">\n",
              "    <path d=\"M0 0h24v24H0V0z\" fill=\"none\"/>\n",
              "    <path d=\"M18.56 5.44l.94 2.06.94-2.06 2.06-.94-2.06-.94-.94-2.06-.94 2.06-2.06.94zm-11 1L8.5 8.5l.94-2.06 2.06-.94-2.06-.94L8.5 2.5l-.94 2.06-2.06.94zm10 10l.94 2.06.94-2.06 2.06-.94-2.06-.94-.94-2.06-.94 2.06-2.06.94z\"/><path d=\"M17.41 7.96l-1.37-1.37c-.4-.4-.92-.59-1.43-.59-.52 0-1.04.2-1.43.59L10.3 9.45l-7.72 7.72c-.78.78-.78 2.05 0 2.83L4 21.41c.39.39.9.59 1.41.59.51 0 1.02-.2 1.41-.59l7.78-7.78 2.81-2.81c.8-.78.8-2.07 0-2.86zM5.41 20L4 18.59l7.72-7.72 1.47 1.35L5.41 20z\"/>\n",
              "  </svg>\n",
              "      </button>\n",
              "      \n",
              "  <style>\n",
              "    .colab-df-container {\n",
              "      display:flex;\n",
              "      flex-wrap:wrap;\n",
              "      gap: 12px;\n",
              "    }\n",
              "\n",
              "    .colab-df-convert {\n",
              "      background-color: #E8F0FE;\n",
              "      border: none;\n",
              "      border-radius: 50%;\n",
              "      cursor: pointer;\n",
              "      display: none;\n",
              "      fill: #1967D2;\n",
              "      height: 32px;\n",
              "      padding: 0 0 0 0;\n",
              "      width: 32px;\n",
              "    }\n",
              "\n",
              "    .colab-df-convert:hover {\n",
              "      background-color: #E2EBFA;\n",
              "      box-shadow: 0px 1px 2px rgba(60, 64, 67, 0.3), 0px 1px 3px 1px rgba(60, 64, 67, 0.15);\n",
              "      fill: #174EA6;\n",
              "    }\n",
              "\n",
              "    [theme=dark] .colab-df-convert {\n",
              "      background-color: #3B4455;\n",
              "      fill: #D2E3FC;\n",
              "    }\n",
              "\n",
              "    [theme=dark] .colab-df-convert:hover {\n",
              "      background-color: #434B5C;\n",
              "      box-shadow: 0px 1px 3px 1px rgba(0, 0, 0, 0.15);\n",
              "      filter: drop-shadow(0px 1px 2px rgba(0, 0, 0, 0.3));\n",
              "      fill: #FFFFFF;\n",
              "    }\n",
              "  </style>\n",
              "\n",
              "      <script>\n",
              "        const buttonEl =\n",
              "          document.querySelector('#df-2a39d278-6077-4523-aa36-2c9c2f6d1aff button.colab-df-convert');\n",
              "        buttonEl.style.display =\n",
              "          google.colab.kernel.accessAllowed ? 'block' : 'none';\n",
              "\n",
              "        async function convertToInteractive(key) {\n",
              "          const element = document.querySelector('#df-2a39d278-6077-4523-aa36-2c9c2f6d1aff');\n",
              "          const dataTable =\n",
              "            await google.colab.kernel.invokeFunction('convertToInteractive',\n",
              "                                                     [key], {});\n",
              "          if (!dataTable) return;\n",
              "\n",
              "          const docLinkHtml = 'Like what you see? Visit the ' +\n",
              "            '<a target=\"_blank\" href=https://colab.research.google.com/notebooks/data_table.ipynb>data table notebook</a>'\n",
              "            + ' to learn more about interactive tables.';\n",
              "          element.innerHTML = '';\n",
              "          dataTable['output_type'] = 'display_data';\n",
              "          await google.colab.output.renderOutput(dataTable, element);\n",
              "          const docLink = document.createElement('div');\n",
              "          docLink.innerHTML = docLinkHtml;\n",
              "          element.appendChild(docLink);\n",
              "        }\n",
              "      </script>\n",
              "    </div>\n",
              "  </div>\n",
              "  "
            ]
          },
          "metadata": {},
          "execution_count": 41
        }
      ]
    },
    {
      "cell_type": "code",
      "source": [
        "#Calculating boarding time in interger type\n",
        "transform_df['travel_time'] = transform_df['travel_time'].apply(lambda x: x.split(':'))\n",
        "transform_df['travel_time'] = transform_df['travel_time'].apply(lambda x: int(x[0])*60 + int(x[1]))"
      ],
      "metadata": {
        "id": "HQXp9ulINesi"
      },
      "execution_count": 42,
      "outputs": []
    },
    {
      "cell_type": "code",
      "source": [
        "transform_df['boarding_time(hr)'] = transform_df['travel_time'].apply(lambda x: round(x/60,2))"
      ],
      "metadata": {
        "id": "KSOe_2wQaZls"
      },
      "execution_count": 43,
      "outputs": []
    },
    {
      "cell_type": "markdown",
      "source": [
        "**Boarding Period according to boarding time**"
      ],
      "metadata": {
        "id": "pMzrzZIyr8iU"
      }
    },
    {
      "cell_type": "code",
      "source": [
        "#New feature known as boarding period which could be formed with the help of boarding time\n",
        "transform_df['boarding period'] = transform_df['boarding_time(hr)'].apply(lambda x: 'Morning' if (5<x<=11) else('AfterNoon' if (11<x<=17) else('Evening' if (17<x<=23) else 'Night')))"
      ],
      "metadata": {
        "id": "3qyh7hR9r7_4"
      },
      "execution_count": 56,
      "outputs": []
    },
    {
      "cell_type": "code",
      "source": [
        "transform_df['boarding period'].value_counts()"
      ],
      "metadata": {
        "colab": {
          "base_uri": "https://localhost:8080/"
        },
        "id": "s_dGg1s4uEOS",
        "outputId": "9d009992-c187-4d59-db9f-c3b73f0679dc"
      },
      "execution_count": 57,
      "outputs": [
        {
          "output_type": "execute_result",
          "data": {
            "text/plain": [
              "Morning      5730\n",
              "Evening       225\n",
              "Night         222\n",
              "AfterNoon      72\n",
              "Name: boarding period, dtype: int64"
            ]
          },
          "metadata": {},
          "execution_count": 57
        }
      ]
    },
    {
      "cell_type": "code",
      "source": [
        "transform_df.head()"
      ],
      "metadata": {
        "colab": {
          "base_uri": "https://localhost:8080/",
          "height": 461
        },
        "id": "p3X10tVx0RXO",
        "outputId": "6c91edb1-e874-4578-bcbf-31be8c74d42d"
      },
      "execution_count": 50,
      "outputs": [
        {
          "output_type": "execute_result",
          "data": {
            "text/plain": [
              "   ride_id travel_from travel_date  travel_time car_type  target  \\\n",
              "0     1442      Migori    17-10-17          435      Bus       1   \n",
              "1     5437      Migori    19-11-17          432      Bus       1   \n",
              "2     5710      Keroka    26-11-17          425      Bus       1   \n",
              "3     5777    Homa Bay    27-11-17          430      Bus       5   \n",
              "4     5778      Migori    27-11-17          432      Bus      31   \n",
              "\n",
              "                 date  day_of_week  day_of_month  hour  minute  is_weekend  \\\n",
              "0 2017-10-17 07:15:00            1            17     7      15           0   \n",
              "1 2017-11-19 07:12:00            6            19     7      12           1   \n",
              "2 2017-11-26 07:05:00            6            26     7       5           1   \n",
              "3 2017-11-27 07:10:00            0            27     7      10           0   \n",
              "4 2017-11-27 07:12:00            0            27     7      12           0   \n",
              "\n",
              "   year  quarter  month  boarding_time(hr)  travel_from_distance  \\\n",
              "0  2017        4     10               7.25                 370.0   \n",
              "1  2017        4     11               7.20                 370.0   \n",
              "2  2017        4     11               7.08                 280.0   \n",
              "3  2017        4     11               7.17                 360.0   \n",
              "4  2017        4     11               7.20                 370.0   \n",
              "\n",
              "  boarding period  \n",
              "0         Morning  \n",
              "1         Morning  \n",
              "2         Morning  \n",
              "3         Morning  \n",
              "4         Morning  "
            ],
            "text/html": [
              "\n",
              "  <div id=\"df-f6f0b4e9-5118-42a4-b079-99668b3b07d4\">\n",
              "    <div class=\"colab-df-container\">\n",
              "      <div>\n",
              "<style scoped>\n",
              "    .dataframe tbody tr th:only-of-type {\n",
              "        vertical-align: middle;\n",
              "    }\n",
              "\n",
              "    .dataframe tbody tr th {\n",
              "        vertical-align: top;\n",
              "    }\n",
              "\n",
              "    .dataframe thead th {\n",
              "        text-align: right;\n",
              "    }\n",
              "</style>\n",
              "<table border=\"1\" class=\"dataframe\">\n",
              "  <thead>\n",
              "    <tr style=\"text-align: right;\">\n",
              "      <th></th>\n",
              "      <th>ride_id</th>\n",
              "      <th>travel_from</th>\n",
              "      <th>travel_date</th>\n",
              "      <th>travel_time</th>\n",
              "      <th>car_type</th>\n",
              "      <th>target</th>\n",
              "      <th>date</th>\n",
              "      <th>day_of_week</th>\n",
              "      <th>day_of_month</th>\n",
              "      <th>hour</th>\n",
              "      <th>minute</th>\n",
              "      <th>is_weekend</th>\n",
              "      <th>year</th>\n",
              "      <th>quarter</th>\n",
              "      <th>month</th>\n",
              "      <th>boarding_time(hr)</th>\n",
              "      <th>travel_from_distance</th>\n",
              "      <th>boarding period</th>\n",
              "    </tr>\n",
              "  </thead>\n",
              "  <tbody>\n",
              "    <tr>\n",
              "      <th>0</th>\n",
              "      <td>1442</td>\n",
              "      <td>Migori</td>\n",
              "      <td>17-10-17</td>\n",
              "      <td>435</td>\n",
              "      <td>Bus</td>\n",
              "      <td>1</td>\n",
              "      <td>2017-10-17 07:15:00</td>\n",
              "      <td>1</td>\n",
              "      <td>17</td>\n",
              "      <td>7</td>\n",
              "      <td>15</td>\n",
              "      <td>0</td>\n",
              "      <td>2017</td>\n",
              "      <td>4</td>\n",
              "      <td>10</td>\n",
              "      <td>7.25</td>\n",
              "      <td>370.0</td>\n",
              "      <td>Morning</td>\n",
              "    </tr>\n",
              "    <tr>\n",
              "      <th>1</th>\n",
              "      <td>5437</td>\n",
              "      <td>Migori</td>\n",
              "      <td>19-11-17</td>\n",
              "      <td>432</td>\n",
              "      <td>Bus</td>\n",
              "      <td>1</td>\n",
              "      <td>2017-11-19 07:12:00</td>\n",
              "      <td>6</td>\n",
              "      <td>19</td>\n",
              "      <td>7</td>\n",
              "      <td>12</td>\n",
              "      <td>1</td>\n",
              "      <td>2017</td>\n",
              "      <td>4</td>\n",
              "      <td>11</td>\n",
              "      <td>7.20</td>\n",
              "      <td>370.0</td>\n",
              "      <td>Morning</td>\n",
              "    </tr>\n",
              "    <tr>\n",
              "      <th>2</th>\n",
              "      <td>5710</td>\n",
              "      <td>Keroka</td>\n",
              "      <td>26-11-17</td>\n",
              "      <td>425</td>\n",
              "      <td>Bus</td>\n",
              "      <td>1</td>\n",
              "      <td>2017-11-26 07:05:00</td>\n",
              "      <td>6</td>\n",
              "      <td>26</td>\n",
              "      <td>7</td>\n",
              "      <td>5</td>\n",
              "      <td>1</td>\n",
              "      <td>2017</td>\n",
              "      <td>4</td>\n",
              "      <td>11</td>\n",
              "      <td>7.08</td>\n",
              "      <td>280.0</td>\n",
              "      <td>Morning</td>\n",
              "    </tr>\n",
              "    <tr>\n",
              "      <th>3</th>\n",
              "      <td>5777</td>\n",
              "      <td>Homa Bay</td>\n",
              "      <td>27-11-17</td>\n",
              "      <td>430</td>\n",
              "      <td>Bus</td>\n",
              "      <td>5</td>\n",
              "      <td>2017-11-27 07:10:00</td>\n",
              "      <td>0</td>\n",
              "      <td>27</td>\n",
              "      <td>7</td>\n",
              "      <td>10</td>\n",
              "      <td>0</td>\n",
              "      <td>2017</td>\n",
              "      <td>4</td>\n",
              "      <td>11</td>\n",
              "      <td>7.17</td>\n",
              "      <td>360.0</td>\n",
              "      <td>Morning</td>\n",
              "    </tr>\n",
              "    <tr>\n",
              "      <th>4</th>\n",
              "      <td>5778</td>\n",
              "      <td>Migori</td>\n",
              "      <td>27-11-17</td>\n",
              "      <td>432</td>\n",
              "      <td>Bus</td>\n",
              "      <td>31</td>\n",
              "      <td>2017-11-27 07:12:00</td>\n",
              "      <td>0</td>\n",
              "      <td>27</td>\n",
              "      <td>7</td>\n",
              "      <td>12</td>\n",
              "      <td>0</td>\n",
              "      <td>2017</td>\n",
              "      <td>4</td>\n",
              "      <td>11</td>\n",
              "      <td>7.20</td>\n",
              "      <td>370.0</td>\n",
              "      <td>Morning</td>\n",
              "    </tr>\n",
              "  </tbody>\n",
              "</table>\n",
              "</div>\n",
              "      <button class=\"colab-df-convert\" onclick=\"convertToInteractive('df-f6f0b4e9-5118-42a4-b079-99668b3b07d4')\"\n",
              "              title=\"Convert this dataframe to an interactive table.\"\n",
              "              style=\"display:none;\">\n",
              "        \n",
              "  <svg xmlns=\"http://www.w3.org/2000/svg\" height=\"24px\"viewBox=\"0 0 24 24\"\n",
              "       width=\"24px\">\n",
              "    <path d=\"M0 0h24v24H0V0z\" fill=\"none\"/>\n",
              "    <path d=\"M18.56 5.44l.94 2.06.94-2.06 2.06-.94-2.06-.94-.94-2.06-.94 2.06-2.06.94zm-11 1L8.5 8.5l.94-2.06 2.06-.94-2.06-.94L8.5 2.5l-.94 2.06-2.06.94zm10 10l.94 2.06.94-2.06 2.06-.94-2.06-.94-.94-2.06-.94 2.06-2.06.94z\"/><path d=\"M17.41 7.96l-1.37-1.37c-.4-.4-.92-.59-1.43-.59-.52 0-1.04.2-1.43.59L10.3 9.45l-7.72 7.72c-.78.78-.78 2.05 0 2.83L4 21.41c.39.39.9.59 1.41.59.51 0 1.02-.2 1.41-.59l7.78-7.78 2.81-2.81c.8-.78.8-2.07 0-2.86zM5.41 20L4 18.59l7.72-7.72 1.47 1.35L5.41 20z\"/>\n",
              "  </svg>\n",
              "      </button>\n",
              "      \n",
              "  <style>\n",
              "    .colab-df-container {\n",
              "      display:flex;\n",
              "      flex-wrap:wrap;\n",
              "      gap: 12px;\n",
              "    }\n",
              "\n",
              "    .colab-df-convert {\n",
              "      background-color: #E8F0FE;\n",
              "      border: none;\n",
              "      border-radius: 50%;\n",
              "      cursor: pointer;\n",
              "      display: none;\n",
              "      fill: #1967D2;\n",
              "      height: 32px;\n",
              "      padding: 0 0 0 0;\n",
              "      width: 32px;\n",
              "    }\n",
              "\n",
              "    .colab-df-convert:hover {\n",
              "      background-color: #E2EBFA;\n",
              "      box-shadow: 0px 1px 2px rgba(60, 64, 67, 0.3), 0px 1px 3px 1px rgba(60, 64, 67, 0.15);\n",
              "      fill: #174EA6;\n",
              "    }\n",
              "\n",
              "    [theme=dark] .colab-df-convert {\n",
              "      background-color: #3B4455;\n",
              "      fill: #D2E3FC;\n",
              "    }\n",
              "\n",
              "    [theme=dark] .colab-df-convert:hover {\n",
              "      background-color: #434B5C;\n",
              "      box-shadow: 0px 1px 3px 1px rgba(0, 0, 0, 0.15);\n",
              "      filter: drop-shadow(0px 1px 2px rgba(0, 0, 0, 0.3));\n",
              "      fill: #FFFFFF;\n",
              "    }\n",
              "  </style>\n",
              "\n",
              "      <script>\n",
              "        const buttonEl =\n",
              "          document.querySelector('#df-f6f0b4e9-5118-42a4-b079-99668b3b07d4 button.colab-df-convert');\n",
              "        buttonEl.style.display =\n",
              "          google.colab.kernel.accessAllowed ? 'block' : 'none';\n",
              "\n",
              "        async function convertToInteractive(key) {\n",
              "          const element = document.querySelector('#df-f6f0b4e9-5118-42a4-b079-99668b3b07d4');\n",
              "          const dataTable =\n",
              "            await google.colab.kernel.invokeFunction('convertToInteractive',\n",
              "                                                     [key], {});\n",
              "          if (!dataTable) return;\n",
              "\n",
              "          const docLinkHtml = 'Like what you see? Visit the ' +\n",
              "            '<a target=\"_blank\" href=https://colab.research.google.com/notebooks/data_table.ipynb>data table notebook</a>'\n",
              "            + ' to learn more about interactive tables.';\n",
              "          element.innerHTML = '';\n",
              "          dataTable['output_type'] = 'display_data';\n",
              "          await google.colab.output.renderOutput(dataTable, element);\n",
              "          const docLink = document.createElement('div');\n",
              "          docLink.innerHTML = docLinkHtml;\n",
              "          element.appendChild(docLink);\n",
              "        }\n",
              "      </script>\n",
              "    </div>\n",
              "  </div>\n",
              "  "
            ]
          },
          "metadata": {},
          "execution_count": 50
        }
      ]
    },
    {
      "cell_type": "markdown",
      "source": [
        "**Calculating the distance between each of the origin and destination**"
      ],
      "metadata": {
        "id": "lQGk1dNWWwQG"
      }
    },
    {
      "cell_type": "code",
      "source": [
        "distance = {'Migori': 370 , 'Keroka': 280, 'Homa Bay':360, 'Kisii':305.1, 'Keumbu':295, 'Rongo':332,\n",
        "'Kijauri':271, 'Oyugis':330.6, 'Awendo':351, 'Sirare':392, 'Nyachenge':326, 'Kehancha': 387.7,\n",
        "'Kendu Bay':347, 'Sori':399, 'Rodi':348, 'Mbita':401, 'Ndhiwa': 371}\n",
        "transform_df[\"travel_from_distance\"]=transform_df.travel_from.map(distance)"
      ],
      "metadata": {
        "id": "XS8H8446W-WB"
      },
      "execution_count": 45,
      "outputs": []
    },
    {
      "cell_type": "code",
      "source": [
        "transform_df['travel_from_distance'].value_counts().plot(kind='bar')\n",
        "plt.xticks(rotation=90)"
      ],
      "metadata": {
        "colab": {
          "base_uri": "https://localhost:8080/",
          "height": 325
        },
        "id": "_zUsE1kDupYQ",
        "outputId": "762eaf1f-a92a-4c6a-89a6-0bb5587dfec0"
      },
      "execution_count": 60,
      "outputs": [
        {
          "output_type": "execute_result",
          "data": {
            "text/plain": [
              "(array([ 0,  1,  2,  3,  4,  5,  6,  7,  8,  9, 10, 11, 12, 13, 14, 15, 16]),\n",
              " <a list of 17 Text major ticklabel objects>)"
            ]
          },
          "metadata": {},
          "execution_count": 60
        },
        {
          "output_type": "display_data",
          "data": {
            "text/plain": [
              "<Figure size 432x288 with 1 Axes>"
            ],
            "image/png": "[encoded data removed]"
          },
          "metadata": {
            "needs_background": "light"
          }
        }
      ]
    },
    {
      "cell_type": "code",
      "source": [
        "#TIME FEATURES\n",
        "time_features = ['day_of_week','month','quarter','is_weekend','boarding_time(hr)','day_of_month']"
      ],
      "metadata": {
        "id": "vHNFbjWRWccK"
      },
      "execution_count": 53,
      "outputs": []
    },
    {
      "cell_type": "code",
      "source": [
        "for i in time_features:\n",
        "  sns.regplot(x=transform_df[i],y=transform_df['target'])\n",
        "  plt.show()"
      ],
      "metadata": {
        "colab": {
          "base_uri": "https://localhost:8080/",
          "height": 1000
        },
        "id": "yxsPss6yWsdK",
        "outputId": "00009ff5-a227-4553-808a-29632c02d685"
      },
      "execution_count": 54,
      "outputs": [
        {
          "output_type": "display_data",
          "data": {
            "text/plain": [
              "<Figure size 432x288 with 1 Axes>"
            ],
            "image/png": "[encoded data removed]"
          },
          "metadata": {
            "needs_background": "light"
          }
        },
        {
          "output_type": "display_data",
          "data": {
            "text/plain": [
              "<Figure size 432x288 with 1 Axes>"
            ],
            "image/png": "[encoded data removed]"
          },
          "metadata": {
            "needs_background": "light"
          }
        },
        {
          "output_type": "display_data",
          "data": {
            "text/plain": [
              "<Figure size 432x288 with 1 Axes>"
            ],
            "image/png": "[encoded data removed]"
          },
          "metadata": {
            "needs_background": "light"
          }
        },
        {
          "output_type": "display_data",
          "data": {
            "text/plain": [
              "<Figure size 432x288 with 1 Axes>"
            ],
            "image/png": "[encoded data removed]"
          },
          "metadata": {
            "needs_background": "light"
          }
        },
        {
          "output_type": "display_data",
          "data": {
            "text/plain": [
              "<Figure size 432x288 with 1 Axes>"
            ],
            "image/png": "[encoded data removed]"
          },
          "metadata": {
            "needs_background": "light"
          }
        },
        {
          "output_type": "display_data",
          "data": {
            "text/plain": [
              "<Figure size 432x288 with 1 Axes>"
            ],
            "image/png": "[encoded data removed]"
          },
          "metadata": {
            "needs_background": "light"
          }
        }
      ]
    },
    {
      "cell_type": "markdown",
      "source": [
        "**Mean Encoding boarding_time(hr)**"
      ],
      "metadata": {
        "id": "OTo6XBUu1RDd"
      }
    },
    {
      "cell_type": "code",
      "source": [
        "#mean encoding boarding time\n",
        "mean = transform_df['target'].mean()\n",
        "mean_encode = transform_df.groupby(['boarding_time(hr)'])['target'].agg(['count','mean'])\n",
        "counts = mean_encode['count']\n",
        "means = mean_encode['mean']\n",
        "weight = 100\n",
        "smooth = (counts*means + weight*mean)/(counts+weight)\n",
        "print(smooth)\n",
        "transform_df.loc[:,'mean_of_bookingTime'] = transform_df['boarding_time(hr)'].map(smooth)"
      ],
      "metadata": {
        "id": "LsScxJA01Wko",
        "colab": {
          "base_uri": "https://localhost:8080/"
        },
        "outputId": "81d132d0-3ffc-417f-8179-ecccfeaeacf1"
      },
      "execution_count": 61,
      "outputs": [
        {
          "output_type": "stream",
          "name": "stdout",
          "text": [
            "boarding_time(hr)\n",
            "5.00      4.653074\n",
            "5.17      6.234193\n",
            "5.33      6.846093\n",
            "5.50      5.488931\n",
            "5.67      6.478367\n",
            "           ...    \n",
            "19.08     8.267618\n",
            "19.10     8.617246\n",
            "19.12    19.676953\n",
            "23.15     8.587102\n",
            "23.17     7.903917\n",
            "Length: 78, dtype: float64\n"
          ]
        }
      ]
    },
    {
      "cell_type": "markdown",
      "source": [
        "**Encoding travel from**"
      ],
      "metadata": {
        "id": "34weisoX9l0C"
      }
    },
    {
      "cell_type": "code",
      "source": [
        "#mean encoding for travel from feature\n",
        "mean = transform_df['target'].mean()\n",
        "mean_encode = transform_df.groupby(['travel_from'])['target'].agg(['count','mean'])\n",
        "counts = mean_encode['count']\n",
        "means = mean_encode['mean']\n",
        "weight = 100\n",
        "smooth = (counts*means + weight*mean)/(counts+weight)\n",
        "print(smooth)\n",
        "transform_df.loc[:,'mean_travel_from'] = transform_df['travel_from'].map(smooth)\n"
      ],
      "metadata": {
        "colab": {
          "base_uri": "https://localhost:8080/"
        },
        "id": "FXVZvZgGY0ss",
        "outputId": "a66d125b-fe53-4c2e-fac2-c58c3b57ac55"
      },
      "execution_count": 62,
      "outputs": [
        {
          "output_type": "stream",
          "name": "stdout",
          "text": [
            "travel_from\n",
            "Awendo        9.173517\n",
            "Homa Bay     15.636957\n",
            "Kehancha     10.056810\n",
            "Kendu Bay     8.192596\n",
            "Keroka        4.404010\n",
            "Keumbu        7.070435\n",
            "Kijauri       2.831482\n",
            "Kisii         7.510722\n",
            "Mbita         9.954151\n",
            "Migori       16.159367\n",
            "Ndhiwa        8.708625\n",
            "Nyachenge     4.521798\n",
            "Oyugis        8.151492\n",
            "Rodi          8.155313\n",
            "Rongo         5.673571\n",
            "Sirare       18.128702\n",
            "Sori          7.345435\n",
            "dtype: float64\n"
          ]
        }
      ]
    },
    {
      "cell_type": "markdown",
      "source": [
        "**Encoding day of month**"
      ],
      "metadata": {
        "id": "JWFhmtLWDVgA"
      }
    },
    {
      "cell_type": "code",
      "source": [
        "#mean encoding for day of month\n",
        "mean = transform_df['target'].mean()\n",
        "mean_encode = transform_df.groupby(['day_of_month'])['target'].agg(['count','mean'])\n",
        "counts = mean_encode['count']\n",
        "means = mean_encode['mean']\n",
        "weight = 100\n",
        "smooth = (counts*means + weight*mean)/(counts+weight)\n",
        "print(smooth)\n",
        "transform_df.loc[:,'mean_day_of_month'] = transform_df['day_of_month'].map(smooth)\n"
      ],
      "metadata": {
        "colab": {
          "base_uri": "https://localhost:8080/"
        },
        "id": "hCC2zAoQDbGa",
        "outputId": "cece7e42-91ac-4649-8d16-018ace922ade"
      },
      "execution_count": 63,
      "outputs": [
        {
          "output_type": "stream",
          "name": "stdout",
          "text": [
            "day_of_month\n",
            "1     8.290061\n",
            "2     8.029097\n",
            "3     8.837223\n",
            "4     8.491671\n",
            "12    8.064270\n",
            "13    9.050006\n",
            "14    8.675655\n",
            "15    8.650007\n",
            "16    8.226190\n",
            "17    8.189166\n",
            "18    8.602614\n",
            "19    8.667031\n",
            "20    8.206795\n",
            "21    8.263082\n",
            "22    8.025521\n",
            "23    8.411012\n",
            "24    7.495579\n",
            "25    7.670675\n",
            "26    7.688419\n",
            "27    8.514166\n",
            "28    8.245281\n",
            "29    7.803077\n",
            "30    6.865973\n",
            "31    7.606522\n",
            "dtype: float64\n"
          ]
        }
      ]
    },
    {
      "cell_type": "markdown",
      "source": [
        "**Mean Encoding isWeekend**"
      ],
      "metadata": {
        "id": "bq40ZATean35"
      }
    },
    {
      "cell_type": "code",
      "source": [
        "mean = transform_df['target'].mean()\n",
        "mean_encode = transform_df.groupby(['is_weekend'])['target'].agg(['count','mean'])\n",
        "counts = mean_encode['count']\n",
        "means = mean_encode['mean']\n",
        "weight = 100\n",
        "smooth = (counts*means + weight*mean)/(counts+weight)\n",
        "print(smooth)\n",
        "transform_df.loc[:,'mean_isWeekend'] = transform_df['is_weekend'].map(smooth)\n"
      ],
      "metadata": {
        "colab": {
          "base_uri": "https://localhost:8080/"
        },
        "id": "vT-4LoivauRi",
        "outputId": "609258da-655d-473b-9545-e86106009854"
      },
      "execution_count": 64,
      "outputs": [
        {
          "output_type": "stream",
          "name": "stdout",
          "text": [
            "is_weekend\n",
            "0    8.280239\n",
            "1    8.220793\n",
            "dtype: float64\n"
          ]
        }
      ]
    },
    {
      "cell_type": "markdown",
      "source": [
        "**Mean Encoding Quarter**"
      ],
      "metadata": {
        "id": "5rx0r8jMdGvd"
      }
    },
    {
      "cell_type": "code",
      "source": [
        "mean = transform_df['target'].mean()\n",
        "mean_encode = transform_df.groupby(['quarter'])['target'].agg(['count','mean'])\n",
        "counts = mean_encode['count']\n",
        "means = mean_encode['mean']\n",
        "weight = 100\n",
        "smooth = (counts*means + weight*mean)/(counts+weight)\n",
        "print(smooth)\n",
        "transform_df.loc[:,'mean_quarter'] = transform_df['quarter'].map(smooth)"
      ],
      "metadata": {
        "colab": {
          "base_uri": "https://localhost:8080/"
        },
        "id": "1F1DJwNibYH8",
        "outputId": "9e82cef7-4da8-41f7-c599-1f4ece2b4665"
      },
      "execution_count": 65,
      "outputs": [
        {
          "output_type": "stream",
          "name": "stdout",
          "text": [
            "quarter\n",
            "1    7.908416\n",
            "2    8.509633\n",
            "3    8.548388\n",
            "4    8.532000\n",
            "dtype: float64\n"
          ]
        }
      ]
    },
    {
      "cell_type": "markdown",
      "source": [
        "**Mean Encoding CarType**"
      ],
      "metadata": {
        "id": "MGPGhLv1b9Je"
      }
    },
    {
      "cell_type": "code",
      "source": [
        "mean = transform_df['target'].mean()\n",
        "mean_encode = transform_df.groupby(['car_type'])['target'].agg(['count','mean'])\n",
        "counts = mean_encode['count']\n",
        "means = mean_encode['mean']\n",
        "weight = 100\n",
        "smooth = (counts*means + weight*mean)/(counts+weight)\n",
        "print(smooth)\n",
        "transform_df.loc[:,'mean_carType'] = transform_df['car_type'].map(smooth)"
      ],
      "metadata": {
        "colab": {
          "base_uri": "https://localhost:8080/"
        },
        "id": "CqyKQAEscMfz",
        "outputId": "74e4edf7-6c51-49ad-a4aa-8f35a8584c32"
      },
      "execution_count": 66,
      "outputs": [
        {
          "output_type": "stream",
          "name": "stdout",
          "text": [
            "car_type\n",
            "Bus        9.976118\n",
            "shuttle    6.483055\n",
            "dtype: float64\n"
          ]
        }
      ]
    },
    {
      "cell_type": "markdown",
      "source": [
        "**Mean Encoding Month**"
      ],
      "metadata": {
        "id": "1PuJYqF7cnLp"
      }
    },
    {
      "cell_type": "code",
      "source": [
        "mean = transform_df['target'].mean()\n",
        "mean_encode = transform_df.groupby(['month'])['target'].agg(['count','mean'])\n",
        "counts = mean_encode['count']\n",
        "means = mean_encode['mean']\n",
        "weight = 100\n",
        "smooth = (counts*means + weight*mean)/(counts+weight)\n",
        "print(smooth)\n",
        "transform_df.loc[:,'mean_month'] = transform_df['month'].map(smooth)"
      ],
      "metadata": {
        "colab": {
          "base_uri": "https://localhost:8080/"
        },
        "id": "zUEbvY2wcqQq",
        "outputId": "d81cc0f3-4d82-458f-cbf2-f49276b75fc4"
      },
      "execution_count": 67,
      "outputs": [
        {
          "output_type": "stream",
          "name": "stdout",
          "text": [
            "month\n",
            "1     8.137000\n",
            "2     8.329449\n",
            "3     7.264903\n",
            "4     8.446360\n",
            "5     8.450167\n",
            "6     8.552161\n",
            "7     8.408057\n",
            "8     8.650861\n",
            "9     8.429426\n",
            "10    8.203032\n",
            "11    7.617611\n",
            "12    8.993437\n",
            "dtype: float64\n"
          ]
        }
      ]
    },
    {
      "cell_type": "markdown",
      "source": [
        "**Mean Encoding boarding Period**"
      ],
      "metadata": {
        "id": "uO8RRaFfvxLw"
      }
    },
    {
      "cell_type": "code",
      "source": [
        "mean = transform_df['target'].mean()\n",
        "mean_encode = transform_df.groupby(['boarding period'])['target'].agg(['count','mean'])\n",
        "counts = mean_encode['count']\n",
        "means = mean_encode['mean']\n",
        "weight = 100\n",
        "smooth = (counts*means + weight*mean)/(counts+weight)\n",
        "print(smooth)\n",
        "transform_df.loc[:,'mean_boardingPeriod'] = transform_df['boarding period'].map(smooth)"
      ],
      "metadata": {
        "colab": {
          "base_uri": "https://localhost:8080/"
        },
        "id": "PxkeTgoevwAU",
        "outputId": "e2211721-db0d-4101-fb3d-9a9f13377816"
      },
      "execution_count": 70,
      "outputs": [
        {
          "output_type": "stream",
          "name": "stdout",
          "text": [
            "boarding period\n",
            "AfterNoon     7.770071\n",
            "Evening      15.986007\n",
            "Morning       8.012427\n",
            "Night         5.299541\n",
            "dtype: float64\n"
          ]
        }
      ]
    },
    {
      "cell_type": "code",
      "source": [
        "transform_df.head(2)"
      ],
      "metadata": {
        "colab": {
          "base_uri": "https://localhost:8080/",
          "height": 292
        },
        "id": "cy3mPsX1dSFT",
        "outputId": "d96e31ec-14fb-4dc5-b0ec-a7258afa35f8"
      },
      "execution_count": 71,
      "outputs": [
        {
          "output_type": "execute_result",
          "data": {
            "text/plain": [
              "   ride_id travel_from travel_date  travel_time car_type  target  \\\n",
              "0     1442      Migori    17-10-17          435      Bus       1   \n",
              "1     5437      Migori    19-11-17          432      Bus       1   \n",
              "\n",
              "                 date  day_of_week  day_of_month  hour  ...  \\\n",
              "0 2017-10-17 07:15:00            1            17     7  ...   \n",
              "1 2017-11-19 07:12:00            6            19     7  ...   \n",
              "\n",
              "   travel_from_distance  boarding period  mean_of_bookingTime  \\\n",
              "0                 370.0          Morning            11.132780   \n",
              "1                 370.0          Morning            16.858889   \n",
              "\n",
              "   mean_travel_from  mean_day_of_month  mean_isWeekend  mean_quarter  \\\n",
              "0         16.159367           8.189166        8.280239         8.532   \n",
              "1         16.159367           8.667031        8.220793         8.532   \n",
              "\n",
              "  mean_carType  mean_month  mean_boardingPeriod  \n",
              "0     9.976118    8.203032             8.012427  \n",
              "1     9.976118    7.617611             8.012427  \n",
              "\n",
              "[2 rows x 26 columns]"
            ],
            "text/html": [
              "\n",
              "  <div id=\"df-e5356e9c-f986-4b2e-aacf-a9026cd720e8\">\n",
              "    <div class=\"colab-df-container\">\n",
              "      <div>\n",
              "<style scoped>\n",
              "    .dataframe tbody tr th:only-of-type {\n",
              "        vertical-align: middle;\n",
              "    }\n",
              "\n",
              "    .dataframe tbody tr th {\n",
              "        vertical-align: top;\n",
              "    }\n",
              "\n",
              "    .dataframe thead th {\n",
              "        text-align: right;\n",
              "    }\n",
              "</style>\n",
              "<table border=\"1\" class=\"dataframe\">\n",
              "  <thead>\n",
              "    <tr style=\"text-align: right;\">\n",
              "      <th></th>\n",
              "      <th>ride_id</th>\n",
              "      <th>travel_from</th>\n",
              "      <th>travel_date</th>\n",
              "      <th>travel_time</th>\n",
              "      <th>car_type</th>\n",
              "      <th>target</th>\n",
              "      <th>date</th>\n",
              "      <th>day_of_week</th>\n",
              "      <th>day_of_month</th>\n",
              "      <th>hour</th>\n",
              "      <th>...</th>\n",
              "      <th>travel_from_distance</th>\n",
              "      <th>boarding period</th>\n",
              "      <th>mean_of_bookingTime</th>\n",
              "      <th>mean_travel_from</th>\n",
              "      <th>mean_day_of_month</th>\n",
              "      <th>mean_isWeekend</th>\n",
              "      <th>mean_quarter</th>\n",
              "      <th>mean_carType</th>\n",
              "      <th>mean_month</th>\n",
              "      <th>mean_boardingPeriod</th>\n",
              "    </tr>\n",
              "  </thead>\n",
              "  <tbody>\n",
              "    <tr>\n",
              "      <th>0</th>\n",
              "      <td>1442</td>\n",
              "      <td>Migori</td>\n",
              "      <td>17-10-17</td>\n",
              "      <td>435</td>\n",
              "      <td>Bus</td>\n",
              "      <td>1</td>\n",
              "      <td>2017-10-17 07:15:00</td>\n",
              "      <td>1</td>\n",
              "      <td>17</td>\n",
              "      <td>7</td>\n",
              "      <td>...</td>\n",
              "      <td>370.0</td>\n",
              "      <td>Morning</td>\n",
              "      <td>11.132780</td>\n",
              "      <td>16.159367</td>\n",
              "      <td>8.189166</td>\n",
              "      <td>8.280239</td>\n",
              "      <td>8.532</td>\n",
              "      <td>9.976118</td>\n",
              "      <td>8.203032</td>\n",
              "      <td>8.012427</td>\n",
              "    </tr>\n",
              "    <tr>\n",
              "      <th>1</th>\n",
              "      <td>5437</td>\n",
              "      <td>Migori</td>\n",
              "      <td>19-11-17</td>\n",
              "      <td>432</td>\n",
              "      <td>Bus</td>\n",
              "      <td>1</td>\n",
              "      <td>2017-11-19 07:12:00</td>\n",
              "      <td>6</td>\n",
              "      <td>19</td>\n",
              "      <td>7</td>\n",
              "      <td>...</td>\n",
              "      <td>370.0</td>\n",
              "      <td>Morning</td>\n",
              "      <td>16.858889</td>\n",
              "      <td>16.159367</td>\n",
              "      <td>8.667031</td>\n",
              "      <td>8.220793</td>\n",
              "      <td>8.532</td>\n",
              "      <td>9.976118</td>\n",
              "      <td>7.617611</td>\n",
              "      <td>8.012427</td>\n",
              "    </tr>\n",
              "  </tbody>\n",
              "</table>\n",
              "<p>2 rows × 26 columns</p>\n",
              "</div>\n",
              "      <button class=\"colab-df-convert\" onclick=\"convertToInteractive('df-e5356e9c-f986-4b2e-aacf-a9026cd720e8')\"\n",
              "              title=\"Convert this dataframe to an interactive table.\"\n",
              "              style=\"display:none;\">\n",
              "        \n",
              "  <svg xmlns=\"http://www.w3.org/2000/svg\" height=\"24px\"viewBox=\"0 0 24 24\"\n",
              "       width=\"24px\">\n",
              "    <path d=\"M0 0h24v24H0V0z\" fill=\"none\"/>\n",
              "    <path d=\"M18.56 5.44l.94 2.06.94-2.06 2.06-.94-2.06-.94-.94-2.06-.94 2.06-2.06.94zm-11 1L8.5 8.5l.94-2.06 2.06-.94-2.06-.94L8.5 2.5l-.94 2.06-2.06.94zm10 10l.94 2.06.94-2.06 2.06-.94-2.06-.94-.94-2.06-.94 2.06-2.06.94z\"/><path d=\"M17.41 7.96l-1.37-1.37c-.4-.4-.92-.59-1.43-.59-.52 0-1.04.2-1.43.59L10.3 9.45l-7.72 7.72c-.78.78-.78 2.05 0 2.83L4 21.41c.39.39.9.59 1.41.59.51 0 1.02-.2 1.41-.59l7.78-7.78 2.81-2.81c.8-.78.8-2.07 0-2.86zM5.41 20L4 18.59l7.72-7.72 1.47 1.35L5.41 20z\"/>\n",
              "  </svg>\n",
              "      </button>\n",
              "      \n",
              "  <style>\n",
              "    .colab-df-container {\n",
              "      display:flex;\n",
              "      flex-wrap:wrap;\n",
              "      gap: 12px;\n",
              "    }\n",
              "\n",
              "    .colab-df-convert {\n",
              "      background-color: #E8F0FE;\n",
              "      border: none;\n",
              "      border-radius: 50%;\n",
              "      cursor: pointer;\n",
              "      display: none;\n",
              "      fill: #1967D2;\n",
              "      height: 32px;\n",
              "      padding: 0 0 0 0;\n",
              "      width: 32px;\n",
              "    }\n",
              "\n",
              "    .colab-df-convert:hover {\n",
              "      background-color: #E2EBFA;\n",
              "      box-shadow: 0px 1px 2px rgba(60, 64, 67, 0.3), 0px 1px 3px 1px rgba(60, 64, 67, 0.15);\n",
              "      fill: #174EA6;\n",
              "    }\n",
              "\n",
              "    [theme=dark] .colab-df-convert {\n",
              "      background-color: #3B4455;\n",
              "      fill: #D2E3FC;\n",
              "    }\n",
              "\n",
              "    [theme=dark] .colab-df-convert:hover {\n",
              "      background-color: #434B5C;\n",
              "      box-shadow: 0px 1px 3px 1px rgba(0, 0, 0, 0.15);\n",
              "      filter: drop-shadow(0px 1px 2px rgba(0, 0, 0, 0.3));\n",
              "      fill: #FFFFFF;\n",
              "    }\n",
              "  </style>\n",
              "\n",
              "      <script>\n",
              "        const buttonEl =\n",
              "          document.querySelector('#df-e5356e9c-f986-4b2e-aacf-a9026cd720e8 button.colab-df-convert');\n",
              "        buttonEl.style.display =\n",
              "          google.colab.kernel.accessAllowed ? 'block' : 'none';\n",
              "\n",
              "        async function convertToInteractive(key) {\n",
              "          const element = document.querySelector('#df-e5356e9c-f986-4b2e-aacf-a9026cd720e8');\n",
              "          const dataTable =\n",
              "            await google.colab.kernel.invokeFunction('convertToInteractive',\n",
              "                                                     [key], {});\n",
              "          if (!dataTable) return;\n",
              "\n",
              "          const docLinkHtml = 'Like what you see? Visit the ' +\n",
              "            '<a target=\"_blank\" href=https://colab.research.google.com/notebooks/data_table.ipynb>data table notebook</a>'\n",
              "            + ' to learn more about interactive tables.';\n",
              "          element.innerHTML = '';\n",
              "          dataTable['output_type'] = 'display_data';\n",
              "          await google.colab.output.renderOutput(dataTable, element);\n",
              "          const docLink = document.createElement('div');\n",
              "          docLink.innerHTML = docLinkHtml;\n",
              "          element.appendChild(docLink);\n",
              "        }\n",
              "      </script>\n",
              "    </div>\n",
              "  </div>\n",
              "  "
            ]
          },
          "metadata": {},
          "execution_count": 71
        }
      ]
    },
    {
      "cell_type": "markdown",
      "source": [
        "**Dropping Features**"
      ],
      "metadata": {
        "id": "oFWbevaDbH6U"
      }
    },
    {
      "cell_type": "code",
      "source": [
        "drop_features = ['ride_id','travel_from','travel_date','travel_time','car_type','date','day_of_week','day_of_month','hour','boarding period','minute','month','boarding_time(hr)','is_weekend','quarter','year']"
      ],
      "metadata": {
        "id": "itDgK6uwdLCB"
      },
      "execution_count": 109,
      "outputs": []
    },
    {
      "cell_type": "code",
      "source": [
        "final_df = transform_df.copy()"
      ],
      "metadata": {
        "id": "-DWFFT6GfX0O"
      },
      "execution_count": 110,
      "outputs": []
    },
    {
      "cell_type": "code",
      "source": [
        "final_df.drop(drop_features,axis=1,inplace=True)"
      ],
      "metadata": {
        "id": "SJ8olN9pfd4L"
      },
      "execution_count": 111,
      "outputs": []
    },
    {
      "cell_type": "code",
      "source": [
        "final_df.head()"
      ],
      "metadata": {
        "colab": {
          "base_uri": "https://localhost:8080/",
          "height": 206
        },
        "id": "Rg-eqcAKgHww",
        "outputId": "c63f1ddf-3cea-4833-ddd3-f7a27d8544bf"
      },
      "execution_count": 112,
      "outputs": [
        {
          "output_type": "execute_result",
          "data": {
            "text/plain": [
              "   target  travel_from_distance  mean_of_bookingTime  mean_travel_from  \\\n",
              "0       1                 370.0            11.132780         16.159367   \n",
              "1       1                 370.0            16.858889         16.159367   \n",
              "2       1                 280.0             7.126645          4.404010   \n",
              "3       5                 360.0             6.043359         15.636957   \n",
              "4      31                 370.0            16.858889         16.159367   \n",
              "\n",
              "   mean_day_of_month  mean_isWeekend  mean_quarter  mean_carType  mean_month  \\\n",
              "0           8.189166        8.280239         8.532      9.976118    8.203032   \n",
              "1           8.667031        8.220793         8.532      9.976118    7.617611   \n",
              "2           7.688419        8.220793         8.532      9.976118    7.617611   \n",
              "3           8.514166        8.280239         8.532      9.976118    7.617611   \n",
              "4           8.514166        8.280239         8.532      9.976118    7.617611   \n",
              "\n",
              "   mean_boardingPeriod  \n",
              "0             8.012427  \n",
              "1             8.012427  \n",
              "2             8.012427  \n",
              "3             8.012427  \n",
              "4             8.012427  "
            ],
            "text/html": [
              "\n",
              "  <div id=\"df-ebf9c39e-f267-4409-b706-d4cbea801b28\">\n",
              "    <div class=\"colab-df-container\">\n",
              "      <div>\n",
              "<style scoped>\n",
              "    .dataframe tbody tr th:only-of-type {\n",
              "        vertical-align: middle;\n",
              "    }\n",
              "\n",
              "    .dataframe tbody tr th {\n",
              "        vertical-align: top;\n",
              "    }\n",
              "\n",
              "    .dataframe thead th {\n",
              "        text-align: right;\n",
              "    }\n",
              "</style>\n",
              "<table border=\"1\" class=\"dataframe\">\n",
              "  <thead>\n",
              "    <tr style=\"text-align: right;\">\n",
              "      <th></th>\n",
              "      <th>target</th>\n",
              "      <th>travel_from_distance</th>\n",
              "      <th>mean_of_bookingTime</th>\n",
              "      <th>mean_travel_from</th>\n",
              "      <th>mean_day_of_month</th>\n",
              "      <th>mean_isWeekend</th>\n",
              "      <th>mean_quarter</th>\n",
              "      <th>mean_carType</th>\n",
              "      <th>mean_month</th>\n",
              "      <th>mean_boardingPeriod</th>\n",
              "    </tr>\n",
              "  </thead>\n",
              "  <tbody>\n",
              "    <tr>\n",
              "      <th>0</th>\n",
              "      <td>1</td>\n",
              "      <td>370.0</td>\n",
              "      <td>11.132780</td>\n",
              "      <td>16.159367</td>\n",
              "      <td>8.189166</td>\n",
              "      <td>8.280239</td>\n",
              "      <td>8.532</td>\n",
              "      <td>9.976118</td>\n",
              "      <td>8.203032</td>\n",
              "      <td>8.012427</td>\n",
              "    </tr>\n",
              "    <tr>\n",
              "      <th>1</th>\n",
              "      <td>1</td>\n",
              "      <td>370.0</td>\n",
              "      <td>16.858889</td>\n",
              "      <td>16.159367</td>\n",
              "      <td>8.667031</td>\n",
              "      <td>8.220793</td>\n",
              "      <td>8.532</td>\n",
              "      <td>9.976118</td>\n",
              "      <td>7.617611</td>\n",
              "      <td>8.012427</td>\n",
              "    </tr>\n",
              "    <tr>\n",
              "      <th>2</th>\n",
              "      <td>1</td>\n",
              "      <td>280.0</td>\n",
              "      <td>7.126645</td>\n",
              "      <td>4.404010</td>\n",
              "      <td>7.688419</td>\n",
              "      <td>8.220793</td>\n",
              "      <td>8.532</td>\n",
              "      <td>9.976118</td>\n",
              "      <td>7.617611</td>\n",
              "      <td>8.012427</td>\n",
              "    </tr>\n",
              "    <tr>\n",
              "      <th>3</th>\n",
              "      <td>5</td>\n",
              "      <td>360.0</td>\n",
              "      <td>6.043359</td>\n",
              "      <td>15.636957</td>\n",
              "      <td>8.514166</td>\n",
              "      <td>8.280239</td>\n",
              "      <td>8.532</td>\n",
              "      <td>9.976118</td>\n",
              "      <td>7.617611</td>\n",
              "      <td>8.012427</td>\n",
              "    </tr>\n",
              "    <tr>\n",
              "      <th>4</th>\n",
              "      <td>31</td>\n",
              "      <td>370.0</td>\n",
              "      <td>16.858889</td>\n",
              "      <td>16.159367</td>\n",
              "      <td>8.514166</td>\n",
              "      <td>8.280239</td>\n",
              "      <td>8.532</td>\n",
              "      <td>9.976118</td>\n",
              "      <td>7.617611</td>\n",
              "      <td>8.012427</td>\n",
              "    </tr>\n",
              "  </tbody>\n",
              "</table>\n",
              "</div>\n",
              "      <button class=\"colab-df-convert\" onclick=\"convertToInteractive('df-ebf9c39e-f267-4409-b706-d4cbea801b28')\"\n",
              "              title=\"Convert this dataframe to an interactive table.\"\n",
              "              style=\"display:none;\">\n",
              "        \n",
              "  <svg xmlns=\"http://www.w3.org/2000/svg\" height=\"24px\"viewBox=\"0 0 24 24\"\n",
              "       width=\"24px\">\n",
              "    <path d=\"M0 0h24v24H0V0z\" fill=\"none\"/>\n",
              "    <path d=\"M18.56 5.44l.94 2.06.94-2.06 2.06-.94-2.06-.94-.94-2.06-.94 2.06-2.06.94zm-11 1L8.5 8.5l.94-2.06 2.06-.94-2.06-.94L8.5 2.5l-.94 2.06-2.06.94zm10 10l.94 2.06.94-2.06 2.06-.94-2.06-.94-.94-2.06-.94 2.06-2.06.94z\"/><path d=\"M17.41 7.96l-1.37-1.37c-.4-.4-.92-.59-1.43-.59-.52 0-1.04.2-1.43.59L10.3 9.45l-7.72 7.72c-.78.78-.78 2.05 0 2.83L4 21.41c.39.39.9.59 1.41.59.51 0 1.02-.2 1.41-.59l7.78-7.78 2.81-2.81c.8-.78.8-2.07 0-2.86zM5.41 20L4 18.59l7.72-7.72 1.47 1.35L5.41 20z\"/>\n",
              "  </svg>\n",
              "      </button>\n",
              "      \n",
              "  <style>\n",
              "    .colab-df-container {\n",
              "      display:flex;\n",
              "      flex-wrap:wrap;\n",
              "      gap: 12px;\n",
              "    }\n",
              "\n",
              "    .colab-df-convert {\n",
              "      background-color: #E8F0FE;\n",
              "      border: none;\n",
              "      border-radius: 50%;\n",
              "      cursor: pointer;\n",
              "      display: none;\n",
              "      fill: #1967D2;\n",
              "      height: 32px;\n",
              "      padding: 0 0 0 0;\n",
              "      width: 32px;\n",
              "    }\n",
              "\n",
              "    .colab-df-convert:hover {\n",
              "      background-color: #E2EBFA;\n",
              "      box-shadow: 0px 1px 2px rgba(60, 64, 67, 0.3), 0px 1px 3px 1px rgba(60, 64, 67, 0.15);\n",
              "      fill: #174EA6;\n",
              "    }\n",
              "\n",
              "    [theme=dark] .colab-df-convert {\n",
              "      background-color: #3B4455;\n",
              "      fill: #D2E3FC;\n",
              "    }\n",
              "\n",
              "    [theme=dark] .colab-df-convert:hover {\n",
              "      background-color: #434B5C;\n",
              "      box-shadow: 0px 1px 3px 1px rgba(0, 0, 0, 0.15);\n",
              "      filter: drop-shadow(0px 1px 2px rgba(0, 0, 0, 0.3));\n",
              "      fill: #FFFFFF;\n",
              "    }\n",
              "  </style>\n",
              "\n",
              "      <script>\n",
              "        const buttonEl =\n",
              "          document.querySelector('#df-ebf9c39e-f267-4409-b706-d4cbea801b28 button.colab-df-convert');\n",
              "        buttonEl.style.display =\n",
              "          google.colab.kernel.accessAllowed ? 'block' : 'none';\n",
              "\n",
              "        async function convertToInteractive(key) {\n",
              "          const element = document.querySelector('#df-ebf9c39e-f267-4409-b706-d4cbea801b28');\n",
              "          const dataTable =\n",
              "            await google.colab.kernel.invokeFunction('convertToInteractive',\n",
              "                                                     [key], {});\n",
              "          if (!dataTable) return;\n",
              "\n",
              "          const docLinkHtml = 'Like what you see? Visit the ' +\n",
              "            '<a target=\"_blank\" href=https://colab.research.google.com/notebooks/data_table.ipynb>data table notebook</a>'\n",
              "            + ' to learn more about interactive tables.';\n",
              "          element.innerHTML = '';\n",
              "          dataTable['output_type'] = 'display_data';\n",
              "          await google.colab.output.renderOutput(dataTable, element);\n",
              "          const docLink = document.createElement('div');\n",
              "          docLink.innerHTML = docLinkHtml;\n",
              "          element.appendChild(docLink);\n",
              "        }\n",
              "      </script>\n",
              "    </div>\n",
              "  </div>\n",
              "  "
            ]
          },
          "metadata": {},
          "execution_count": 112
        }
      ]
    },
    {
      "cell_type": "code",
      "source": [
        "final_df.rename(columns={'num_booking':'target'},inplace=True)"
      ],
      "metadata": {
        "id": "wxTIP6RMhSwo"
      },
      "execution_count": 113,
      "outputs": []
    },
    {
      "cell_type": "code",
      "source": [
        "final_df.head()"
      ],
      "metadata": {
        "colab": {
          "base_uri": "https://localhost:8080/",
          "height": 206
        },
        "id": "JW1Uifowhiie",
        "outputId": "52048e3c-b617-4b2e-d32d-b1626b5f6d2e"
      },
      "execution_count": 114,
      "outputs": [
        {
          "output_type": "execute_result",
          "data": {
            "text/plain": [
              "   target  travel_from_distance  mean_of_bookingTime  mean_travel_from  \\\n",
              "0       1                 370.0            11.132780         16.159367   \n",
              "1       1                 370.0            16.858889         16.159367   \n",
              "2       1                 280.0             7.126645          4.404010   \n",
              "3       5                 360.0             6.043359         15.636957   \n",
              "4      31                 370.0            16.858889         16.159367   \n",
              "\n",
              "   mean_day_of_month  mean_isWeekend  mean_quarter  mean_carType  mean_month  \\\n",
              "0           8.189166        8.280239         8.532      9.976118    8.203032   \n",
              "1           8.667031        8.220793         8.532      9.976118    7.617611   \n",
              "2           7.688419        8.220793         8.532      9.976118    7.617611   \n",
              "3           8.514166        8.280239         8.532      9.976118    7.617611   \n",
              "4           8.514166        8.280239         8.532      9.976118    7.617611   \n",
              "\n",
              "   mean_boardingPeriod  \n",
              "0             8.012427  \n",
              "1             8.012427  \n",
              "2             8.012427  \n",
              "3             8.012427  \n",
              "4             8.012427  "
            ],
            "text/html": [
              "\n",
              "  <div id=\"df-e16821bd-1795-4d1d-859b-04f4a64c00b4\">\n",
              "    <div class=\"colab-df-container\">\n",
              "      <div>\n",
              "<style scoped>\n",
              "    .dataframe tbody tr th:only-of-type {\n",
              "        vertical-align: middle;\n",
              "    }\n",
              "\n",
              "    .dataframe tbody tr th {\n",
              "        vertical-align: top;\n",
              "    }\n",
              "\n",
              "    .dataframe thead th {\n",
              "        text-align: right;\n",
              "    }\n",
              "</style>\n",
              "<table border=\"1\" class=\"dataframe\">\n",
              "  <thead>\n",
              "    <tr style=\"text-align: right;\">\n",
              "      <th></th>\n",
              "      <th>target</th>\n",
              "      <th>travel_from_distance</th>\n",
              "      <th>mean_of_bookingTime</th>\n",
              "      <th>mean_travel_from</th>\n",
              "      <th>mean_day_of_month</th>\n",
              "      <th>mean_isWeekend</th>\n",
              "      <th>mean_quarter</th>\n",
              "      <th>mean_carType</th>\n",
              "      <th>mean_month</th>\n",
              "      <th>mean_boardingPeriod</th>\n",
              "    </tr>\n",
              "  </thead>\n",
              "  <tbody>\n",
              "    <tr>\n",
              "      <th>0</th>\n",
              "      <td>1</td>\n",
              "      <td>370.0</td>\n",
              "      <td>11.132780</td>\n",
              "      <td>16.159367</td>\n",
              "      <td>8.189166</td>\n",
              "      <td>8.280239</td>\n",
              "      <td>8.532</td>\n",
              "      <td>9.976118</td>\n",
              "      <td>8.203032</td>\n",
              "      <td>8.012427</td>\n",
              "    </tr>\n",
              "    <tr>\n",
              "      <th>1</th>\n",
              "      <td>1</td>\n",
              "      <td>370.0</td>\n",
              "      <td>16.858889</td>\n",
              "      <td>16.159367</td>\n",
              "      <td>8.667031</td>\n",
              "      <td>8.220793</td>\n",
              "      <td>8.532</td>\n",
              "      <td>9.976118</td>\n",
              "      <td>7.617611</td>\n",
              "      <td>8.012427</td>\n",
              "    </tr>\n",
              "    <tr>\n",
              "      <th>2</th>\n",
              "      <td>1</td>\n",
              "      <td>280.0</td>\n",
              "      <td>7.126645</td>\n",
              "      <td>4.404010</td>\n",
              "      <td>7.688419</td>\n",
              "      <td>8.220793</td>\n",
              "      <td>8.532</td>\n",
              "      <td>9.976118</td>\n",
              "      <td>7.617611</td>\n",
              "      <td>8.012427</td>\n",
              "    </tr>\n",
              "    <tr>\n",
              "      <th>3</th>\n",
              "      <td>5</td>\n",
              "      <td>360.0</td>\n",
              "      <td>6.043359</td>\n",
              "      <td>15.636957</td>\n",
              "      <td>8.514166</td>\n",
              "      <td>8.280239</td>\n",
              "      <td>8.532</td>\n",
              "      <td>9.976118</td>\n",
              "      <td>7.617611</td>\n",
              "      <td>8.012427</td>\n",
              "    </tr>\n",
              "    <tr>\n",
              "      <th>4</th>\n",
              "      <td>31</td>\n",
              "      <td>370.0</td>\n",
              "      <td>16.858889</td>\n",
              "      <td>16.159367</td>\n",
              "      <td>8.514166</td>\n",
              "      <td>8.280239</td>\n",
              "      <td>8.532</td>\n",
              "      <td>9.976118</td>\n",
              "      <td>7.617611</td>\n",
              "      <td>8.012427</td>\n",
              "    </tr>\n",
              "  </tbody>\n",
              "</table>\n",
              "</div>\n",
              "      <button class=\"colab-df-convert\" onclick=\"convertToInteractive('df-e16821bd-1795-4d1d-859b-04f4a64c00b4')\"\n",
              "              title=\"Convert this dataframe to an interactive table.\"\n",
              "              style=\"display:none;\">\n",
              "        \n",
              "  <svg xmlns=\"http://www.w3.org/2000/svg\" height=\"24px\"viewBox=\"0 0 24 24\"\n",
              "       width=\"24px\">\n",
              "    <path d=\"M0 0h24v24H0V0z\" fill=\"none\"/>\n",
              "    <path d=\"M18.56 5.44l.94 2.06.94-2.06 2.06-.94-2.06-.94-.94-2.06-.94 2.06-2.06.94zm-11 1L8.5 8.5l.94-2.06 2.06-.94-2.06-.94L8.5 2.5l-.94 2.06-2.06.94zm10 10l.94 2.06.94-2.06 2.06-.94-2.06-.94-.94-2.06-.94 2.06-2.06.94z\"/><path d=\"M17.41 7.96l-1.37-1.37c-.4-.4-.92-.59-1.43-.59-.52 0-1.04.2-1.43.59L10.3 9.45l-7.72 7.72c-.78.78-.78 2.05 0 2.83L4 21.41c.39.39.9.59 1.41.59.51 0 1.02-.2 1.41-.59l7.78-7.78 2.81-2.81c.8-.78.8-2.07 0-2.86zM5.41 20L4 18.59l7.72-7.72 1.47 1.35L5.41 20z\"/>\n",
              "  </svg>\n",
              "      </button>\n",
              "      \n",
              "  <style>\n",
              "    .colab-df-container {\n",
              "      display:flex;\n",
              "      flex-wrap:wrap;\n",
              "      gap: 12px;\n",
              "    }\n",
              "\n",
              "    .colab-df-convert {\n",
              "      background-color: #E8F0FE;\n",
              "      border: none;\n",
              "      border-radius: 50%;\n",
              "      cursor: pointer;\n",
              "      display: none;\n",
              "      fill: #1967D2;\n",
              "      height: 32px;\n",
              "      padding: 0 0 0 0;\n",
              "      width: 32px;\n",
              "    }\n",
              "\n",
              "    .colab-df-convert:hover {\n",
              "      background-color: #E2EBFA;\n",
              "      box-shadow: 0px 1px 2px rgba(60, 64, 67, 0.3), 0px 1px 3px 1px rgba(60, 64, 67, 0.15);\n",
              "      fill: #174EA6;\n",
              "    }\n",
              "\n",
              "    [theme=dark] .colab-df-convert {\n",
              "      background-color: #3B4455;\n",
              "      fill: #D2E3FC;\n",
              "    }\n",
              "\n",
              "    [theme=dark] .colab-df-convert:hover {\n",
              "      background-color: #434B5C;\n",
              "      box-shadow: 0px 1px 3px 1px rgba(0, 0, 0, 0.15);\n",
              "      filter: drop-shadow(0px 1px 2px rgba(0, 0, 0, 0.3));\n",
              "      fill: #FFFFFF;\n",
              "    }\n",
              "  </style>\n",
              "\n",
              "      <script>\n",
              "        const buttonEl =\n",
              "          document.querySelector('#df-e16821bd-1795-4d1d-859b-04f4a64c00b4 button.colab-df-convert');\n",
              "        buttonEl.style.display =\n",
              "          google.colab.kernel.accessAllowed ? 'block' : 'none';\n",
              "\n",
              "        async function convertToInteractive(key) {\n",
              "          const element = document.querySelector('#df-e16821bd-1795-4d1d-859b-04f4a64c00b4');\n",
              "          const dataTable =\n",
              "            await google.colab.kernel.invokeFunction('convertToInteractive',\n",
              "                                                     [key], {});\n",
              "          if (!dataTable) return;\n",
              "\n",
              "          const docLinkHtml = 'Like what you see? Visit the ' +\n",
              "            '<a target=\"_blank\" href=https://colab.research.google.com/notebooks/data_table.ipynb>data table notebook</a>'\n",
              "            + ' to learn more about interactive tables.';\n",
              "          element.innerHTML = '';\n",
              "          dataTable['output_type'] = 'display_data';\n",
              "          await google.colab.output.renderOutput(dataTable, element);\n",
              "          const docLink = document.createElement('div');\n",
              "          docLink.innerHTML = docLinkHtml;\n",
              "          element.appendChild(docLink);\n",
              "        }\n",
              "      </script>\n",
              "    </div>\n",
              "  </div>\n",
              "  "
            ]
          },
          "metadata": {},
          "execution_count": 114
        }
      ]
    },
    {
      "cell_type": "markdown",
      "source": [
        "**Outlier Detection and distribution of Target variable**"
      ],
      "metadata": {
        "id": "rhTkPvlxgtG4"
      }
    },
    {
      "cell_type": "code",
      "source": [
        "#boxplot for detecting outlier\n",
        "sns.boxplot(y=final_df['target'])"
      ],
      "metadata": {
        "colab": {
          "base_uri": "https://localhost:8080/",
          "height": 266
        },
        "id": "2xD1eUxlhFMd",
        "outputId": "d3504490-5d3a-4ccd-ab07-23a54167826d"
      },
      "execution_count": 115,
      "outputs": [
        {
          "output_type": "execute_result",
          "data": {
            "text/plain": [
              "<matplotlib.axes._subplots.AxesSubplot at 0x7faf54262e90>"
            ]
          },
          "metadata": {},
          "execution_count": 115
        },
        {
          "output_type": "display_data",
          "data": {
            "text/plain": [
              "<Figure size 432x288 with 1 Axes>"
            ],
            "image/png": "[encoded data removed]"
          },
          "metadata": {
            "needs_background": "light"
          }
        }
      ]
    },
    {
      "cell_type": "code",
      "source": [
        "#removing outliers\n",
        "final_df.drop(index=final_df[final_df['target']>30].index,axis=0,inplace=True)\n",
        "sns.boxplot(y=final_df['target'])\n"
      ],
      "metadata": {
        "colab": {
          "base_uri": "https://localhost:8080/",
          "height": 270
        },
        "id": "LnLYcn6Dar1q",
        "outputId": "7f5054ab-bef8-4116-c43b-fc4edda87379"
      },
      "execution_count": 116,
      "outputs": [
        {
          "output_type": "execute_result",
          "data": {
            "text/plain": [
              "<matplotlib.axes._subplots.AxesSubplot at 0x7faf54573510>"
            ]
          },
          "metadata": {},
          "execution_count": 116
        },
        {
          "output_type": "display_data",
          "data": {
            "text/plain": [
              "<Figure size 432x288 with 1 Axes>"
            ],
            "image/png": "[encoded data removed]"
          },
          "metadata": {
            "needs_background": "light"
          }
        }
      ]
    },
    {
      "cell_type": "code",
      "source": [
        "final_df.shape"
      ],
      "metadata": {
        "colab": {
          "base_uri": "https://localhost:8080/"
        },
        "id": "y2rFzr3pbehm",
        "outputId": "a7355e56-1d46-4945-c4df-ad36e2dce154"
      },
      "execution_count": 117,
      "outputs": [
        {
          "output_type": "execute_result",
          "data": {
            "text/plain": [
              "(5992, 10)"
            ]
          },
          "metadata": {},
          "execution_count": 117
        }
      ]
    },
    {
      "cell_type": "code",
      "source": [
        "sns.histplot(final_df['target'],kde=True)"
      ],
      "metadata": {
        "id": "HXU1EfBKiQKP",
        "colab": {
          "base_uri": "https://localhost:8080/",
          "height": 303
        },
        "outputId": "b34af64c-ee22-483f-8a35-b6fd1d92b711"
      },
      "execution_count": 118,
      "outputs": [
        {
          "output_type": "execute_result",
          "data": {
            "text/plain": [
              "<matplotlib.axes._subplots.AxesSubplot at 0x7faf545cc190>"
            ]
          },
          "metadata": {},
          "execution_count": 118
        },
        {
          "output_type": "display_data",
          "data": {
            "text/plain": [
              "<Figure size 432x288 with 1 Axes>"
            ],
            "image/png": "[encoded data removed]"
          },
          "metadata": {
            "needs_background": "light"
          }
        }
      ]
    },
    {
      "cell_type": "code",
      "source": [
        "#skew measument of target variable\n",
        "from scipy.stats import skew\n",
        "from scipy import stats\n",
        "print(skew(final_df['target']))"
      ],
      "metadata": {
        "colab": {
          "base_uri": "https://localhost:8080/"
        },
        "id": "fVNQmNEgxvhA",
        "outputId": "c1082c8d-a134-4ce0-f11c-15731c29881e"
      },
      "execution_count": 119,
      "outputs": [
        {
          "output_type": "stream",
          "name": "stdout",
          "text": [
            "1.3519798850090952\n"
          ]
        }
      ]
    },
    {
      "cell_type": "code",
      "source": [
        "# final_df['transformed_target'] = stats.boxcox(final_df['target'])[0]\n",
        "from scipy.special import boxcox, inv_boxcox\n",
        "final_df['transformed_target'] = boxcox(final_df['target'],0.21)\n",
        "# inv_boxcox(y, 2.5)\n",
        "\n"
      ],
      "metadata": {
        "id": "HqEZeYgMyuOO"
      },
      "execution_count": 138,
      "outputs": []
    },
    {
      "cell_type": "code",
      "source": [
        "sns.histplot(final_df['transformed_target'],kde=True)\n",
        "print(skew(final_df['transformed_target']))"
      ],
      "metadata": {
        "colab": {
          "base_uri": "https://localhost:8080/",
          "height": 303
        },
        "id": "LoVitN-GzSCH",
        "outputId": "a4a60a72-6b27-4455-c9c2-6bf284a82ae8"
      },
      "execution_count": 139,
      "outputs": [
        {
          "output_type": "stream",
          "name": "stdout",
          "text": [
            "-0.005838372455210873\n"
          ]
        },
        {
          "output_type": "display_data",
          "data": {
            "text/plain": [
              "<Figure size 432x288 with 1 Axes>"
            ],
            "image/png": "[encoded data removed]"
          },
          "metadata": {
            "needs_background": "light"
          }
        }
      ]
    },
    {
      "cell_type": "code",
      "source": [
        "#drop target feature from final_df\n",
        "final_df.drop(['target'],axis=1,inplace=True)"
      ],
      "metadata": {
        "id": "xBavVbl00aer"
      },
      "execution_count": 143,
      "outputs": []
    },
    {
      "cell_type": "markdown",
      "source": [
        "**Breaking the dataset into predictor and target variable**"
      ],
      "metadata": {
        "id": "qidU0uKg1TTR"
      }
    },
    {
      "cell_type": "code",
      "source": [
        "X = final_df[[i for i in final_df.columns if i not in ['transformed_target']]]\n",
        "Y = final_df['transformed_target']"
      ],
      "metadata": {
        "id": "uJQuy6vU1m4s"
      },
      "execution_count": 145,
      "outputs": []
    },
    {
      "cell_type": "code",
      "source": [
        "from sklearn.preprocessing import MinMaxScaler\n",
        "from sklearn.model_selection import train_test_split\n",
        "\n",
        "scaler = MinMaxScaler()\n",
        "# transform data\n",
        "scaled_X = scaler.fit_transform(X)"
      ],
      "metadata": {
        "id": "WYILU20E18IX"
      },
      "execution_count": 146,
      "outputs": []
    },
    {
      "cell_type": "code",
      "source": [
        "X_train, X_test, y_train, y_test = train_test_split(scaled_X,Y,test_size=0.2,random_state=7)"
      ],
      "metadata": {
        "id": "tfG_wQXS2iff"
      },
      "execution_count": 147,
      "outputs": []
    },
    {
      "cell_type": "code",
      "source": [
        "from sklearn import linear_model\n",
        "from sklearn.metrics import r2_score\n",
        "from sklearn.metrics import mean_squared_error\n",
        "reg = linear_model.LinearRegression()\n",
        "reg.fit(X_train , y_train)\n",
        "pred_train = reg.predict(X_train)\n",
        "pred_test = reg.predict(X_test)"
      ],
      "metadata": {
        "id": "PkGAwsQc2lHD"
      },
      "execution_count": 148,
      "outputs": []
    },
    {
      "cell_type": "code",
      "source": [
        "print('-----------Mean Squared Error------------')\n",
        "print('Training Data Set mean square error is: {}'.format(mean_squared_error(inv_boxcox(y_train,0.21),inv_boxcox(pred_train,0.21))))\n",
        "print('Test Data Set mean sqaure error is {}'.format(mean_squared_error(inv_boxcox(y_test,0.21),inv_boxcox(pred_test,0.21))))\n",
        "print('-----------------------------------------')\n",
        "print('-----------Root Mean Squared Error----------')\n",
        "rmse_train = np.sqrt(mean_squared_error(y_train,pred_train))\n",
        "rmse_test = np.sqrt(mean_squared_error(y_test,pred_test))\n",
        "print('Training Data Set rmse is {}'.format(rmse_train))\n",
        "print('Test Data Set rmse is {}'.format(rmse_test))\n",
        "print('--------------------------------------------')\n",
        "print('--------------r2_Score---------------------')\n",
        "print('r2_score for training dataset is {}'.format(r2_score(inv_boxcox(y_train,0.21),inv_boxcox(pred_train,0.21))))\n",
        "print('r2_score for test dataset is {}'.format(r2_score(inv_boxcox(y_test,0.21),inv_boxcox(pred_test,0.21))))"
      ],
      "metadata": {
        "colab": {
          "base_uri": "https://localhost:8080/"
        },
        "id": "NzA9OrJZ2pWv",
        "outputId": "09aeb51a-31f2-4fdb-eafc-7261278471c5"
      },
      "execution_count": 153,
      "outputs": [
        {
          "output_type": "stream",
          "name": "stdout",
          "text": [
            "-----------Mean Squared Error------------\n",
            "Training Data Set mean square error is: 30.959400349711636\n",
            "Test Data Set mean sqaure error is 31.91848617308069\n",
            "-----------------------------------------\n",
            "-----------Root Mean Squared Error----------\n",
            "Training Data Set rmse is 1.2304605454823097\n",
            "Test Data Set rmse is 1.2438877082763518\n",
            "--------------------------------------------\n",
            "--------------r2_Score---------------------\n",
            "r2_score for training dataset is 0.18066519657686209\n",
            "r2_score for test dataset is 0.17168812440523573\n"
          ]
        }
      ]
    }
  ]
}