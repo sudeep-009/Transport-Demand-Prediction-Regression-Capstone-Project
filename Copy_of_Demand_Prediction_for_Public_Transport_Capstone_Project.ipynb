{
  "nbformat": 4,
  "nbformat_minor": 0,
  "metadata": {
    "kernelspec": {
      "display_name": "Python 3",
      "language": "python",
      "name": "python3"
    },
    "language_info": {
      "codemirror_mode": {
        "name": "ipython",
        "version": 3
      },
      "file_extension": ".py",
      "mimetype": "text/x-python",
      "name": "python",
      "nbconvert_exporter": "python",
      "pygments_lexer": "ipython3",
      "version": "3.6.6"
    },
    "colab": {
      "name": "Copy of Demand Prediction for Public Transport - Capstone Project.ipynb",
      "provenance": [],
      "collapsed_sections": [],
      "include_colab_link": true
    }
  },
  "cells": [
    {
      "cell_type": "markdown",
      "metadata": {
        "id": "view-in-github",
        "colab_type": "text"
      },
      "source": [
        "<a href=\"https://colab.research.google.com/github/sudeep-009/Transport-Demand-Prediction-Regression-Capstone-Project/blob/dev/Copy_of_Demand_Prediction_for_Public_Transport_Capstone_Project.ipynb\" target=\"_parent\"><img src=\"https://colab.research.google.com/assets/colab-badge.svg\" alt=\"Open In Colab\"/></a>"
      ]
    },
    {
      "cell_type": "markdown",
      "metadata": {
        "id": "tOGC-qoyhJeX"
      },
      "source": [
        "# <b><u> Project Title : Traffic Jam: Predicting People's Movement into Nairobi </u></b>"
      ]
    },
    {
      "cell_type": "markdown",
      "metadata": {
        "id": "Y06xIdG26kRF"
      },
      "source": [
        "## <b> Problem Description </b>\n",
        "\n",
        "### This challenge asks you to build a model that predicts the number of seats that Mobiticket can expect to sell for each ride, i.e. for a specific route on a specific date and time. There are 14 routes in this dataset. All of the routes end in Nairobi and originate in towns to the North-West of Nairobi towards Lake Victoria.\n",
        "\n",
        "\n",
        "### The towns from which these routes originate are:\n",
        "\n",
        "* Awendo\n",
        "* Homa Bay\n",
        "* Kehancha\n",
        "* Kendu Bay\n",
        "* Keroka\n",
        "* Keumbu\n",
        "* Kijauri\n",
        "* Kisii\n",
        "* Mbita\n",
        "* Migori\n",
        "* Ndhiwa\n",
        "* Nyachenge\n",
        "* Oyugis\n",
        "* Rodi\n",
        "* Rongo\n",
        "* Sirare\n",
        "* Sori\n",
        "\n",
        "### The routes from these 14 origins to the first stop in the outskirts of Nairobi takes approximately 8 to 9 hours from time of departure. From the first stop in the outskirts of Nairobi into the main bus terminal, where most passengers get off, in Central Business District, takes another 2 to 3 hours depending on traffic.\n",
        "\n",
        "### The three stops that all these routes make in Nairobi (in order) are:\n",
        "\n",
        "1. Kawangware: the first stop in the outskirts of Nairobi\n",
        "2. Westlands\n",
        "3. Afya Centre: the main bus terminal where most passengers disembark\n",
        "\n",
        "### All of these points are mapped [here](https://www.google.com/maps/d/viewer?mid=1Ef2pFdP8keVHHid8bwju2raoRvjOGagN&ll=-0.8281897101491997%2C35.51706279999996&z=8).\n",
        "\n",
        "### Passengers of these bus (or shuttle) rides are affected by Nairobi traffic not only during their ride into the city, but from there they must continue their journey to their final destination in Nairobi wherever that may be. Traffic can act as a deterrent for those who have the option to avoid buses that arrive in Nairobi during peak traffic hours. On the other hand, traffic may be an indication for people’s movement patterns, reflecting business hours, cultural events, political events, and holidays."
      ]
    },
    {
      "cell_type": "markdown",
      "metadata": {
        "id": "AlLxAtlziMbP"
      },
      "source": [
        "## <b> Data Description </b>\n",
        "\n",
        "### <b>Nairobi Transport Data.csv (zipped)</b> is the dataset of tickets purchased from Mobiticket for the 14 routes from “up country” into Nairobi between 17 October 2017 and 20 April 2018. This dataset includes the variables: ride_id, seat_number, payment_method, payment_receipt, travel_date, travel_time, travel_from, travel_to, car_type, max_capacity.\n",
        "\n",
        "\n",
        "### Uber Movement traffic data can be accessed [here](https://movement.uber.com). Data is available for Nairobi through June 2018. Uber Movement provided historic hourly travel time between any two points in Nairobi. Any tables that are extracted from the Uber Movement platform can be used in your model.\n",
        "\n",
        "### Variables description:\n",
        "\n",
        "* #### ride_id: unique ID of a vehicle on a specific route on a specific day and time.\n",
        "* #### seat_number: seat assigned to ticket\n",
        "* #### payment_method: method used by customer to purchase ticket from Mobiticket (cash or Mpesa)\n",
        "* #### payment_receipt: unique id number for ticket purchased from Mobiticket\n",
        "* #### travel_date: date of ride departure. (MM/DD/YYYY)\n",
        "* #### travel_time: scheduled departure time of ride. Rides generally depart on time. (hh:mm)\n",
        "* #### travel_from: town from which ride originated\n",
        "* #### travel_to: destination of ride. All rides are to Nairobi.\n",
        "* #### car_type: vehicle type (shuttle or bus)\n",
        "* #### max_capacity: number of seats on the vehicle"
      ]
    },
    {
      "cell_type": "code",
      "metadata": {
        "id": "dByMsuzT8Tnw"
      },
      "source": [
        "import warnings\n",
        "warnings.filterwarnings(\"ignore\") \n",
        "import pandas as pd\n",
        "import numpy as np\n",
        "import matplotlib as mpl\n",
        "import matplotlib.pyplot as plt\n",
        "mpl.style.use('ggplot')\n",
        "import seaborn as sns\n",
        "sns.set_theme(style=\"whitegrid\")\n",
        "from sklearn.preprocessing import LabelEncoder\n",
        "from sklearn.preprocessing import OneHotEncoder"
      ],
      "execution_count": 1,
      "outputs": []
    },
    {
      "cell_type": "code",
      "source": [
        "from google.colab import drive\n",
        "drive.mount('/content/drive')"
      ],
      "metadata": {
        "colab": {
          "base_uri": "https://localhost:8080/"
        },
        "id": "uOhslidzJ3QL",
        "outputId": "ebb15f95-34af-470d-eb80-f213f01154e2"
      },
      "execution_count": 2,
      "outputs": [
        {
          "output_type": "stream",
          "name": "stdout",
          "text": [
            "Mounted at /content/drive\n"
          ]
        }
      ]
    },
    {
      "cell_type": "code",
      "source": [
        "transport_df = pd.read_csv('/content/drive/MyDrive/Colab Notebooks/AlmaBetter/Capstone Projects/Traffic Demand Prediction-Capstone/train_revised.csv')"
      ],
      "metadata": {
        "id": "s9M0oTSqKJqB"
      },
      "execution_count": 25,
      "outputs": []
    },
    {
      "cell_type": "markdown",
      "source": [
        "#**First lets understand the given dataset**"
      ],
      "metadata": {
        "id": "E_bwtkVALx_P"
      }
    },
    {
      "cell_type": "markdown",
      "source": [
        "####**Lets explore few rows of our dataset**"
      ],
      "metadata": {
        "id": "fGrQPxvSqTpr"
      }
    },
    {
      "cell_type": "code",
      "source": [
        "pd.concat([transport_df.head(),transport_df.tail()])"
      ],
      "metadata": {
        "colab": {
          "base_uri": "https://localhost:8080/",
          "height": 363
        },
        "id": "t5lJYJmIMkh4",
        "outputId": "6525175a-d138-4014-926e-e87e119d1ad2"
      },
      "execution_count": 26,
      "outputs": [
        {
          "output_type": "execute_result",
          "data": {
            "text/plain": [
              "       ride_id seat_number payment_method payment_receipt travel_date  \\\n",
              "0         1442         15A          Mpesa      UZUEHCBUSO    17-10-17   \n",
              "1         5437         14A          Mpesa      TIHLBUSGTE    19-11-17   \n",
              "2         5710          8B          Mpesa      EQX8Q5G19O    26-11-17   \n",
              "3         5777         19A          Mpesa      SGP18CL0ME    27-11-17   \n",
              "4         5778         11A          Mpesa      BM97HFRGL9    27-11-17   \n",
              "51640    13826          9B          Mpesa      8V2XDDZR6V    20-04-18   \n",
              "51641    13809         18A          Mpesa      4PEBSVJSNK    20-04-18   \n",
              "51642    13809         17A          Mpesa      LVN64LZDNN    20-04-18   \n",
              "51643    13796         16B          Mpesa      REYBSKTYWN    20-04-18   \n",
              "51644    14304           7          Mpesa      AQN7FBUSGP    14-11-17   \n",
              "\n",
              "      travel_time travel_from travel_to car_type  max_capacity  \n",
              "0            7:15      Migori   Nairobi      Bus            49  \n",
              "1            7:12      Migori   Nairobi      Bus            49  \n",
              "2            7:05      Keroka   Nairobi      Bus            49  \n",
              "3            7:10    Homa Bay   Nairobi      Bus            49  \n",
              "4            7:12      Migori   Nairobi      Bus            49  \n",
              "51640        8:00      Awendo   Nairobi      Bus            49  \n",
              "51641        8:00      Migori   Nairobi      Bus            49  \n",
              "51642        8:00      Migori   Nairobi      Bus            49  \n",
              "51643        7:08      Awendo   Nairobi      Bus            49  \n",
              "51644        5:10       Kisii   Nairobi      Bus            49  "
            ],
            "text/html": [
              "\n",
              "  <div id=\"df-12ba48f0-5aac-4060-999d-e8f3d3f78ca8\">\n",
              "    <div class=\"colab-df-container\">\n",
              "      <div>\n",
              "<style scoped>\n",
              "    .dataframe tbody tr th:only-of-type {\n",
              "        vertical-align: middle;\n",
              "    }\n",
              "\n",
              "    .dataframe tbody tr th {\n",
              "        vertical-align: top;\n",
              "    }\n",
              "\n",
              "    .dataframe thead th {\n",
              "        text-align: right;\n",
              "    }\n",
              "</style>\n",
              "<table border=\"1\" class=\"dataframe\">\n",
              "  <thead>\n",
              "    <tr style=\"text-align: right;\">\n",
              "      <th></th>\n",
              "      <th>ride_id</th>\n",
              "      <th>seat_number</th>\n",
              "      <th>payment_method</th>\n",
              "      <th>payment_receipt</th>\n",
              "      <th>travel_date</th>\n",
              "      <th>travel_time</th>\n",
              "      <th>travel_from</th>\n",
              "      <th>travel_to</th>\n",
              "      <th>car_type</th>\n",
              "      <th>max_capacity</th>\n",
              "    </tr>\n",
              "  </thead>\n",
              "  <tbody>\n",
              "    <tr>\n",
              "      <th>0</th>\n",
              "      <td>1442</td>\n",
              "      <td>15A</td>\n",
              "      <td>Mpesa</td>\n",
              "      <td>UZUEHCBUSO</td>\n",
              "      <td>17-10-17</td>\n",
              "      <td>7:15</td>\n",
              "      <td>Migori</td>\n",
              "      <td>Nairobi</td>\n",
              "      <td>Bus</td>\n",
              "      <td>49</td>\n",
              "    </tr>\n",
              "    <tr>\n",
              "      <th>1</th>\n",
              "      <td>5437</td>\n",
              "      <td>14A</td>\n",
              "      <td>Mpesa</td>\n",
              "      <td>TIHLBUSGTE</td>\n",
              "      <td>19-11-17</td>\n",
              "      <td>7:12</td>\n",
              "      <td>Migori</td>\n",
              "      <td>Nairobi</td>\n",
              "      <td>Bus</td>\n",
              "      <td>49</td>\n",
              "    </tr>\n",
              "    <tr>\n",
              "      <th>2</th>\n",
              "      <td>5710</td>\n",
              "      <td>8B</td>\n",
              "      <td>Mpesa</td>\n",
              "      <td>EQX8Q5G19O</td>\n",
              "      <td>26-11-17</td>\n",
              "      <td>7:05</td>\n",
              "      <td>Keroka</td>\n",
              "      <td>Nairobi</td>\n",
              "      <td>Bus</td>\n",
              "      <td>49</td>\n",
              "    </tr>\n",
              "    <tr>\n",
              "      <th>3</th>\n",
              "      <td>5777</td>\n",
              "      <td>19A</td>\n",
              "      <td>Mpesa</td>\n",
              "      <td>SGP18CL0ME</td>\n",
              "      <td>27-11-17</td>\n",
              "      <td>7:10</td>\n",
              "      <td>Homa Bay</td>\n",
              "      <td>Nairobi</td>\n",
              "      <td>Bus</td>\n",
              "      <td>49</td>\n",
              "    </tr>\n",
              "    <tr>\n",
              "      <th>4</th>\n",
              "      <td>5778</td>\n",
              "      <td>11A</td>\n",
              "      <td>Mpesa</td>\n",
              "      <td>BM97HFRGL9</td>\n",
              "      <td>27-11-17</td>\n",
              "      <td>7:12</td>\n",
              "      <td>Migori</td>\n",
              "      <td>Nairobi</td>\n",
              "      <td>Bus</td>\n",
              "      <td>49</td>\n",
              "    </tr>\n",
              "    <tr>\n",
              "      <th>51640</th>\n",
              "      <td>13826</td>\n",
              "      <td>9B</td>\n",
              "      <td>Mpesa</td>\n",
              "      <td>8V2XDDZR6V</td>\n",
              "      <td>20-04-18</td>\n",
              "      <td>8:00</td>\n",
              "      <td>Awendo</td>\n",
              "      <td>Nairobi</td>\n",
              "      <td>Bus</td>\n",
              "      <td>49</td>\n",
              "    </tr>\n",
              "    <tr>\n",
              "      <th>51641</th>\n",
              "      <td>13809</td>\n",
              "      <td>18A</td>\n",
              "      <td>Mpesa</td>\n",
              "      <td>4PEBSVJSNK</td>\n",
              "      <td>20-04-18</td>\n",
              "      <td>8:00</td>\n",
              "      <td>Migori</td>\n",
              "      <td>Nairobi</td>\n",
              "      <td>Bus</td>\n",
              "      <td>49</td>\n",
              "    </tr>\n",
              "    <tr>\n",
              "      <th>51642</th>\n",
              "      <td>13809</td>\n",
              "      <td>17A</td>\n",
              "      <td>Mpesa</td>\n",
              "      <td>LVN64LZDNN</td>\n",
              "      <td>20-04-18</td>\n",
              "      <td>8:00</td>\n",
              "      <td>Migori</td>\n",
              "      <td>Nairobi</td>\n",
              "      <td>Bus</td>\n",
              "      <td>49</td>\n",
              "    </tr>\n",
              "    <tr>\n",
              "      <th>51643</th>\n",
              "      <td>13796</td>\n",
              "      <td>16B</td>\n",
              "      <td>Mpesa</td>\n",
              "      <td>REYBSKTYWN</td>\n",
              "      <td>20-04-18</td>\n",
              "      <td>7:08</td>\n",
              "      <td>Awendo</td>\n",
              "      <td>Nairobi</td>\n",
              "      <td>Bus</td>\n",
              "      <td>49</td>\n",
              "    </tr>\n",
              "    <tr>\n",
              "      <th>51644</th>\n",
              "      <td>14304</td>\n",
              "      <td>7</td>\n",
              "      <td>Mpesa</td>\n",
              "      <td>AQN7FBUSGP</td>\n",
              "      <td>14-11-17</td>\n",
              "      <td>5:10</td>\n",
              "      <td>Kisii</td>\n",
              "      <td>Nairobi</td>\n",
              "      <td>Bus</td>\n",
              "      <td>49</td>\n",
              "    </tr>\n",
              "  </tbody>\n",
              "</table>\n",
              "</div>\n",
              "      <button class=\"colab-df-convert\" onclick=\"convertToInteractive('df-12ba48f0-5aac-4060-999d-e8f3d3f78ca8')\"\n",
              "              title=\"Convert this dataframe to an interactive table.\"\n",
              "              style=\"display:none;\">\n",
              "        \n",
              "  <svg xmlns=\"http://www.w3.org/2000/svg\" height=\"24px\"viewBox=\"0 0 24 24\"\n",
              "       width=\"24px\">\n",
              "    <path d=\"M0 0h24v24H0V0z\" fill=\"none\"/>\n",
              "    <path d=\"M18.56 5.44l.94 2.06.94-2.06 2.06-.94-2.06-.94-.94-2.06-.94 2.06-2.06.94zm-11 1L8.5 8.5l.94-2.06 2.06-.94-2.06-.94L8.5 2.5l-.94 2.06-2.06.94zm10 10l.94 2.06.94-2.06 2.06-.94-2.06-.94-.94-2.06-.94 2.06-2.06.94z\"/><path d=\"M17.41 7.96l-1.37-1.37c-.4-.4-.92-.59-1.43-.59-.52 0-1.04.2-1.43.59L10.3 9.45l-7.72 7.72c-.78.78-.78 2.05 0 2.83L4 21.41c.39.39.9.59 1.41.59.51 0 1.02-.2 1.41-.59l7.78-7.78 2.81-2.81c.8-.78.8-2.07 0-2.86zM5.41 20L4 18.59l7.72-7.72 1.47 1.35L5.41 20z\"/>\n",
              "  </svg>\n",
              "      </button>\n",
              "      \n",
              "  <style>\n",
              "    .colab-df-container {\n",
              "      display:flex;\n",
              "      flex-wrap:wrap;\n",
              "      gap: 12px;\n",
              "    }\n",
              "\n",
              "    .colab-df-convert {\n",
              "      background-color: #E8F0FE;\n",
              "      border: none;\n",
              "      border-radius: 50%;\n",
              "      cursor: pointer;\n",
              "      display: none;\n",
              "      fill: #1967D2;\n",
              "      height: 32px;\n",
              "      padding: 0 0 0 0;\n",
              "      width: 32px;\n",
              "    }\n",
              "\n",
              "    .colab-df-convert:hover {\n",
              "      background-color: #E2EBFA;\n",
              "      box-shadow: 0px 1px 2px rgba(60, 64, 67, 0.3), 0px 1px 3px 1px rgba(60, 64, 67, 0.15);\n",
              "      fill: #174EA6;\n",
              "    }\n",
              "\n",
              "    [theme=dark] .colab-df-convert {\n",
              "      background-color: #3B4455;\n",
              "      fill: #D2E3FC;\n",
              "    }\n",
              "\n",
              "    [theme=dark] .colab-df-convert:hover {\n",
              "      background-color: #434B5C;\n",
              "      box-shadow: 0px 1px 3px 1px rgba(0, 0, 0, 0.15);\n",
              "      filter: drop-shadow(0px 1px 2px rgba(0, 0, 0, 0.3));\n",
              "      fill: #FFFFFF;\n",
              "    }\n",
              "  </style>\n",
              "\n",
              "      <script>\n",
              "        const buttonEl =\n",
              "          document.querySelector('#df-12ba48f0-5aac-4060-999d-e8f3d3f78ca8 button.colab-df-convert');\n",
              "        buttonEl.style.display =\n",
              "          google.colab.kernel.accessAllowed ? 'block' : 'none';\n",
              "\n",
              "        async function convertToInteractive(key) {\n",
              "          const element = document.querySelector('#df-12ba48f0-5aac-4060-999d-e8f3d3f78ca8');\n",
              "          const dataTable =\n",
              "            await google.colab.kernel.invokeFunction('convertToInteractive',\n",
              "                                                     [key], {});\n",
              "          if (!dataTable) return;\n",
              "\n",
              "          const docLinkHtml = 'Like what you see? Visit the ' +\n",
              "            '<a target=\"_blank\" href=https://colab.research.google.com/notebooks/data_table.ipynb>data table notebook</a>'\n",
              "            + ' to learn more about interactive tables.';\n",
              "          element.innerHTML = '';\n",
              "          dataTable['output_type'] = 'display_data';\n",
              "          await google.colab.output.renderOutput(dataTable, element);\n",
              "          const docLink = document.createElement('div');\n",
              "          docLink.innerHTML = docLinkHtml;\n",
              "          element.appendChild(docLink);\n",
              "        }\n",
              "      </script>\n",
              "    </div>\n",
              "  </div>\n",
              "  "
            ]
          },
          "metadata": {},
          "execution_count": 26
        }
      ]
    },
    {
      "cell_type": "markdown",
      "source": [
        "**Lets see the number of records present in the given dataset**"
      ],
      "metadata": {
        "id": "7rYvtPriikM3"
      }
    },
    {
      "cell_type": "code",
      "source": [
        "print('Number of features present in the dataset:{}'.format(transport_df.shape[1]))\n",
        "print('Number of records present in the dataset:{}'.format(transport_df.shape[0]))"
      ],
      "metadata": {
        "colab": {
          "base_uri": "https://localhost:8080/"
        },
        "id": "ahAVIx6givNm",
        "outputId": "dbc930aa-8447-42e1-d27f-459a0806a0eb"
      },
      "execution_count": 27,
      "outputs": [
        {
          "output_type": "stream",
          "name": "stdout",
          "text": [
            "Number of features present in the dataset:10\n",
            "Number of records present in the dataset:51645\n"
          ]
        }
      ]
    },
    {
      "cell_type": "markdown",
      "source": [
        "**Features Name present in the dataset**"
      ],
      "metadata": {
        "id": "4NjRgdMqsRgw"
      }
    },
    {
      "cell_type": "code",
      "source": [
        "for i in transport_df.columns:\n",
        "  print(i)"
      ],
      "metadata": {
        "colab": {
          "base_uri": "https://localhost:8080/"
        },
        "id": "hlZrCv3psXml",
        "outputId": "e69a35cc-5394-4b07-8c1c-601b88651e45"
      },
      "execution_count": 28,
      "outputs": [
        {
          "output_type": "stream",
          "name": "stdout",
          "text": [
            "ride_id\n",
            "seat_number\n",
            "payment_method\n",
            "payment_receipt\n",
            "travel_date\n",
            "travel_time\n",
            "travel_from\n",
            "travel_to\n",
            "car_type\n",
            "max_capacity\n"
          ]
        }
      ]
    },
    {
      "cell_type": "markdown",
      "source": [
        "**Null Value Detection**"
      ],
      "metadata": {
        "id": "myfm7xHq45fi"
      }
    },
    {
      "cell_type": "code",
      "source": [
        "#detecting null values present in any of the columns\n",
        "transport_df.isnull().sum()"
      ],
      "metadata": {
        "colab": {
          "base_uri": "https://localhost:8080/"
        },
        "id": "IZTHqEe04_ny",
        "outputId": "3f8506b8-c9e5-4ffd-ba99-cab154de3242"
      },
      "execution_count": 29,
      "outputs": [
        {
          "output_type": "execute_result",
          "data": {
            "text/plain": [
              "ride_id            0\n",
              "seat_number        0\n",
              "payment_method     0\n",
              "payment_receipt    0\n",
              "travel_date        0\n",
              "travel_time        0\n",
              "travel_from        0\n",
              "travel_to          0\n",
              "car_type           0\n",
              "max_capacity       0\n",
              "dtype: int64"
            ]
          },
          "metadata": {},
          "execution_count": 29
        }
      ]
    },
    {
      "cell_type": "markdown",
      "source": [
        "**Finding:** There is no null value present in any of the features of the dataset."
      ],
      "metadata": {
        "id": "BmBm5OXu5FrA"
      }
    },
    {
      "cell_type": "code",
      "source": [
        "#concise summary of the dataset\n",
        "transport_df.describe(include='object')"
      ],
      "metadata": {
        "colab": {
          "base_uri": "https://localhost:8080/",
          "height": 174
        },
        "id": "qoyUR4Eq5fQl",
        "outputId": "33c175f7-4df7-418f-fb17-5c0145a6161d"
      },
      "execution_count": 30,
      "outputs": [
        {
          "output_type": "execute_result",
          "data": {
            "text/plain": [
              "       seat_number payment_method payment_receipt travel_date travel_time  \\\n",
              "count        51645          51645           51645       51645       51645   \n",
              "unique          61              2           51645         149          78   \n",
              "top              1          Mpesa      UZUEHCBUSO    10-12-17        7:09   \n",
              "freq          2065          51532               1         856        3926   \n",
              "\n",
              "       travel_from travel_to car_type  \n",
              "count        51645     51645    51645  \n",
              "unique          17         1        2  \n",
              "top          Kisii   Nairobi      Bus  \n",
              "freq         22607     51645    31985  "
            ],
            "text/html": [
              "\n",
              "  <div id=\"df-530730bf-8956-4a68-a626-87a17735387b\">\n",
              "    <div class=\"colab-df-container\">\n",
              "      <div>\n",
              "<style scoped>\n",
              "    .dataframe tbody tr th:only-of-type {\n",
              "        vertical-align: middle;\n",
              "    }\n",
              "\n",
              "    .dataframe tbody tr th {\n",
              "        vertical-align: top;\n",
              "    }\n",
              "\n",
              "    .dataframe thead th {\n",
              "        text-align: right;\n",
              "    }\n",
              "</style>\n",
              "<table border=\"1\" class=\"dataframe\">\n",
              "  <thead>\n",
              "    <tr style=\"text-align: right;\">\n",
              "      <th></th>\n",
              "      <th>seat_number</th>\n",
              "      <th>payment_method</th>\n",
              "      <th>payment_receipt</th>\n",
              "      <th>travel_date</th>\n",
              "      <th>travel_time</th>\n",
              "      <th>travel_from</th>\n",
              "      <th>travel_to</th>\n",
              "      <th>car_type</th>\n",
              "    </tr>\n",
              "  </thead>\n",
              "  <tbody>\n",
              "    <tr>\n",
              "      <th>count</th>\n",
              "      <td>51645</td>\n",
              "      <td>51645</td>\n",
              "      <td>51645</td>\n",
              "      <td>51645</td>\n",
              "      <td>51645</td>\n",
              "      <td>51645</td>\n",
              "      <td>51645</td>\n",
              "      <td>51645</td>\n",
              "    </tr>\n",
              "    <tr>\n",
              "      <th>unique</th>\n",
              "      <td>61</td>\n",
              "      <td>2</td>\n",
              "      <td>51645</td>\n",
              "      <td>149</td>\n",
              "      <td>78</td>\n",
              "      <td>17</td>\n",
              "      <td>1</td>\n",
              "      <td>2</td>\n",
              "    </tr>\n",
              "    <tr>\n",
              "      <th>top</th>\n",
              "      <td>1</td>\n",
              "      <td>Mpesa</td>\n",
              "      <td>UZUEHCBUSO</td>\n",
              "      <td>10-12-17</td>\n",
              "      <td>7:09</td>\n",
              "      <td>Kisii</td>\n",
              "      <td>Nairobi</td>\n",
              "      <td>Bus</td>\n",
              "    </tr>\n",
              "    <tr>\n",
              "      <th>freq</th>\n",
              "      <td>2065</td>\n",
              "      <td>51532</td>\n",
              "      <td>1</td>\n",
              "      <td>856</td>\n",
              "      <td>3926</td>\n",
              "      <td>22607</td>\n",
              "      <td>51645</td>\n",
              "      <td>31985</td>\n",
              "    </tr>\n",
              "  </tbody>\n",
              "</table>\n",
              "</div>\n",
              "      <button class=\"colab-df-convert\" onclick=\"convertToInteractive('df-530730bf-8956-4a68-a626-87a17735387b')\"\n",
              "              title=\"Convert this dataframe to an interactive table.\"\n",
              "              style=\"display:none;\">\n",
              "        \n",
              "  <svg xmlns=\"http://www.w3.org/2000/svg\" height=\"24px\"viewBox=\"0 0 24 24\"\n",
              "       width=\"24px\">\n",
              "    <path d=\"M0 0h24v24H0V0z\" fill=\"none\"/>\n",
              "    <path d=\"M18.56 5.44l.94 2.06.94-2.06 2.06-.94-2.06-.94-.94-2.06-.94 2.06-2.06.94zm-11 1L8.5 8.5l.94-2.06 2.06-.94-2.06-.94L8.5 2.5l-.94 2.06-2.06.94zm10 10l.94 2.06.94-2.06 2.06-.94-2.06-.94-.94-2.06-.94 2.06-2.06.94z\"/><path d=\"M17.41 7.96l-1.37-1.37c-.4-.4-.92-.59-1.43-.59-.52 0-1.04.2-1.43.59L10.3 9.45l-7.72 7.72c-.78.78-.78 2.05 0 2.83L4 21.41c.39.39.9.59 1.41.59.51 0 1.02-.2 1.41-.59l7.78-7.78 2.81-2.81c.8-.78.8-2.07 0-2.86zM5.41 20L4 18.59l7.72-7.72 1.47 1.35L5.41 20z\"/>\n",
              "  </svg>\n",
              "      </button>\n",
              "      \n",
              "  <style>\n",
              "    .colab-df-container {\n",
              "      display:flex;\n",
              "      flex-wrap:wrap;\n",
              "      gap: 12px;\n",
              "    }\n",
              "\n",
              "    .colab-df-convert {\n",
              "      background-color: #E8F0FE;\n",
              "      border: none;\n",
              "      border-radius: 50%;\n",
              "      cursor: pointer;\n",
              "      display: none;\n",
              "      fill: #1967D2;\n",
              "      height: 32px;\n",
              "      padding: 0 0 0 0;\n",
              "      width: 32px;\n",
              "    }\n",
              "\n",
              "    .colab-df-convert:hover {\n",
              "      background-color: #E2EBFA;\n",
              "      box-shadow: 0px 1px 2px rgba(60, 64, 67, 0.3), 0px 1px 3px 1px rgba(60, 64, 67, 0.15);\n",
              "      fill: #174EA6;\n",
              "    }\n",
              "\n",
              "    [theme=dark] .colab-df-convert {\n",
              "      background-color: #3B4455;\n",
              "      fill: #D2E3FC;\n",
              "    }\n",
              "\n",
              "    [theme=dark] .colab-df-convert:hover {\n",
              "      background-color: #434B5C;\n",
              "      box-shadow: 0px 1px 3px 1px rgba(0, 0, 0, 0.15);\n",
              "      filter: drop-shadow(0px 1px 2px rgba(0, 0, 0, 0.3));\n",
              "      fill: #FFFFFF;\n",
              "    }\n",
              "  </style>\n",
              "\n",
              "      <script>\n",
              "        const buttonEl =\n",
              "          document.querySelector('#df-530730bf-8956-4a68-a626-87a17735387b button.colab-df-convert');\n",
              "        buttonEl.style.display =\n",
              "          google.colab.kernel.accessAllowed ? 'block' : 'none';\n",
              "\n",
              "        async function convertToInteractive(key) {\n",
              "          const element = document.querySelector('#df-530730bf-8956-4a68-a626-87a17735387b');\n",
              "          const dataTable =\n",
              "            await google.colab.kernel.invokeFunction('convertToInteractive',\n",
              "                                                     [key], {});\n",
              "          if (!dataTable) return;\n",
              "\n",
              "          const docLinkHtml = 'Like what you see? Visit the ' +\n",
              "            '<a target=\"_blank\" href=https://colab.research.google.com/notebooks/data_table.ipynb>data table notebook</a>'\n",
              "            + ' to learn more about interactive tables.';\n",
              "          element.innerHTML = '';\n",
              "          dataTable['output_type'] = 'display_data';\n",
              "          await google.colab.output.renderOutput(dataTable, element);\n",
              "          const docLink = document.createElement('div');\n",
              "          docLink.innerHTML = docLinkHtml;\n",
              "          element.appendChild(docLink);\n",
              "        }\n",
              "      </script>\n",
              "    </div>\n",
              "  </div>\n",
              "  "
            ]
          },
          "metadata": {},
          "execution_count": 30
        }
      ]
    },
    {
      "cell_type": "markdown",
      "source": [
        "**Findings:**\n",
        "\n",
        "1. Two type of payment method.\n",
        "2. Only 149 days record is available.\n",
        "3. There are 17 distinct origin.\n",
        "4. There are 2 type of vehicle.\n",
        "5. Only one destination Nairobi.\n",
        "6. Bus is more in number.\n"
      ],
      "metadata": {
        "id": "O8UfvETT5-tI"
      }
    },
    {
      "cell_type": "markdown",
      "source": [
        "**Type, Null Count, Non Null Count, Unique Count of Features present in the dataset**"
      ],
      "metadata": {
        "id": "qDeBRRWXyqrK"
      }
    },
    {
      "cell_type": "code",
      "source": [
        "def info(dataset):\n",
        "  info_df = pd.DataFrame(columns={'Type','Null Count','Non Null Count','Unique Count'},index=dataset.columns)\n",
        "  info_df['Type'] = dataset.dtypes\n",
        "  info_df['Null Count'] = dataset.isnull().sum()\n",
        "  info_df['Non Null Count'] = len(dataset) - dataset.isnull().sum()\n",
        "  info_df['Unique Count'] = dataset.nunique()\n",
        "  return info_df"
      ],
      "metadata": {
        "id": "Olwpvig6zKAd"
      },
      "execution_count": 31,
      "outputs": []
    },
    {
      "cell_type": "code",
      "source": [
        "info(transport_df).T"
      ],
      "metadata": {
        "colab": {
          "base_uri": "https://localhost:8080/",
          "height": 174
        },
        "id": "QI96lik605DS",
        "outputId": "b7b4756f-9e76-4973-f0a0-18d3f54fe763"
      },
      "execution_count": 32,
      "outputs": [
        {
          "output_type": "execute_result",
          "data": {
            "text/plain": [
              "               ride_id seat_number payment_method payment_receipt travel_date  \\\n",
              "Unique Count      6249          61              2           51645         149   \n",
              "Non Null Count   51645       51645          51645           51645       51645   \n",
              "Null Count           0           0              0               0           0   \n",
              "Type             int64      object         object          object      object   \n",
              "\n",
              "               travel_time travel_from travel_to car_type max_capacity  \n",
              "Unique Count            78          17         1        2            2  \n",
              "Non Null Count       51645       51645     51645    51645        51645  \n",
              "Null Count               0           0         0        0            0  \n",
              "Type                object      object    object   object        int64  "
            ],
            "text/html": [
              "\n",
              "  <div id=\"df-847e9a02-0e96-4968-af91-e2336ea18ab7\">\n",
              "    <div class=\"colab-df-container\">\n",
              "      <div>\n",
              "<style scoped>\n",
              "    .dataframe tbody tr th:only-of-type {\n",
              "        vertical-align: middle;\n",
              "    }\n",
              "\n",
              "    .dataframe tbody tr th {\n",
              "        vertical-align: top;\n",
              "    }\n",
              "\n",
              "    .dataframe thead th {\n",
              "        text-align: right;\n",
              "    }\n",
              "</style>\n",
              "<table border=\"1\" class=\"dataframe\">\n",
              "  <thead>\n",
              "    <tr style=\"text-align: right;\">\n",
              "      <th></th>\n",
              "      <th>ride_id</th>\n",
              "      <th>seat_number</th>\n",
              "      <th>payment_method</th>\n",
              "      <th>payment_receipt</th>\n",
              "      <th>travel_date</th>\n",
              "      <th>travel_time</th>\n",
              "      <th>travel_from</th>\n",
              "      <th>travel_to</th>\n",
              "      <th>car_type</th>\n",
              "      <th>max_capacity</th>\n",
              "    </tr>\n",
              "  </thead>\n",
              "  <tbody>\n",
              "    <tr>\n",
              "      <th>Unique Count</th>\n",
              "      <td>6249</td>\n",
              "      <td>61</td>\n",
              "      <td>2</td>\n",
              "      <td>51645</td>\n",
              "      <td>149</td>\n",
              "      <td>78</td>\n",
              "      <td>17</td>\n",
              "      <td>1</td>\n",
              "      <td>2</td>\n",
              "      <td>2</td>\n",
              "    </tr>\n",
              "    <tr>\n",
              "      <th>Non Null Count</th>\n",
              "      <td>51645</td>\n",
              "      <td>51645</td>\n",
              "      <td>51645</td>\n",
              "      <td>51645</td>\n",
              "      <td>51645</td>\n",
              "      <td>51645</td>\n",
              "      <td>51645</td>\n",
              "      <td>51645</td>\n",
              "      <td>51645</td>\n",
              "      <td>51645</td>\n",
              "    </tr>\n",
              "    <tr>\n",
              "      <th>Null Count</th>\n",
              "      <td>0</td>\n",
              "      <td>0</td>\n",
              "      <td>0</td>\n",
              "      <td>0</td>\n",
              "      <td>0</td>\n",
              "      <td>0</td>\n",
              "      <td>0</td>\n",
              "      <td>0</td>\n",
              "      <td>0</td>\n",
              "      <td>0</td>\n",
              "    </tr>\n",
              "    <tr>\n",
              "      <th>Type</th>\n",
              "      <td>int64</td>\n",
              "      <td>object</td>\n",
              "      <td>object</td>\n",
              "      <td>object</td>\n",
              "      <td>object</td>\n",
              "      <td>object</td>\n",
              "      <td>object</td>\n",
              "      <td>object</td>\n",
              "      <td>object</td>\n",
              "      <td>int64</td>\n",
              "    </tr>\n",
              "  </tbody>\n",
              "</table>\n",
              "</div>\n",
              "      <button class=\"colab-df-convert\" onclick=\"convertToInteractive('df-847e9a02-0e96-4968-af91-e2336ea18ab7')\"\n",
              "              title=\"Convert this dataframe to an interactive table.\"\n",
              "              style=\"display:none;\">\n",
              "        \n",
              "  <svg xmlns=\"http://www.w3.org/2000/svg\" height=\"24px\"viewBox=\"0 0 24 24\"\n",
              "       width=\"24px\">\n",
              "    <path d=\"M0 0h24v24H0V0z\" fill=\"none\"/>\n",
              "    <path d=\"M18.56 5.44l.94 2.06.94-2.06 2.06-.94-2.06-.94-.94-2.06-.94 2.06-2.06.94zm-11 1L8.5 8.5l.94-2.06 2.06-.94-2.06-.94L8.5 2.5l-.94 2.06-2.06.94zm10 10l.94 2.06.94-2.06 2.06-.94-2.06-.94-.94-2.06-.94 2.06-2.06.94z\"/><path d=\"M17.41 7.96l-1.37-1.37c-.4-.4-.92-.59-1.43-.59-.52 0-1.04.2-1.43.59L10.3 9.45l-7.72 7.72c-.78.78-.78 2.05 0 2.83L4 21.41c.39.39.9.59 1.41.59.51 0 1.02-.2 1.41-.59l7.78-7.78 2.81-2.81c.8-.78.8-2.07 0-2.86zM5.41 20L4 18.59l7.72-7.72 1.47 1.35L5.41 20z\"/>\n",
              "  </svg>\n",
              "      </button>\n",
              "      \n",
              "  <style>\n",
              "    .colab-df-container {\n",
              "      display:flex;\n",
              "      flex-wrap:wrap;\n",
              "      gap: 12px;\n",
              "    }\n",
              "\n",
              "    .colab-df-convert {\n",
              "      background-color: #E8F0FE;\n",
              "      border: none;\n",
              "      border-radius: 50%;\n",
              "      cursor: pointer;\n",
              "      display: none;\n",
              "      fill: #1967D2;\n",
              "      height: 32px;\n",
              "      padding: 0 0 0 0;\n",
              "      width: 32px;\n",
              "    }\n",
              "\n",
              "    .colab-df-convert:hover {\n",
              "      background-color: #E2EBFA;\n",
              "      box-shadow: 0px 1px 2px rgba(60, 64, 67, 0.3), 0px 1px 3px 1px rgba(60, 64, 67, 0.15);\n",
              "      fill: #174EA6;\n",
              "    }\n",
              "\n",
              "    [theme=dark] .colab-df-convert {\n",
              "      background-color: #3B4455;\n",
              "      fill: #D2E3FC;\n",
              "    }\n",
              "\n",
              "    [theme=dark] .colab-df-convert:hover {\n",
              "      background-color: #434B5C;\n",
              "      box-shadow: 0px 1px 3px 1px rgba(0, 0, 0, 0.15);\n",
              "      filter: drop-shadow(0px 1px 2px rgba(0, 0, 0, 0.3));\n",
              "      fill: #FFFFFF;\n",
              "    }\n",
              "  </style>\n",
              "\n",
              "      <script>\n",
              "        const buttonEl =\n",
              "          document.querySelector('#df-847e9a02-0e96-4968-af91-e2336ea18ab7 button.colab-df-convert');\n",
              "        buttonEl.style.display =\n",
              "          google.colab.kernel.accessAllowed ? 'block' : 'none';\n",
              "\n",
              "        async function convertToInteractive(key) {\n",
              "          const element = document.querySelector('#df-847e9a02-0e96-4968-af91-e2336ea18ab7');\n",
              "          const dataTable =\n",
              "            await google.colab.kernel.invokeFunction('convertToInteractive',\n",
              "                                                     [key], {});\n",
              "          if (!dataTable) return;\n",
              "\n",
              "          const docLinkHtml = 'Like what you see? Visit the ' +\n",
              "            '<a target=\"_blank\" href=https://colab.research.google.com/notebooks/data_table.ipynb>data table notebook</a>'\n",
              "            + ' to learn more about interactive tables.';\n",
              "          element.innerHTML = '';\n",
              "          dataTable['output_type'] = 'display_data';\n",
              "          await google.colab.output.renderOutput(dataTable, element);\n",
              "          const docLink = document.createElement('div');\n",
              "          docLink.innerHTML = docLinkHtml;\n",
              "          element.appendChild(docLink);\n",
              "        }\n",
              "      </script>\n",
              "    </div>\n",
              "  </div>\n",
              "  "
            ]
          },
          "metadata": {},
          "execution_count": 32
        }
      ]
    },
    {
      "cell_type": "markdown",
      "source": [
        "**Findings:**\n",
        "\n",
        "1.    No Null Values are  present in the dataset.\n",
        "2.    Maximum features are of categorical type.\n",
        "3.    Two types of payment method.\n",
        "4.    17 Unique Origin.\n",
        "5.    1 Destination for all Origin\n",
        "6.    2 Types of Vehicle."
      ],
      "metadata": {
        "id": "LCzjGT_A10RZ"
      }
    },
    {
      "cell_type": "markdown",
      "source": [
        "#**EDA and Features Selection**"
      ],
      "metadata": {
        "id": "oIFipfO4dqDL"
      }
    },
    {
      "cell_type": "markdown",
      "source": [
        "**Payment,CarType and Maximum Capacity**"
      ],
      "metadata": {
        "id": "vo_ZMjd_5fbA"
      }
    },
    {
      "cell_type": "code",
      "source": [
        "#count of unique values\n",
        "value_count_cols = ['payment_method','car_type','max_capacity']\n",
        "for value in value_count_cols:\n",
        "  print(transport_df[value].value_counts())"
      ],
      "metadata": {
        "colab": {
          "base_uri": "https://localhost:8080/"
        },
        "id": "4_CVO4Oi5rHk",
        "outputId": "76acd7df-3980-4edc-c5b9-c73caaecbc00"
      },
      "execution_count": 33,
      "outputs": [
        {
          "output_type": "stream",
          "name": "stdout",
          "text": [
            "Mpesa    51532\n",
            "Cash       113\n",
            "Name: payment_method, dtype: int64\n",
            "Bus        31985\n",
            "shuttle    19660\n",
            "Name: car_type, dtype: int64\n",
            "49    31985\n",
            "11    19660\n",
            "Name: max_capacity, dtype: int64\n"
          ]
        }
      ]
    },
    {
      "cell_type": "code",
      "source": [
        "plot_count_cols = ['payment_method','car_type','max_capacity']\n",
        "for plots in plot_count_cols:\n",
        "  sns.countplot(transport_df[plots])\n",
        "  plt.show()"
      ],
      "metadata": {
        "colab": {
          "base_uri": "https://localhost:8080/",
          "height": 821
        },
        "id": "n1s7AjIM5-RM",
        "outputId": "cab7459d-af09-4394-bf49-b5246cfbbb61"
      },
      "execution_count": 34,
      "outputs": [
        {
          "output_type": "display_data",
          "data": {
            "text/plain": [
              "<Figure size 432x288 with 1 Axes>"
            ],
            "image/png": "[encoded data removed]"
          },
          "metadata": {
            "needs_background": "light"
          }
        },
        {
          "output_type": "display_data",
          "data": {
            "text/plain": [
              "<Figure size 432x288 with 1 Axes>"
            ],
            "image/png": "[encoded data removed]"
          },
          "metadata": {
            "needs_background": "light"
          }
        },
        {
          "output_type": "display_data",
          "data": {
            "text/plain": [
              "<Figure size 432x288 with 1 Axes>"
            ],
            "image/png": "[encoded data removed]"
          },
          "metadata": {
            "needs_background": "light"
          }
        }
      ]
    },
    {
      "cell_type": "markdown",
      "source": [
        "**Findings:**\n",
        "1. Peoples are highly aware about digital payment.Do not prefer to pay in cash.\n",
        "2. Count of Bus is more than Shuttle.\n",
        "3. As almost all the peoples are paying digitally hence we will drop this feature as it is almost constant."
      ],
      "metadata": {
        "id": "JNi6dk2M6ymV"
      }
    },
    {
      "cell_type": "code",
      "source": [
        "#dropping column payment_method\n",
        "transport_df.drop('payment_method',axis=1,inplace=True)"
      ],
      "metadata": {
        "id": "EoQbFgoAUyZl"
      },
      "execution_count": 35,
      "outputs": []
    },
    {
      "cell_type": "markdown",
      "source": [
        "**Correlation between max_capacity and car_type**"
      ],
      "metadata": {
        "id": "Dqr_QCXuXHOD"
      }
    },
    {
      "cell_type": "code",
      "source": [
        "#finding correlation between max capacity and car type\n",
        "sns.heatmap(transport_df[['max_capacity','car_type']].apply(lambda x : pd.factorize(x)[0]).corr(method='spearman', min_periods=1),cmap='coolwarm',annot=True)"
      ],
      "metadata": {
        "colab": {
          "base_uri": "https://localhost:8080/",
          "height": 291
        },
        "id": "gAWKrKGiYng5",
        "outputId": "6e55c681-fb69-4a5c-99b5-80596181922e"
      },
      "execution_count": 36,
      "outputs": [
        {
          "output_type": "execute_result",
          "data": {
            "text/plain": [
              "<matplotlib.axes._subplots.AxesSubplot at 0x7fe48bd56510>"
            ]
          },
          "metadata": {},
          "execution_count": 36
        },
        {
          "output_type": "display_data",
          "data": {
            "text/plain": [
              "<Figure size 432x288 with 2 Axes>"
            ],
            "image/png": "[encoded data removed]"
          },
          "metadata": {
            "needs_background": "light"
          }
        }
      ]
    },
    {
      "cell_type": "markdown",
      "source": [
        "**Finding:** As the two features are completely correlated hence we will drop one of them"
      ],
      "metadata": {
        "id": "onWnlc_HcjxT"
      }
    },
    {
      "cell_type": "code",
      "source": [
        "#dropping car type from feature list\n",
        "transport_df.drop('car_type',axis=1,inplace=True)"
      ],
      "metadata": {
        "id": "NS6tk1PuciGr"
      },
      "execution_count": 37,
      "outputs": []
    },
    {
      "cell_type": "markdown",
      "source": [
        "**Count of Unique Origin**"
      ],
      "metadata": {
        "id": "z5Kw-e-c7Q8G"
      }
    },
    {
      "cell_type": "code",
      "source": [
        "plt.figure(figsize=(10,6))\n",
        "transport_df['travel_from'].value_counts().plot(kind='bar')\n",
        "plt.xticks(rotation=90)"
      ],
      "metadata": {
        "colab": {
          "base_uri": "https://localhost:8080/",
          "height": 465
        },
        "id": "RGkhzT1y7XXD",
        "outputId": "a4aaa88b-21f3-4fbc-dec4-dc4d2f01efdf"
      },
      "execution_count": 38,
      "outputs": [
        {
          "output_type": "execute_result",
          "data": {
            "text/plain": [
              "(array([ 0,  1,  2,  3,  4,  5,  6,  7,  8,  9, 10, 11, 12, 13, 14, 15, 16]),\n",
              " <a list of 17 Text major ticklabel objects>)"
            ]
          },
          "metadata": {},
          "execution_count": 38
        },
        {
          "output_type": "display_data",
          "data": {
            "text/plain": [
              "<Figure size 720x432 with 1 Axes>"
            ],
            "image/png": "[encoded data removed]"
          },
          "metadata": {
            "needs_background": "light"
          }
        }
      ]
    },
    {
      "cell_type": "markdown",
      "source": [
        "**Findings:**\n",
        "1. Some Origins have negligible impact on demand. Showing very less transit between them and Nairobi\n",
        "2. Kisii is the most popular Origin. Having frequent availability of transportation vehicle.\n",
        "3. Plugging less popular origin into one unit."
      ],
      "metadata": {
        "id": "SbjWr9XH-vzk"
      }
    },
    {
      "cell_type": "code",
      "source": [
        "#plugging less popular origin into one unit called other\n",
        "modify_origin = {'Nyachenge': 'other', 'Rodi': 'other', 'Mbita': 'other', 'Ndhiwa': 'other', 'Sori': 'other', 'Keumbu': 'other', 'Oyugis': 'other', 'Kendu Bay': 'other' }\n",
        "transport_df['travel_from'] = transport_df['travel_from'].replace(modify_origin)"
      ],
      "metadata": {
        "id": "F2yg6w2igPE4"
      },
      "execution_count": 42,
      "outputs": []
    },
    {
      "cell_type": "code",
      "source": [
        "transport_df['travel_from'].unique()"
      ],
      "metadata": {
        "colab": {
          "base_uri": "https://localhost:8080/"
        },
        "id": "sZXcUcSclTdI",
        "outputId": "022c92ce-6d83-43a8-8a59-38ab798aac4b"
      },
      "execution_count": 40,
      "outputs": [
        {
          "output_type": "execute_result",
          "data": {
            "text/plain": [
              "array(['Migori', 'Keroka', 'Homa Bay', 'Kisii', 'other', 'Rongo',\n",
              "       'Kijauri', 'Awendo', 'Sirare', 'Kehancha'], dtype=object)"
            ]
          },
          "metadata": {},
          "execution_count": 40
        }
      ]
    },
    {
      "cell_type": "markdown",
      "source": [
        "**Travel Time**"
      ],
      "metadata": {
        "id": "_ShKKI7Kc58b"
      }
    },
    {
      "cell_type": "code",
      "source": [
        "plt.figure(figsize=(15,8))\n",
        "transport_df['travel_time'].value_counts().plot(kind='bar')\n",
        "plt.xticks(rotation=90)\n",
        "plt.show()"
      ],
      "metadata": {
        "colab": {
          "base_uri": "https://localhost:8080/",
          "height": 506
        },
        "id": "LDrI8gbqR9eP",
        "outputId": "76e21b62-93db-44aa-b34d-94b512a4c8fc"
      },
      "execution_count": null,
      "outputs": [
        {
          "output_type": "display_data",
          "data": {
            "text/plain": [
              "<Figure size 1080x576 with 1 Axes>"
            ],
            "image/png": "[encoded data removed]"
          },
          "metadata": {
            "needs_background": "light"
          }
        }
      ]
    },
    {
      "cell_type": "markdown",
      "source": [
        "**Findings:**\n",
        "\n",
        "1. Count of Public transport vehicle is high during the morning time till 10 am in the morning.\n",
        "2. There is no public transport during the midnight. \n",
        "3. Last availability is at 11:09 pm in the night."
      ],
      "metadata": {
        "id": "q3c6FL-CeGMM"
      }
    },
    {
      "cell_type": "markdown",
      "source": [
        "**Dropping of Features**\n",
        "1. Destination point: As this feature has a constant value i.e Nairobi\n",
        "2. Payment Receipt: As it is categorical and  all the values are different."
      ],
      "metadata": {
        "id": "4wW50MRJm487"
      }
    },
    {
      "cell_type": "code",
      "source": [
        "#dropping features\n",
        "transport_df.drop(['travel_to','payment_receipt'],axis=1,inplace=True)"
      ],
      "metadata": {
        "id": "BkEubCOQn6Dc"
      },
      "execution_count": 44,
      "outputs": []
    },
    {
      "cell_type": "markdown",
      "source": [
        "##**Determining Target Variable:**\n",
        "\n",
        "Predicting demand of a particular ride means predicting a demand at a particular date and time for a  specific route\n",
        "\n",
        "Now we can understand Demand here as a number of booking made for each ride. For this we will build a new dataset by grouping the rideId and all other features and then aggregating number of seat booked in a given ride. By doing this we will get out target variable in the form of number of booking for a given at a given time and data for a particular route."
      ],
      "metadata": {
        "id": "e_rvYaBHeh0e"
      }
    },
    {
      "cell_type": "code",
      "source": [
        "transform_df = transport_df.groupby(['ride_id','travel_from','travel_date','travel_time','max_capacity']).agg({\"seat_number\": \"count\"}).reset_index()"
      ],
      "metadata": {
        "id": "Qe2k61zkghVg"
      },
      "execution_count": 46,
      "outputs": []
    },
    {
      "cell_type": "code",
      "source": [
        "transform_df.rename(columns={'seat_number': 'target'},inplace=True)"
      ],
      "metadata": {
        "id": "6gylut0jh5g2"
      },
      "execution_count": 47,
      "outputs": []
    },
    {
      "cell_type": "code",
      "source": [
        "transform_df.head()"
      ],
      "metadata": {
        "colab": {
          "base_uri": "https://localhost:8080/",
          "height": 206
        },
        "id": "G_TcP47shygQ",
        "outputId": "1b977203-3c85-42fc-a923-93cf563169fe"
      },
      "execution_count": 48,
      "outputs": [
        {
          "output_type": "execute_result",
          "data": {
            "text/plain": [
              "   ride_id travel_from travel_date travel_time  max_capacity  target\n",
              "0     1442      Migori    17-10-17        7:15            49       1\n",
              "1     5437      Migori    19-11-17        7:12            49       1\n",
              "2     5710      Keroka    26-11-17        7:05            49       1\n",
              "3     5777    Homa Bay    27-11-17        7:10            49       5\n",
              "4     5778      Migori    27-11-17        7:12            49      31"
            ],
            "text/html": [
              "\n",
              "  <div id=\"df-30de1439-250c-4f8b-9bff-84aa648bef8e\">\n",
              "    <div class=\"colab-df-container\">\n",
              "      <div>\n",
              "<style scoped>\n",
              "    .dataframe tbody tr th:only-of-type {\n",
              "        vertical-align: middle;\n",
              "    }\n",
              "\n",
              "    .dataframe tbody tr th {\n",
              "        vertical-align: top;\n",
              "    }\n",
              "\n",
              "    .dataframe thead th {\n",
              "        text-align: right;\n",
              "    }\n",
              "</style>\n",
              "<table border=\"1\" class=\"dataframe\">\n",
              "  <thead>\n",
              "    <tr style=\"text-align: right;\">\n",
              "      <th></th>\n",
              "      <th>ride_id</th>\n",
              "      <th>travel_from</th>\n",
              "      <th>travel_date</th>\n",
              "      <th>travel_time</th>\n",
              "      <th>max_capacity</th>\n",
              "      <th>target</th>\n",
              "    </tr>\n",
              "  </thead>\n",
              "  <tbody>\n",
              "    <tr>\n",
              "      <th>0</th>\n",
              "      <td>1442</td>\n",
              "      <td>Migori</td>\n",
              "      <td>17-10-17</td>\n",
              "      <td>7:15</td>\n",
              "      <td>49</td>\n",
              "      <td>1</td>\n",
              "    </tr>\n",
              "    <tr>\n",
              "      <th>1</th>\n",
              "      <td>5437</td>\n",
              "      <td>Migori</td>\n",
              "      <td>19-11-17</td>\n",
              "      <td>7:12</td>\n",
              "      <td>49</td>\n",
              "      <td>1</td>\n",
              "    </tr>\n",
              "    <tr>\n",
              "      <th>2</th>\n",
              "      <td>5710</td>\n",
              "      <td>Keroka</td>\n",
              "      <td>26-11-17</td>\n",
              "      <td>7:05</td>\n",
              "      <td>49</td>\n",
              "      <td>1</td>\n",
              "    </tr>\n",
              "    <tr>\n",
              "      <th>3</th>\n",
              "      <td>5777</td>\n",
              "      <td>Homa Bay</td>\n",
              "      <td>27-11-17</td>\n",
              "      <td>7:10</td>\n",
              "      <td>49</td>\n",
              "      <td>5</td>\n",
              "    </tr>\n",
              "    <tr>\n",
              "      <th>4</th>\n",
              "      <td>5778</td>\n",
              "      <td>Migori</td>\n",
              "      <td>27-11-17</td>\n",
              "      <td>7:12</td>\n",
              "      <td>49</td>\n",
              "      <td>31</td>\n",
              "    </tr>\n",
              "  </tbody>\n",
              "</table>\n",
              "</div>\n",
              "      <button class=\"colab-df-convert\" onclick=\"convertToInteractive('df-30de1439-250c-4f8b-9bff-84aa648bef8e')\"\n",
              "              title=\"Convert this dataframe to an interactive table.\"\n",
              "              style=\"display:none;\">\n",
              "        \n",
              "  <svg xmlns=\"http://www.w3.org/2000/svg\" height=\"24px\"viewBox=\"0 0 24 24\"\n",
              "       width=\"24px\">\n",
              "    <path d=\"M0 0h24v24H0V0z\" fill=\"none\"/>\n",
              "    <path d=\"M18.56 5.44l.94 2.06.94-2.06 2.06-.94-2.06-.94-.94-2.06-.94 2.06-2.06.94zm-11 1L8.5 8.5l.94-2.06 2.06-.94-2.06-.94L8.5 2.5l-.94 2.06-2.06.94zm10 10l.94 2.06.94-2.06 2.06-.94-2.06-.94-.94-2.06-.94 2.06-2.06.94z\"/><path d=\"M17.41 7.96l-1.37-1.37c-.4-.4-.92-.59-1.43-.59-.52 0-1.04.2-1.43.59L10.3 9.45l-7.72 7.72c-.78.78-.78 2.05 0 2.83L4 21.41c.39.39.9.59 1.41.59.51 0 1.02-.2 1.41-.59l7.78-7.78 2.81-2.81c.8-.78.8-2.07 0-2.86zM5.41 20L4 18.59l7.72-7.72 1.47 1.35L5.41 20z\"/>\n",
              "  </svg>\n",
              "      </button>\n",
              "      \n",
              "  <style>\n",
              "    .colab-df-container {\n",
              "      display:flex;\n",
              "      flex-wrap:wrap;\n",
              "      gap: 12px;\n",
              "    }\n",
              "\n",
              "    .colab-df-convert {\n",
              "      background-color: #E8F0FE;\n",
              "      border: none;\n",
              "      border-radius: 50%;\n",
              "      cursor: pointer;\n",
              "      display: none;\n",
              "      fill: #1967D2;\n",
              "      height: 32px;\n",
              "      padding: 0 0 0 0;\n",
              "      width: 32px;\n",
              "    }\n",
              "\n",
              "    .colab-df-convert:hover {\n",
              "      background-color: #E2EBFA;\n",
              "      box-shadow: 0px 1px 2px rgba(60, 64, 67, 0.3), 0px 1px 3px 1px rgba(60, 64, 67, 0.15);\n",
              "      fill: #174EA6;\n",
              "    }\n",
              "\n",
              "    [theme=dark] .colab-df-convert {\n",
              "      background-color: #3B4455;\n",
              "      fill: #D2E3FC;\n",
              "    }\n",
              "\n",
              "    [theme=dark] .colab-df-convert:hover {\n",
              "      background-color: #434B5C;\n",
              "      box-shadow: 0px 1px 3px 1px rgba(0, 0, 0, 0.15);\n",
              "      filter: drop-shadow(0px 1px 2px rgba(0, 0, 0, 0.3));\n",
              "      fill: #FFFFFF;\n",
              "    }\n",
              "  </style>\n",
              "\n",
              "      <script>\n",
              "        const buttonEl =\n",
              "          document.querySelector('#df-30de1439-250c-4f8b-9bff-84aa648bef8e button.colab-df-convert');\n",
              "        buttonEl.style.display =\n",
              "          google.colab.kernel.accessAllowed ? 'block' : 'none';\n",
              "\n",
              "        async function convertToInteractive(key) {\n",
              "          const element = document.querySelector('#df-30de1439-250c-4f8b-9bff-84aa648bef8e');\n",
              "          const dataTable =\n",
              "            await google.colab.kernel.invokeFunction('convertToInteractive',\n",
              "                                                     [key], {});\n",
              "          if (!dataTable) return;\n",
              "\n",
              "          const docLinkHtml = 'Like what you see? Visit the ' +\n",
              "            '<a target=\"_blank\" href=https://colab.research.google.com/notebooks/data_table.ipynb>data table notebook</a>'\n",
              "            + ' to learn more about interactive tables.';\n",
              "          element.innerHTML = '';\n",
              "          dataTable['output_type'] = 'display_data';\n",
              "          await google.colab.output.renderOutput(dataTable, element);\n",
              "          const docLink = document.createElement('div');\n",
              "          docLink.innerHTML = docLinkHtml;\n",
              "          element.appendChild(docLink);\n",
              "        }\n",
              "      </script>\n",
              "    </div>\n",
              "  </div>\n",
              "  "
            ]
          },
          "metadata": {},
          "execution_count": 48
        }
      ]
    },
    {
      "cell_type": "markdown",
      "source": [
        "**Number of duplicate value in the dataset**"
      ],
      "metadata": {
        "id": "EJKcqAAUZ8E1"
      }
    },
    {
      "cell_type": "code",
      "source": [
        "transform_df.duplicated( keep='first').sum()"
      ],
      "metadata": {
        "colab": {
          "base_uri": "https://localhost:8080/"
        },
        "id": "AVm7N8VjZxEp",
        "outputId": "4c392253-aeae-45c5-c88b-1b1a704a9bd9"
      },
      "execution_count": 49,
      "outputs": [
        {
          "output_type": "execute_result",
          "data": {
            "text/plain": [
              "0"
            ]
          },
          "metadata": {},
          "execution_count": 49
        }
      ]
    },
    {
      "cell_type": "markdown",
      "source": [
        "**Shape of a transform dataframe**"
      ],
      "metadata": {
        "id": "sBFEBR64ABFY"
      }
    },
    {
      "cell_type": "code",
      "source": [
        "#shape of transform dataframe\n",
        "transform_df.shape"
      ],
      "metadata": {
        "colab": {
          "base_uri": "https://localhost:8080/"
        },
        "id": "YVjW-LYYmIaQ",
        "outputId": "3a3b20f4-e57f-4ed3-b5b6-70cce92cb235"
      },
      "execution_count": 50,
      "outputs": [
        {
          "output_type": "execute_result",
          "data": {
            "text/plain": [
              "(6249, 6)"
            ]
          },
          "metadata": {},
          "execution_count": 50
        }
      ]
    },
    {
      "cell_type": "code",
      "source": [
        "#concise summary of dataframe\n",
        "transform_df.info()"
      ],
      "metadata": {
        "colab": {
          "base_uri": "https://localhost:8080/"
        },
        "id": "6LSJf5oa_37G",
        "outputId": "7c218fe2-ec2b-40cc-db82-bb55587d045e"
      },
      "execution_count": 51,
      "outputs": [
        {
          "output_type": "stream",
          "name": "stdout",
          "text": [
            "<class 'pandas.core.frame.DataFrame'>\n",
            "RangeIndex: 6249 entries, 0 to 6248\n",
            "Data columns (total 6 columns):\n",
            " #   Column        Non-Null Count  Dtype \n",
            "---  ------        --------------  ----- \n",
            " 0   ride_id       6249 non-null   int64 \n",
            " 1   travel_from   6249 non-null   object\n",
            " 2   travel_date   6249 non-null   object\n",
            " 3   travel_time   6249 non-null   object\n",
            " 4   max_capacity  6249 non-null   int64 \n",
            " 5   target        6249 non-null   int64 \n",
            "dtypes: int64(3), object(3)\n",
            "memory usage: 293.0+ KB\n"
          ]
        }
      ]
    },
    {
      "cell_type": "markdown",
      "source": [
        "##**Feature Engineering**"
      ],
      "metadata": {
        "id": "F_1S9oeyXEbt"
      }
    },
    {
      "cell_type": "code",
      "source": [
        "#date column which will be addition of date column and time column\n",
        "transform_df['date'] = transform_df['travel_date']+' '+transform_df['travel_time']"
      ],
      "metadata": {
        "id": "Gu2L5CoGXJpF"
      },
      "execution_count": 52,
      "outputs": []
    },
    {
      "cell_type": "code",
      "source": [
        "def  time_features(df): \n",
        "\n",
        "  '''This function takes dataframe as an argument and extracts the\n",
        "  different features from the date variable of the dataset and finaly returns the updated \n",
        "  dataset'''\n",
        "  \n",
        "  df[\"date\"]=pd.to_datetime(df[\"date\"])\n",
        "  df[\"day_of_week\"]=df[\"date\"].dt.dayofweek\n",
        "  df[\"day_of_month\"]=df[\"date\"].dt.day\n",
        "  df[\"hour\"]=df[\"date\"].dt.hour\n",
        "  df[\"is_weekend\"]=df[\"day_of_week\"].apply( lambda x : 1 if x  in [5,6] else 0 )\n",
        "  df[\"year\"]=df[\"date\"].dt.year\n",
        "  df[\"quarter\"]=df[\"date\"].dt.quarter\n",
        "  df[\"month\"]=df[\"date\"].dt.month\n",
        "  return df"
      ],
      "metadata": {
        "id": "s1f7lKF0Y6AH"
      },
      "execution_count": 53,
      "outputs": []
    },
    {
      "cell_type": "code",
      "source": [
        "time_features(transform_df)"
      ],
      "metadata": {
        "colab": {
          "base_uri": "https://localhost:8080/",
          "height": 423
        },
        "id": "e6LWIW3EZYHL",
        "outputId": "71be5d80-2728-4f89-cf1b-c240468f74f3"
      },
      "execution_count": 54,
      "outputs": [
        {
          "output_type": "execute_result",
          "data": {
            "text/plain": [
              "      ride_id travel_from travel_date travel_time  max_capacity  target  \\\n",
              "0        1442      Migori    17-10-17        7:15            49       1   \n",
              "1        5437      Migori    19-11-17        7:12            49       1   \n",
              "2        5710      Keroka    26-11-17        7:05            49       1   \n",
              "3        5777    Homa Bay    27-11-17        7:10            49       5   \n",
              "4        5778      Migori    27-11-17        7:12            49      31   \n",
              "...       ...         ...         ...         ...           ...     ...   \n",
              "6244    20113       Kisii    07-02-18        7:00            11       9   \n",
              "6245    20114       Kisii    12-12-17        7:10            49       4   \n",
              "6246    20115       Kisii    06-12-17        7:10            11       5   \n",
              "6247    20116       Kisii    27-11-17        7:10            11       1   \n",
              "6248    20117       Kisii    27-11-17        5:00            49       1   \n",
              "\n",
              "                    date  day_of_week  day_of_month  hour  is_weekend  year  \\\n",
              "0    2017-10-17 07:15:00            1            17     7           0  2017   \n",
              "1    2017-11-19 07:12:00            6            19     7           1  2017   \n",
              "2    2017-11-26 07:05:00            6            26     7           1  2017   \n",
              "3    2017-11-27 07:10:00            0            27     7           0  2017   \n",
              "4    2017-11-27 07:12:00            0            27     7           0  2017   \n",
              "...                  ...          ...           ...   ...         ...   ...   \n",
              "6244 2018-07-02 07:00:00            0             2     7           0  2018   \n",
              "6245 2017-12-12 07:10:00            1            12     7           0  2017   \n",
              "6246 2017-06-12 07:10:00            0            12     7           0  2017   \n",
              "6247 2017-11-27 07:10:00            0            27     7           0  2017   \n",
              "6248 2017-11-27 05:00:00            0            27     5           0  2017   \n",
              "\n",
              "      quarter  month  \n",
              "0           4     10  \n",
              "1           4     11  \n",
              "2           4     11  \n",
              "3           4     11  \n",
              "4           4     11  \n",
              "...       ...    ...  \n",
              "6244        3      7  \n",
              "6245        4     12  \n",
              "6246        2      6  \n",
              "6247        4     11  \n",
              "6248        4     11  \n",
              "\n",
              "[6249 rows x 14 columns]"
            ],
            "text/html": [
              "\n",
              "  <div id=\"df-f1b1b546-b034-4e45-b330-80f2ccf6a370\">\n",
              "    <div class=\"colab-df-container\">\n",
              "      <div>\n",
              "<style scoped>\n",
              "    .dataframe tbody tr th:only-of-type {\n",
              "        vertical-align: middle;\n",
              "    }\n",
              "\n",
              "    .dataframe tbody tr th {\n",
              "        vertical-align: top;\n",
              "    }\n",
              "\n",
              "    .dataframe thead th {\n",
              "        text-align: right;\n",
              "    }\n",
              "</style>\n",
              "<table border=\"1\" class=\"dataframe\">\n",
              "  <thead>\n",
              "    <tr style=\"text-align: right;\">\n",
              "      <th></th>\n",
              "      <th>ride_id</th>\n",
              "      <th>travel_from</th>\n",
              "      <th>travel_date</th>\n",
              "      <th>travel_time</th>\n",
              "      <th>max_capacity</th>\n",
              "      <th>target</th>\n",
              "      <th>date</th>\n",
              "      <th>day_of_week</th>\n",
              "      <th>day_of_month</th>\n",
              "      <th>hour</th>\n",
              "      <th>is_weekend</th>\n",
              "      <th>year</th>\n",
              "      <th>quarter</th>\n",
              "      <th>month</th>\n",
              "    </tr>\n",
              "  </thead>\n",
              "  <tbody>\n",
              "    <tr>\n",
              "      <th>0</th>\n",
              "      <td>1442</td>\n",
              "      <td>Migori</td>\n",
              "      <td>17-10-17</td>\n",
              "      <td>7:15</td>\n",
              "      <td>49</td>\n",
              "      <td>1</td>\n",
              "      <td>2017-10-17 07:15:00</td>\n",
              "      <td>1</td>\n",
              "      <td>17</td>\n",
              "      <td>7</td>\n",
              "      <td>0</td>\n",
              "      <td>2017</td>\n",
              "      <td>4</td>\n",
              "      <td>10</td>\n",
              "    </tr>\n",
              "    <tr>\n",
              "      <th>1</th>\n",
              "      <td>5437</td>\n",
              "      <td>Migori</td>\n",
              "      <td>19-11-17</td>\n",
              "      <td>7:12</td>\n",
              "      <td>49</td>\n",
              "      <td>1</td>\n",
              "      <td>2017-11-19 07:12:00</td>\n",
              "      <td>6</td>\n",
              "      <td>19</td>\n",
              "      <td>7</td>\n",
              "      <td>1</td>\n",
              "      <td>2017</td>\n",
              "      <td>4</td>\n",
              "      <td>11</td>\n",
              "    </tr>\n",
              "    <tr>\n",
              "      <th>2</th>\n",
              "      <td>5710</td>\n",
              "      <td>Keroka</td>\n",
              "      <td>26-11-17</td>\n",
              "      <td>7:05</td>\n",
              "      <td>49</td>\n",
              "      <td>1</td>\n",
              "      <td>2017-11-26 07:05:00</td>\n",
              "      <td>6</td>\n",
              "      <td>26</td>\n",
              "      <td>7</td>\n",
              "      <td>1</td>\n",
              "      <td>2017</td>\n",
              "      <td>4</td>\n",
              "      <td>11</td>\n",
              "    </tr>\n",
              "    <tr>\n",
              "      <th>3</th>\n",
              "      <td>5777</td>\n",
              "      <td>Homa Bay</td>\n",
              "      <td>27-11-17</td>\n",
              "      <td>7:10</td>\n",
              "      <td>49</td>\n",
              "      <td>5</td>\n",
              "      <td>2017-11-27 07:10:00</td>\n",
              "      <td>0</td>\n",
              "      <td>27</td>\n",
              "      <td>7</td>\n",
              "      <td>0</td>\n",
              "      <td>2017</td>\n",
              "      <td>4</td>\n",
              "      <td>11</td>\n",
              "    </tr>\n",
              "    <tr>\n",
              "      <th>4</th>\n",
              "      <td>5778</td>\n",
              "      <td>Migori</td>\n",
              "      <td>27-11-17</td>\n",
              "      <td>7:12</td>\n",
              "      <td>49</td>\n",
              "      <td>31</td>\n",
              "      <td>2017-11-27 07:12:00</td>\n",
              "      <td>0</td>\n",
              "      <td>27</td>\n",
              "      <td>7</td>\n",
              "      <td>0</td>\n",
              "      <td>2017</td>\n",
              "      <td>4</td>\n",
              "      <td>11</td>\n",
              "    </tr>\n",
              "    <tr>\n",
              "      <th>...</th>\n",
              "      <td>...</td>\n",
              "      <td>...</td>\n",
              "      <td>...</td>\n",
              "      <td>...</td>\n",
              "      <td>...</td>\n",
              "      <td>...</td>\n",
              "      <td>...</td>\n",
              "      <td>...</td>\n",
              "      <td>...</td>\n",
              "      <td>...</td>\n",
              "      <td>...</td>\n",
              "      <td>...</td>\n",
              "      <td>...</td>\n",
              "      <td>...</td>\n",
              "    </tr>\n",
              "    <tr>\n",
              "      <th>6244</th>\n",
              "      <td>20113</td>\n",
              "      <td>Kisii</td>\n",
              "      <td>07-02-18</td>\n",
              "      <td>7:00</td>\n",
              "      <td>11</td>\n",
              "      <td>9</td>\n",
              "      <td>2018-07-02 07:00:00</td>\n",
              "      <td>0</td>\n",
              "      <td>2</td>\n",
              "      <td>7</td>\n",
              "      <td>0</td>\n",
              "      <td>2018</td>\n",
              "      <td>3</td>\n",
              "      <td>7</td>\n",
              "    </tr>\n",
              "    <tr>\n",
              "      <th>6245</th>\n",
              "      <td>20114</td>\n",
              "      <td>Kisii</td>\n",
              "      <td>12-12-17</td>\n",
              "      <td>7:10</td>\n",
              "      <td>49</td>\n",
              "      <td>4</td>\n",
              "      <td>2017-12-12 07:10:00</td>\n",
              "      <td>1</td>\n",
              "      <td>12</td>\n",
              "      <td>7</td>\n",
              "      <td>0</td>\n",
              "      <td>2017</td>\n",
              "      <td>4</td>\n",
              "      <td>12</td>\n",
              "    </tr>\n",
              "    <tr>\n",
              "      <th>6246</th>\n",
              "      <td>20115</td>\n",
              "      <td>Kisii</td>\n",
              "      <td>06-12-17</td>\n",
              "      <td>7:10</td>\n",
              "      <td>11</td>\n",
              "      <td>5</td>\n",
              "      <td>2017-06-12 07:10:00</td>\n",
              "      <td>0</td>\n",
              "      <td>12</td>\n",
              "      <td>7</td>\n",
              "      <td>0</td>\n",
              "      <td>2017</td>\n",
              "      <td>2</td>\n",
              "      <td>6</td>\n",
              "    </tr>\n",
              "    <tr>\n",
              "      <th>6247</th>\n",
              "      <td>20116</td>\n",
              "      <td>Kisii</td>\n",
              "      <td>27-11-17</td>\n",
              "      <td>7:10</td>\n",
              "      <td>11</td>\n",
              "      <td>1</td>\n",
              "      <td>2017-11-27 07:10:00</td>\n",
              "      <td>0</td>\n",
              "      <td>27</td>\n",
              "      <td>7</td>\n",
              "      <td>0</td>\n",
              "      <td>2017</td>\n",
              "      <td>4</td>\n",
              "      <td>11</td>\n",
              "    </tr>\n",
              "    <tr>\n",
              "      <th>6248</th>\n",
              "      <td>20117</td>\n",
              "      <td>Kisii</td>\n",
              "      <td>27-11-17</td>\n",
              "      <td>5:00</td>\n",
              "      <td>49</td>\n",
              "      <td>1</td>\n",
              "      <td>2017-11-27 05:00:00</td>\n",
              "      <td>0</td>\n",
              "      <td>27</td>\n",
              "      <td>5</td>\n",
              "      <td>0</td>\n",
              "      <td>2017</td>\n",
              "      <td>4</td>\n",
              "      <td>11</td>\n",
              "    </tr>\n",
              "  </tbody>\n",
              "</table>\n",
              "<p>6249 rows × 14 columns</p>\n",
              "</div>\n",
              "      <button class=\"colab-df-convert\" onclick=\"convertToInteractive('df-f1b1b546-b034-4e45-b330-80f2ccf6a370')\"\n",
              "              title=\"Convert this dataframe to an interactive table.\"\n",
              "              style=\"display:none;\">\n",
              "        \n",
              "  <svg xmlns=\"http://www.w3.org/2000/svg\" height=\"24px\"viewBox=\"0 0 24 24\"\n",
              "       width=\"24px\">\n",
              "    <path d=\"M0 0h24v24H0V0z\" fill=\"none\"/>\n",
              "    <path d=\"M18.56 5.44l.94 2.06.94-2.06 2.06-.94-2.06-.94-.94-2.06-.94 2.06-2.06.94zm-11 1L8.5 8.5l.94-2.06 2.06-.94-2.06-.94L8.5 2.5l-.94 2.06-2.06.94zm10 10l.94 2.06.94-2.06 2.06-.94-2.06-.94-.94-2.06-.94 2.06-2.06.94z\"/><path d=\"M17.41 7.96l-1.37-1.37c-.4-.4-.92-.59-1.43-.59-.52 0-1.04.2-1.43.59L10.3 9.45l-7.72 7.72c-.78.78-.78 2.05 0 2.83L4 21.41c.39.39.9.59 1.41.59.51 0 1.02-.2 1.41-.59l7.78-7.78 2.81-2.81c.8-.78.8-2.07 0-2.86zM5.41 20L4 18.59l7.72-7.72 1.47 1.35L5.41 20z\"/>\n",
              "  </svg>\n",
              "      </button>\n",
              "      \n",
              "  <style>\n",
              "    .colab-df-container {\n",
              "      display:flex;\n",
              "      flex-wrap:wrap;\n",
              "      gap: 12px;\n",
              "    }\n",
              "\n",
              "    .colab-df-convert {\n",
              "      background-color: #E8F0FE;\n",
              "      border: none;\n",
              "      border-radius: 50%;\n",
              "      cursor: pointer;\n",
              "      display: none;\n",
              "      fill: #1967D2;\n",
              "      height: 32px;\n",
              "      padding: 0 0 0 0;\n",
              "      width: 32px;\n",
              "    }\n",
              "\n",
              "    .colab-df-convert:hover {\n",
              "      background-color: #E2EBFA;\n",
              "      box-shadow: 0px 1px 2px rgba(60, 64, 67, 0.3), 0px 1px 3px 1px rgba(60, 64, 67, 0.15);\n",
              "      fill: #174EA6;\n",
              "    }\n",
              "\n",
              "    [theme=dark] .colab-df-convert {\n",
              "      background-color: #3B4455;\n",
              "      fill: #D2E3FC;\n",
              "    }\n",
              "\n",
              "    [theme=dark] .colab-df-convert:hover {\n",
              "      background-color: #434B5C;\n",
              "      box-shadow: 0px 1px 3px 1px rgba(0, 0, 0, 0.15);\n",
              "      filter: drop-shadow(0px 1px 2px rgba(0, 0, 0, 0.3));\n",
              "      fill: #FFFFFF;\n",
              "    }\n",
              "  </style>\n",
              "\n",
              "      <script>\n",
              "        const buttonEl =\n",
              "          document.querySelector('#df-f1b1b546-b034-4e45-b330-80f2ccf6a370 button.colab-df-convert');\n",
              "        buttonEl.style.display =\n",
              "          google.colab.kernel.accessAllowed ? 'block' : 'none';\n",
              "\n",
              "        async function convertToInteractive(key) {\n",
              "          const element = document.querySelector('#df-f1b1b546-b034-4e45-b330-80f2ccf6a370');\n",
              "          const dataTable =\n",
              "            await google.colab.kernel.invokeFunction('convertToInteractive',\n",
              "                                                     [key], {});\n",
              "          if (!dataTable) return;\n",
              "\n",
              "          const docLinkHtml = 'Like what you see? Visit the ' +\n",
              "            '<a target=\"_blank\" href=https://colab.research.google.com/notebooks/data_table.ipynb>data table notebook</a>'\n",
              "            + ' to learn more about interactive tables.';\n",
              "          element.innerHTML = '';\n",
              "          dataTable['output_type'] = 'display_data';\n",
              "          await google.colab.output.renderOutput(dataTable, element);\n",
              "          const docLink = document.createElement('div');\n",
              "          docLink.innerHTML = docLinkHtml;\n",
              "          element.appendChild(docLink);\n",
              "        }\n",
              "      </script>\n",
              "    </div>\n",
              "  </div>\n",
              "  "
            ]
          },
          "metadata": {},
          "execution_count": 54
        }
      ]
    },
    {
      "cell_type": "code",
      "source": [
        "#Calculating boarding time in interger type\n",
        "transform_df['travel_time'] = transform_df['travel_time'].apply(lambda x: x.split(':'))\n",
        "transform_df['travel_time'] = transform_df['travel_time'].apply(lambda x: int(x[0])*60 + int(x[1]))"
      ],
      "metadata": {
        "id": "HQXp9ulINesi"
      },
      "execution_count": 55,
      "outputs": []
    },
    {
      "cell_type": "code",
      "source": [
        "transform_df['boarding_time(hr)'] = transform_df['travel_time'].apply(lambda x: round(x/60,2))"
      ],
      "metadata": {
        "id": "KSOe_2wQaZls"
      },
      "execution_count": 56,
      "outputs": []
    },
    {
      "cell_type": "markdown",
      "source": [
        "**Boarding Period according to boarding time**"
      ],
      "metadata": {
        "id": "pMzrzZIyr8iU"
      }
    },
    {
      "cell_type": "code",
      "source": [
        "#New feature known as boarding period which could be formed with the help of boarding time\n",
        "transform_df['boarding period'] = transform_df['boarding_time(hr)'].apply(lambda x: 'Morning' if (5<x<=11) else('AfterNoon' if (11<x<=17) else('Evening' if (17<x<=23) else 'Night')))"
      ],
      "metadata": {
        "id": "3qyh7hR9r7_4"
      },
      "execution_count": 57,
      "outputs": []
    },
    {
      "cell_type": "code",
      "source": [
        "bcount = dict(transform_df['boarding period'].value_counts())\n",
        "bcount"
      ],
      "metadata": {
        "colab": {
          "base_uri": "https://localhost:8080/"
        },
        "id": "s_dGg1s4uEOS",
        "outputId": "e7c86a78-2d85-48cf-b4b4-9491d14ce951"
      },
      "execution_count": 58,
      "outputs": [
        {
          "output_type": "execute_result",
          "data": {
            "text/plain": [
              "{'AfterNoon': 72, 'Evening': 225, 'Morning': 5730, 'Night': 222}"
            ]
          },
          "metadata": {},
          "execution_count": 58
        }
      ]
    },
    {
      "cell_type": "code",
      "source": [
        "transform_df.head()"
      ],
      "metadata": {
        "colab": {
          "base_uri": "https://localhost:8080/",
          "height": 354
        },
        "id": "p3X10tVx0RXO",
        "outputId": "36660cb9-1c62-4f71-a07b-6379611b7578"
      },
      "execution_count": 59,
      "outputs": [
        {
          "output_type": "execute_result",
          "data": {
            "text/plain": [
              "   ride_id travel_from travel_date  travel_time  max_capacity  target  \\\n",
              "0     1442      Migori    17-10-17          435            49       1   \n",
              "1     5437      Migori    19-11-17          432            49       1   \n",
              "2     5710      Keroka    26-11-17          425            49       1   \n",
              "3     5777    Homa Bay    27-11-17          430            49       5   \n",
              "4     5778      Migori    27-11-17          432            49      31   \n",
              "\n",
              "                 date  day_of_week  day_of_month  hour  is_weekend  year  \\\n",
              "0 2017-10-17 07:15:00            1            17     7           0  2017   \n",
              "1 2017-11-19 07:12:00            6            19     7           1  2017   \n",
              "2 2017-11-26 07:05:00            6            26     7           1  2017   \n",
              "3 2017-11-27 07:10:00            0            27     7           0  2017   \n",
              "4 2017-11-27 07:12:00            0            27     7           0  2017   \n",
              "\n",
              "   quarter  month  boarding_time(hr) boarding period  \n",
              "0        4     10               7.25         Morning  \n",
              "1        4     11               7.20         Morning  \n",
              "2        4     11               7.08         Morning  \n",
              "3        4     11               7.17         Morning  \n",
              "4        4     11               7.20         Morning  "
            ],
            "text/html": [
              "\n",
              "  <div id=\"df-3b196b67-450d-4e23-aa18-47e3254e8289\">\n",
              "    <div class=\"colab-df-container\">\n",
              "      <div>\n",
              "<style scoped>\n",
              "    .dataframe tbody tr th:only-of-type {\n",
              "        vertical-align: middle;\n",
              "    }\n",
              "\n",
              "    .dataframe tbody tr th {\n",
              "        vertical-align: top;\n",
              "    }\n",
              "\n",
              "    .dataframe thead th {\n",
              "        text-align: right;\n",
              "    }\n",
              "</style>\n",
              "<table border=\"1\" class=\"dataframe\">\n",
              "  <thead>\n",
              "    <tr style=\"text-align: right;\">\n",
              "      <th></th>\n",
              "      <th>ride_id</th>\n",
              "      <th>travel_from</th>\n",
              "      <th>travel_date</th>\n",
              "      <th>travel_time</th>\n",
              "      <th>max_capacity</th>\n",
              "      <th>target</th>\n",
              "      <th>date</th>\n",
              "      <th>day_of_week</th>\n",
              "      <th>day_of_month</th>\n",
              "      <th>hour</th>\n",
              "      <th>is_weekend</th>\n",
              "      <th>year</th>\n",
              "      <th>quarter</th>\n",
              "      <th>month</th>\n",
              "      <th>boarding_time(hr)</th>\n",
              "      <th>boarding period</th>\n",
              "    </tr>\n",
              "  </thead>\n",
              "  <tbody>\n",
              "    <tr>\n",
              "      <th>0</th>\n",
              "      <td>1442</td>\n",
              "      <td>Migori</td>\n",
              "      <td>17-10-17</td>\n",
              "      <td>435</td>\n",
              "      <td>49</td>\n",
              "      <td>1</td>\n",
              "      <td>2017-10-17 07:15:00</td>\n",
              "      <td>1</td>\n",
              "      <td>17</td>\n",
              "      <td>7</td>\n",
              "      <td>0</td>\n",
              "      <td>2017</td>\n",
              "      <td>4</td>\n",
              "      <td>10</td>\n",
              "      <td>7.25</td>\n",
              "      <td>Morning</td>\n",
              "    </tr>\n",
              "    <tr>\n",
              "      <th>1</th>\n",
              "      <td>5437</td>\n",
              "      <td>Migori</td>\n",
              "      <td>19-11-17</td>\n",
              "      <td>432</td>\n",
              "      <td>49</td>\n",
              "      <td>1</td>\n",
              "      <td>2017-11-19 07:12:00</td>\n",
              "      <td>6</td>\n",
              "      <td>19</td>\n",
              "      <td>7</td>\n",
              "      <td>1</td>\n",
              "      <td>2017</td>\n",
              "      <td>4</td>\n",
              "      <td>11</td>\n",
              "      <td>7.20</td>\n",
              "      <td>Morning</td>\n",
              "    </tr>\n",
              "    <tr>\n",
              "      <th>2</th>\n",
              "      <td>5710</td>\n",
              "      <td>Keroka</td>\n",
              "      <td>26-11-17</td>\n",
              "      <td>425</td>\n",
              "      <td>49</td>\n",
              "      <td>1</td>\n",
              "      <td>2017-11-26 07:05:00</td>\n",
              "      <td>6</td>\n",
              "      <td>26</td>\n",
              "      <td>7</td>\n",
              "      <td>1</td>\n",
              "      <td>2017</td>\n",
              "      <td>4</td>\n",
              "      <td>11</td>\n",
              "      <td>7.08</td>\n",
              "      <td>Morning</td>\n",
              "    </tr>\n",
              "    <tr>\n",
              "      <th>3</th>\n",
              "      <td>5777</td>\n",
              "      <td>Homa Bay</td>\n",
              "      <td>27-11-17</td>\n",
              "      <td>430</td>\n",
              "      <td>49</td>\n",
              "      <td>5</td>\n",
              "      <td>2017-11-27 07:10:00</td>\n",
              "      <td>0</td>\n",
              "      <td>27</td>\n",
              "      <td>7</td>\n",
              "      <td>0</td>\n",
              "      <td>2017</td>\n",
              "      <td>4</td>\n",
              "      <td>11</td>\n",
              "      <td>7.17</td>\n",
              "      <td>Morning</td>\n",
              "    </tr>\n",
              "    <tr>\n",
              "      <th>4</th>\n",
              "      <td>5778</td>\n",
              "      <td>Migori</td>\n",
              "      <td>27-11-17</td>\n",
              "      <td>432</td>\n",
              "      <td>49</td>\n",
              "      <td>31</td>\n",
              "      <td>2017-11-27 07:12:00</td>\n",
              "      <td>0</td>\n",
              "      <td>27</td>\n",
              "      <td>7</td>\n",
              "      <td>0</td>\n",
              "      <td>2017</td>\n",
              "      <td>4</td>\n",
              "      <td>11</td>\n",
              "      <td>7.20</td>\n",
              "      <td>Morning</td>\n",
              "    </tr>\n",
              "  </tbody>\n",
              "</table>\n",
              "</div>\n",
              "      <button class=\"colab-df-convert\" onclick=\"convertToInteractive('df-3b196b67-450d-4e23-aa18-47e3254e8289')\"\n",
              "              title=\"Convert this dataframe to an interactive table.\"\n",
              "              style=\"display:none;\">\n",
              "        \n",
              "  <svg xmlns=\"http://www.w3.org/2000/svg\" height=\"24px\"viewBox=\"0 0 24 24\"\n",
              "       width=\"24px\">\n",
              "    <path d=\"M0 0h24v24H0V0z\" fill=\"none\"/>\n",
              "    <path d=\"M18.56 5.44l.94 2.06.94-2.06 2.06-.94-2.06-.94-.94-2.06-.94 2.06-2.06.94zm-11 1L8.5 8.5l.94-2.06 2.06-.94-2.06-.94L8.5 2.5l-.94 2.06-2.06.94zm10 10l.94 2.06.94-2.06 2.06-.94-2.06-.94-.94-2.06-.94 2.06-2.06.94z\"/><path d=\"M17.41 7.96l-1.37-1.37c-.4-.4-.92-.59-1.43-.59-.52 0-1.04.2-1.43.59L10.3 9.45l-7.72 7.72c-.78.78-.78 2.05 0 2.83L4 21.41c.39.39.9.59 1.41.59.51 0 1.02-.2 1.41-.59l7.78-7.78 2.81-2.81c.8-.78.8-2.07 0-2.86zM5.41 20L4 18.59l7.72-7.72 1.47 1.35L5.41 20z\"/>\n",
              "  </svg>\n",
              "      </button>\n",
              "      \n",
              "  <style>\n",
              "    .colab-df-container {\n",
              "      display:flex;\n",
              "      flex-wrap:wrap;\n",
              "      gap: 12px;\n",
              "    }\n",
              "\n",
              "    .colab-df-convert {\n",
              "      background-color: #E8F0FE;\n",
              "      border: none;\n",
              "      border-radius: 50%;\n",
              "      cursor: pointer;\n",
              "      display: none;\n",
              "      fill: #1967D2;\n",
              "      height: 32px;\n",
              "      padding: 0 0 0 0;\n",
              "      width: 32px;\n",
              "    }\n",
              "\n",
              "    .colab-df-convert:hover {\n",
              "      background-color: #E2EBFA;\n",
              "      box-shadow: 0px 1px 2px rgba(60, 64, 67, 0.3), 0px 1px 3px 1px rgba(60, 64, 67, 0.15);\n",
              "      fill: #174EA6;\n",
              "    }\n",
              "\n",
              "    [theme=dark] .colab-df-convert {\n",
              "      background-color: #3B4455;\n",
              "      fill: #D2E3FC;\n",
              "    }\n",
              "\n",
              "    [theme=dark] .colab-df-convert:hover {\n",
              "      background-color: #434B5C;\n",
              "      box-shadow: 0px 1px 3px 1px rgba(0, 0, 0, 0.15);\n",
              "      filter: drop-shadow(0px 1px 2px rgba(0, 0, 0, 0.3));\n",
              "      fill: #FFFFFF;\n",
              "    }\n",
              "  </style>\n",
              "\n",
              "      <script>\n",
              "        const buttonEl =\n",
              "          document.querySelector('#df-3b196b67-450d-4e23-aa18-47e3254e8289 button.colab-df-convert');\n",
              "        buttonEl.style.display =\n",
              "          google.colab.kernel.accessAllowed ? 'block' : 'none';\n",
              "\n",
              "        async function convertToInteractive(key) {\n",
              "          const element = document.querySelector('#df-3b196b67-450d-4e23-aa18-47e3254e8289');\n",
              "          const dataTable =\n",
              "            await google.colab.kernel.invokeFunction('convertToInteractive',\n",
              "                                                     [key], {});\n",
              "          if (!dataTable) return;\n",
              "\n",
              "          const docLinkHtml = 'Like what you see? Visit the ' +\n",
              "            '<a target=\"_blank\" href=https://colab.research.google.com/notebooks/data_table.ipynb>data table notebook</a>'\n",
              "            + ' to learn more about interactive tables.';\n",
              "          element.innerHTML = '';\n",
              "          dataTable['output_type'] = 'display_data';\n",
              "          await google.colab.output.renderOutput(dataTable, element);\n",
              "          const docLink = document.createElement('div');\n",
              "          docLink.innerHTML = docLinkHtml;\n",
              "          element.appendChild(docLink);\n",
              "        }\n",
              "      </script>\n",
              "    </div>\n",
              "  </div>\n",
              "  "
            ]
          },
          "metadata": {},
          "execution_count": 59
        }
      ]
    },
    {
      "cell_type": "markdown",
      "source": [
        "**Calculating the distance between each of the origin and destination**"
      ],
      "metadata": {
        "id": "lQGk1dNWWwQG"
      }
    },
    {
      "cell_type": "code",
      "source": [
        "#TIME FEATURES\n",
        "time_features = ['day_of_week','month','quarter','is_weekend','boarding_time(hr)','day_of_month']"
      ],
      "metadata": {
        "id": "vHNFbjWRWccK"
      },
      "execution_count": null,
      "outputs": []
    },
    {
      "cell_type": "code",
      "source": [
        "for i in time_features:\n",
        "  sns.regplot(x=transform_df[i],y=transform_df['target'])\n",
        "  plt.show()"
      ],
      "metadata": {
        "colab": {
          "base_uri": "https://localhost:8080/",
          "height": 1000
        },
        "id": "yxsPss6yWsdK",
        "outputId": "9c73e117-3c74-4036-b204-6811b23a71fc"
      },
      "execution_count": null,
      "outputs": [
        {
          "output_type": "display_data",
          "data": {
            "text/plain": [
              "<Figure size 432x288 with 1 Axes>"
            ],
            "image/png": "[encoded data removed]"
          },
          "metadata": {
            "needs_background": "light"
          }
        },
        {
          "output_type": "display_data",
          "data": {
            "text/plain": [
              "<Figure size 432x288 with 1 Axes>"
            ],
            "image/png": "[encoded data removed]"
          },
          "metadata": {
            "needs_background": "light"
          }
        },
        {
          "output_type": "display_data",
          "data": {
            "text/plain": [
              "<Figure size 432x288 with 1 Axes>"
            ],
            "image/png": "[encoded data removed]"
          },
          "metadata": {
            "needs_background": "light"
          }
        },
        {
          "output_type": "display_data",
          "data": {
            "text/plain": [
              "<Figure size 432x288 with 1 Axes>"
            ],
            "image/png": "[encoded data removed]"
          },
          "metadata": {
            "needs_background": "light"
          }
        },
        {
          "output_type": "display_data",
          "data": {
            "text/plain": [
              "<Figure size 432x288 with 1 Axes>"
            ],
            "image/png": "[encoded data removed]"
          },
          "metadata": {
            "needs_background": "light"
          }
        },
        {
          "output_type": "display_data",
          "data": {
            "text/plain": [
              "<Figure size 432x288 with 1 Axes>"
            ],
            "image/png": "[encoded data removed]"
          },
          "metadata": {
            "needs_background": "light"
          }
        }
      ]
    },
    {
      "cell_type": "markdown",
      "source": [
        "**Mean Encoding boarding_time(hr)**"
      ],
      "metadata": {
        "id": "OTo6XBUu1RDd"
      }
    },
    {
      "cell_type": "code",
      "source": [
        "#mean encoding boarding time\n",
        "mean = transform_df['target'].mean()\n",
        "mean_encode = transform_df.groupby(['boarding_time(hr)'])['target'].agg(['count','mean'])\n",
        "counts = mean_encode['count']\n",
        "means = mean_encode['mean']\n",
        "weight = 100\n",
        "smooth = (counts*means + weight*mean)/(counts+weight)\n",
        "print(smooth)\n",
        "transform_df.loc[:,'mean_of_bookingTime'] = transform_df['boarding_time(hr)'].map(smooth)"
      ],
      "metadata": {
        "id": "LsScxJA01Wko",
        "colab": {
          "base_uri": "https://localhost:8080/"
        },
        "outputId": "81d132d0-3ffc-417f-8179-ecccfeaeacf1"
      },
      "execution_count": null,
      "outputs": [
        {
          "output_type": "stream",
          "name": "stdout",
          "text": [
            "boarding_time(hr)\n",
            "5.00      4.653074\n",
            "5.17      6.234193\n",
            "5.33      6.846093\n",
            "5.50      5.488931\n",
            "5.67      6.478367\n",
            "           ...    \n",
            "19.08     8.267618\n",
            "19.10     8.617246\n",
            "19.12    19.676953\n",
            "23.15     8.587102\n",
            "23.17     7.903917\n",
            "Length: 78, dtype: float64\n"
          ]
        }
      ]
    },
    {
      "cell_type": "markdown",
      "source": [
        "**Encoding travel from**"
      ],
      "metadata": {
        "id": "34weisoX9l0C"
      }
    },
    {
      "cell_type": "code",
      "source": [
        "#mean encoding for travel from feature\n",
        "mean = transform_df['target'].mean()\n",
        "mean_encode = transform_df.groupby(['travel_from'])['target'].agg(['count','mean'])\n",
        "counts = mean_encode['count']\n",
        "means = mean_encode['mean']\n",
        "weight = 100\n",
        "smooth = (counts*means + weight*mean)/(counts+weight)\n",
        "print(smooth)\n",
        "transform_df.loc[:,'mean_travel_from'] = transform_df['travel_from'].map(smooth)\n"
      ],
      "metadata": {
        "colab": {
          "base_uri": "https://localhost:8080/"
        },
        "id": "FXVZvZgGY0ss",
        "outputId": "a66d125b-fe53-4c2e-fac2-c58c3b57ac55"
      },
      "execution_count": null,
      "outputs": [
        {
          "output_type": "stream",
          "name": "stdout",
          "text": [
            "travel_from\n",
            "Awendo        9.173517\n",
            "Homa Bay     15.636957\n",
            "Kehancha     10.056810\n",
            "Kendu Bay     8.192596\n",
            "Keroka        4.404010\n",
            "Keumbu        7.070435\n",
            "Kijauri       2.831482\n",
            "Kisii         7.510722\n",
            "Mbita         9.954151\n",
            "Migori       16.159367\n",
            "Ndhiwa        8.708625\n",
            "Nyachenge     4.521798\n",
            "Oyugis        8.151492\n",
            "Rodi          8.155313\n",
            "Rongo         5.673571\n",
            "Sirare       18.128702\n",
            "Sori          7.345435\n",
            "dtype: float64\n"
          ]
        }
      ]
    },
    {
      "cell_type": "markdown",
      "source": [
        "**Encoding day of month**"
      ],
      "metadata": {
        "id": "JWFhmtLWDVgA"
      }
    },
    {
      "cell_type": "code",
      "source": [
        "#mean encoding for day of month\n",
        "mean = transform_df['target'].mean()\n",
        "mean_encode = transform_df.groupby(['day_of_month'])['target'].agg(['count','mean'])\n",
        "counts = mean_encode['count']\n",
        "means = mean_encode['mean']\n",
        "weight = 100\n",
        "smooth = (counts*means + weight*mean)/(counts+weight)\n",
        "print(smooth)\n",
        "transform_df.loc[:,'mean_day_of_month'] = transform_df['day_of_month'].map(smooth)\n"
      ],
      "metadata": {
        "colab": {
          "base_uri": "https://localhost:8080/"
        },
        "id": "hCC2zAoQDbGa",
        "outputId": "cece7e42-91ac-4649-8d16-018ace922ade"
      },
      "execution_count": null,
      "outputs": [
        {
          "output_type": "stream",
          "name": "stdout",
          "text": [
            "day_of_month\n",
            "1     8.290061\n",
            "2     8.029097\n",
            "3     8.837223\n",
            "4     8.491671\n",
            "12    8.064270\n",
            "13    9.050006\n",
            "14    8.675655\n",
            "15    8.650007\n",
            "16    8.226190\n",
            "17    8.189166\n",
            "18    8.602614\n",
            "19    8.667031\n",
            "20    8.206795\n",
            "21    8.263082\n",
            "22    8.025521\n",
            "23    8.411012\n",
            "24    7.495579\n",
            "25    7.670675\n",
            "26    7.688419\n",
            "27    8.514166\n",
            "28    8.245281\n",
            "29    7.803077\n",
            "30    6.865973\n",
            "31    7.606522\n",
            "dtype: float64\n"
          ]
        }
      ]
    },
    {
      "cell_type": "code",
      "source": [
        "mean = transform_df['target'].mean()\n",
        "mean_encode = transform_df.groupby(['is_weekend'])['target'].agg(['count','mean'])\n",
        "counts = mean_encode['count']\n",
        "means = mean_encode['mean']\n",
        "weight = 100\n",
        "smooth = (counts*means + weight*mean)/(counts+weight)\n",
        "print(smooth)\n",
        "transform_df.loc[:,'mean_isWeekend'] = transform_df['is_weekend'].map(smooth)\n"
      ],
      "metadata": {
        "colab": {
          "base_uri": "https://localhost:8080/"
        },
        "id": "vT-4LoivauRi",
        "outputId": "4cecbf2f-a296-4e2f-a5aa-8e125854d50c"
      },
      "execution_count": null,
      "outputs": [
        {
          "output_type": "stream",
          "name": "stdout",
          "text": [
            "is_weekend\n",
            "0    8.280239\n",
            "1    8.220793\n",
            "dtype: float64\n"
          ]
        }
      ]
    },
    {
      "cell_type": "markdown",
      "source": [
        "**Mean Encoding Quarter**"
      ],
      "metadata": {
        "id": "5rx0r8jMdGvd"
      }
    },
    {
      "cell_type": "code",
      "source": [
        "mean = transform_df['target'].mean()\n",
        "mean_encode = transform_df.groupby(['quarter'])['target'].agg(['count','mean'])\n",
        "counts = mean_encode['count']\n",
        "means = mean_encode['mean']\n",
        "weight = 100\n",
        "smooth = (counts*means + weight*mean)/(counts+weight)\n",
        "print(smooth)\n",
        "transform_df.loc[:,'mean_quarter'] = transform_df['quarter'].map(smooth)"
      ],
      "metadata": {
        "colab": {
          "base_uri": "https://localhost:8080/"
        },
        "id": "1F1DJwNibYH8",
        "outputId": "ed51cab7-c201-4895-9624-d73d05b52848"
      },
      "execution_count": null,
      "outputs": [
        {
          "output_type": "stream",
          "name": "stdout",
          "text": [
            "quarter\n",
            "1    7.908416\n",
            "2    8.509633\n",
            "3    8.548388\n",
            "4    8.532000\n",
            "dtype: float64\n"
          ]
        }
      ]
    },
    {
      "cell_type": "markdown",
      "source": [
        "**Mean Encoding CarType**"
      ],
      "metadata": {
        "id": "MGPGhLv1b9Je"
      }
    },
    {
      "cell_type": "code",
      "source": [
        "mean = transform_df['target'].mean()\n",
        "mean_encode = transform_df.groupby(['car_type'])['target'].agg(['count','mean'])\n",
        "counts = mean_encode['count']\n",
        "means = mean_encode['mean']\n",
        "weight = 100\n",
        "smooth = (counts*means + weight*mean)/(counts+weight)\n",
        "print(smooth)\n",
        "transform_df.loc[:,'mean_carType'] = transform_df['car_type'].map(smooth)"
      ],
      "metadata": {
        "colab": {
          "base_uri": "https://localhost:8080/"
        },
        "id": "CqyKQAEscMfz",
        "outputId": "59ce3f04-0189-4fe9-dd81-943caf5da260"
      },
      "execution_count": null,
      "outputs": [
        {
          "output_type": "stream",
          "name": "stdout",
          "text": [
            "car_type\n",
            "Bus        9.976118\n",
            "shuttle    6.483055\n",
            "dtype: float64\n"
          ]
        }
      ]
    },
    {
      "cell_type": "markdown",
      "source": [
        "**Mean Encoding Month**"
      ],
      "metadata": {
        "id": "1PuJYqF7cnLp"
      }
    },
    {
      "cell_type": "code",
      "source": [
        "mean = transform_df['target'].mean()\n",
        "mean_encode = transform_df.groupby(['month'])['target'].agg(['count','mean'])\n",
        "counts = mean_encode['count']\n",
        "means = mean_encode['mean']\n",
        "weight = 100\n",
        "smooth = (counts*means + weight*mean)/(counts+weight)\n",
        "print(smooth)\n",
        "transform_df.loc[:,'mean_month'] = transform_df['month'].map(smooth)"
      ],
      "metadata": {
        "colab": {
          "base_uri": "https://localhost:8080/"
        },
        "id": "zUEbvY2wcqQq",
        "outputId": "96f55440-c856-4ce0-8806-4e287e114d12"
      },
      "execution_count": null,
      "outputs": [
        {
          "output_type": "stream",
          "name": "stdout",
          "text": [
            "month\n",
            "1     8.137000\n",
            "2     8.329449\n",
            "3     7.264903\n",
            "4     8.446360\n",
            "5     8.450167\n",
            "6     8.552161\n",
            "7     8.408057\n",
            "8     8.650861\n",
            "9     8.429426\n",
            "10    8.203032\n",
            "11    7.617611\n",
            "12    8.993437\n",
            "dtype: float64\n"
          ]
        }
      ]
    },
    {
      "cell_type": "markdown",
      "source": [
        "**Mean Encoding boarding Period**"
      ],
      "metadata": {
        "id": "uO8RRaFfvxLw"
      }
    },
    {
      "cell_type": "code",
      "source": [
        "mean = transform_df['target'].mean()\n",
        "mean_encode = transform_df.groupby(['boarding period'])['target'].agg(['count','mean'])\n",
        "counts = mean_encode['count']\n",
        "means = mean_encode['mean']\n",
        "weight = 100\n",
        "smooth = (counts*means + weight*mean)/(counts+weight)\n",
        "print(smooth)\n",
        "transform_df.loc[:,'mean_boardingPeriod'] = transform_df['boarding period'].map(smooth)"
      ],
      "metadata": {
        "colab": {
          "base_uri": "https://localhost:8080/"
        },
        "id": "PxkeTgoevwAU",
        "outputId": "b9521f28-31b1-48e5-ee5c-9fb710efce0e"
      },
      "execution_count": null,
      "outputs": [
        {
          "output_type": "stream",
          "name": "stdout",
          "text": [
            "boarding period\n",
            "AfterNoon     7.770071\n",
            "Evening      15.986007\n",
            "Morning       8.012427\n",
            "Night         5.299541\n",
            "dtype: float64\n"
          ]
        }
      ]
    },
    {
      "cell_type": "markdown",
      "source": [
        "**One Hot Encoding**"
      ],
      "metadata": {
        "id": "eOWhYoqHuI5A"
      }
    },
    {
      "cell_type": "code",
      "source": [
        "transform_df = pd.get_dummies(transform_df, columns = ['car_type', 'travel_from', 'is_weekend','day_of_week','boarding period','quarter'])"
      ],
      "metadata": {
        "id": "KZMtUPVguMLJ"
      },
      "execution_count": null,
      "outputs": []
    },
    {
      "cell_type": "code",
      "source": [
        "transform_df.head(2)"
      ],
      "metadata": {
        "colab": {
          "base_uri": "https://localhost:8080/",
          "height": 292
        },
        "id": "cy3mPsX1dSFT",
        "outputId": "36e2a691-514f-42cb-e033-42b874b22e1c"
      },
      "execution_count": null,
      "outputs": [
        {
          "output_type": "execute_result",
          "data": {
            "text/plain": [
              "   ride_id travel_date  travel_time  target                date  day_of_month  \\\n",
              "0     1442    17-10-17          435       1 2017-10-17 07:15:00            17   \n",
              "1     5437    19-11-17          432       1 2017-11-19 07:12:00            19   \n",
              "\n",
              "   hour  minute  year  month  ...  day_of_week_5  day_of_week_6  \\\n",
              "0     7      15  2017     10  ...              0              0   \n",
              "1     7      12  2017     11  ...              0              1   \n",
              "\n",
              "   boarding period_AfterNoon  boarding period_Evening  \\\n",
              "0                          0                        0   \n",
              "1                          0                        0   \n",
              "\n",
              "   boarding period_Morning  boarding period_Night  quarter_1  quarter_2  \\\n",
              "0                        1                      0          0          0   \n",
              "1                        1                      0          0          0   \n",
              "\n",
              "   quarter_3  quarter_4  \n",
              "0          0          1  \n",
              "1          0          1  \n",
              "\n",
              "[2 rows x 52 columns]"
            ],
            "text/html": [
              "\n",
              "  <div id=\"df-e8e40cf5-1a55-4725-bbe1-cbbf6f5f8622\">\n",
              "    <div class=\"colab-df-container\">\n",
              "      <div>\n",
              "<style scoped>\n",
              "    .dataframe tbody tr th:only-of-type {\n",
              "        vertical-align: middle;\n",
              "    }\n",
              "\n",
              "    .dataframe tbody tr th {\n",
              "        vertical-align: top;\n",
              "    }\n",
              "\n",
              "    .dataframe thead th {\n",
              "        text-align: right;\n",
              "    }\n",
              "</style>\n",
              "<table border=\"1\" class=\"dataframe\">\n",
              "  <thead>\n",
              "    <tr style=\"text-align: right;\">\n",
              "      <th></th>\n",
              "      <th>ride_id</th>\n",
              "      <th>travel_date</th>\n",
              "      <th>travel_time</th>\n",
              "      <th>target</th>\n",
              "      <th>date</th>\n",
              "      <th>day_of_month</th>\n",
              "      <th>hour</th>\n",
              "      <th>minute</th>\n",
              "      <th>year</th>\n",
              "      <th>month</th>\n",
              "      <th>...</th>\n",
              "      <th>day_of_week_5</th>\n",
              "      <th>day_of_week_6</th>\n",
              "      <th>boarding period_AfterNoon</th>\n",
              "      <th>boarding period_Evening</th>\n",
              "      <th>boarding period_Morning</th>\n",
              "      <th>boarding period_Night</th>\n",
              "      <th>quarter_1</th>\n",
              "      <th>quarter_2</th>\n",
              "      <th>quarter_3</th>\n",
              "      <th>quarter_4</th>\n",
              "    </tr>\n",
              "  </thead>\n",
              "  <tbody>\n",
              "    <tr>\n",
              "      <th>0</th>\n",
              "      <td>1442</td>\n",
              "      <td>17-10-17</td>\n",
              "      <td>435</td>\n",
              "      <td>1</td>\n",
              "      <td>2017-10-17 07:15:00</td>\n",
              "      <td>17</td>\n",
              "      <td>7</td>\n",
              "      <td>15</td>\n",
              "      <td>2017</td>\n",
              "      <td>10</td>\n",
              "      <td>...</td>\n",
              "      <td>0</td>\n",
              "      <td>0</td>\n",
              "      <td>0</td>\n",
              "      <td>0</td>\n",
              "      <td>1</td>\n",
              "      <td>0</td>\n",
              "      <td>0</td>\n",
              "      <td>0</td>\n",
              "      <td>0</td>\n",
              "      <td>1</td>\n",
              "    </tr>\n",
              "    <tr>\n",
              "      <th>1</th>\n",
              "      <td>5437</td>\n",
              "      <td>19-11-17</td>\n",
              "      <td>432</td>\n",
              "      <td>1</td>\n",
              "      <td>2017-11-19 07:12:00</td>\n",
              "      <td>19</td>\n",
              "      <td>7</td>\n",
              "      <td>12</td>\n",
              "      <td>2017</td>\n",
              "      <td>11</td>\n",
              "      <td>...</td>\n",
              "      <td>0</td>\n",
              "      <td>1</td>\n",
              "      <td>0</td>\n",
              "      <td>0</td>\n",
              "      <td>1</td>\n",
              "      <td>0</td>\n",
              "      <td>0</td>\n",
              "      <td>0</td>\n",
              "      <td>0</td>\n",
              "      <td>1</td>\n",
              "    </tr>\n",
              "  </tbody>\n",
              "</table>\n",
              "<p>2 rows × 52 columns</p>\n",
              "</div>\n",
              "      <button class=\"colab-df-convert\" onclick=\"convertToInteractive('df-e8e40cf5-1a55-4725-bbe1-cbbf6f5f8622')\"\n",
              "              title=\"Convert this dataframe to an interactive table.\"\n",
              "              style=\"display:none;\">\n",
              "        \n",
              "  <svg xmlns=\"http://www.w3.org/2000/svg\" height=\"24px\"viewBox=\"0 0 24 24\"\n",
              "       width=\"24px\">\n",
              "    <path d=\"M0 0h24v24H0V0z\" fill=\"none\"/>\n",
              "    <path d=\"M18.56 5.44l.94 2.06.94-2.06 2.06-.94-2.06-.94-.94-2.06-.94 2.06-2.06.94zm-11 1L8.5 8.5l.94-2.06 2.06-.94-2.06-.94L8.5 2.5l-.94 2.06-2.06.94zm10 10l.94 2.06.94-2.06 2.06-.94-2.06-.94-.94-2.06-.94 2.06-2.06.94z\"/><path d=\"M17.41 7.96l-1.37-1.37c-.4-.4-.92-.59-1.43-.59-.52 0-1.04.2-1.43.59L10.3 9.45l-7.72 7.72c-.78.78-.78 2.05 0 2.83L4 21.41c.39.39.9.59 1.41.59.51 0 1.02-.2 1.41-.59l7.78-7.78 2.81-2.81c.8-.78.8-2.07 0-2.86zM5.41 20L4 18.59l7.72-7.72 1.47 1.35L5.41 20z\"/>\n",
              "  </svg>\n",
              "      </button>\n",
              "      \n",
              "  <style>\n",
              "    .colab-df-container {\n",
              "      display:flex;\n",
              "      flex-wrap:wrap;\n",
              "      gap: 12px;\n",
              "    }\n",
              "\n",
              "    .colab-df-convert {\n",
              "      background-color: #E8F0FE;\n",
              "      border: none;\n",
              "      border-radius: 50%;\n",
              "      cursor: pointer;\n",
              "      display: none;\n",
              "      fill: #1967D2;\n",
              "      height: 32px;\n",
              "      padding: 0 0 0 0;\n",
              "      width: 32px;\n",
              "    }\n",
              "\n",
              "    .colab-df-convert:hover {\n",
              "      background-color: #E2EBFA;\n",
              "      box-shadow: 0px 1px 2px rgba(60, 64, 67, 0.3), 0px 1px 3px 1px rgba(60, 64, 67, 0.15);\n",
              "      fill: #174EA6;\n",
              "    }\n",
              "\n",
              "    [theme=dark] .colab-df-convert {\n",
              "      background-color: #3B4455;\n",
              "      fill: #D2E3FC;\n",
              "    }\n",
              "\n",
              "    [theme=dark] .colab-df-convert:hover {\n",
              "      background-color: #434B5C;\n",
              "      box-shadow: 0px 1px 3px 1px rgba(0, 0, 0, 0.15);\n",
              "      filter: drop-shadow(0px 1px 2px rgba(0, 0, 0, 0.3));\n",
              "      fill: #FFFFFF;\n",
              "    }\n",
              "  </style>\n",
              "\n",
              "      <script>\n",
              "        const buttonEl =\n",
              "          document.querySelector('#df-e8e40cf5-1a55-4725-bbe1-cbbf6f5f8622 button.colab-df-convert');\n",
              "        buttonEl.style.display =\n",
              "          google.colab.kernel.accessAllowed ? 'block' : 'none';\n",
              "\n",
              "        async function convertToInteractive(key) {\n",
              "          const element = document.querySelector('#df-e8e40cf5-1a55-4725-bbe1-cbbf6f5f8622');\n",
              "          const dataTable =\n",
              "            await google.colab.kernel.invokeFunction('convertToInteractive',\n",
              "                                                     [key], {});\n",
              "          if (!dataTable) return;\n",
              "\n",
              "          const docLinkHtml = 'Like what you see? Visit the ' +\n",
              "            '<a target=\"_blank\" href=https://colab.research.google.com/notebooks/data_table.ipynb>data table notebook</a>'\n",
              "            + ' to learn more about interactive tables.';\n",
              "          element.innerHTML = '';\n",
              "          dataTable['output_type'] = 'display_data';\n",
              "          await google.colab.output.renderOutput(dataTable, element);\n",
              "          const docLink = document.createElement('div');\n",
              "          docLink.innerHTML = docLinkHtml;\n",
              "          element.appendChild(docLink);\n",
              "        }\n",
              "      </script>\n",
              "    </div>\n",
              "  </div>\n",
              "  "
            ]
          },
          "metadata": {},
          "execution_count": 79
        }
      ]
    },
    {
      "cell_type": "markdown",
      "source": [
        "**Dropping Features**"
      ],
      "metadata": {
        "id": "oFWbevaDbH6U"
      }
    },
    {
      "cell_type": "code",
      "source": [
        "drop_features = ['ride_id','travel_date','travel_time','date','day_of_month','hour','minute','month','boarding_time(hr)','year']"
      ],
      "metadata": {
        "id": "itDgK6uwdLCB"
      },
      "execution_count": null,
      "outputs": []
    },
    {
      "cell_type": "code",
      "source": [
        "final_df = transform_df.copy()"
      ],
      "metadata": {
        "id": "-DWFFT6GfX0O"
      },
      "execution_count": null,
      "outputs": []
    },
    {
      "cell_type": "code",
      "source": [
        "final_df.drop(drop_features,axis=1,inplace=True)"
      ],
      "metadata": {
        "id": "SJ8olN9pfd4L"
      },
      "execution_count": null,
      "outputs": []
    },
    {
      "cell_type": "code",
      "source": [
        "final_df.head()"
      ],
      "metadata": {
        "colab": {
          "base_uri": "https://localhost:8080/",
          "height": 316
        },
        "id": "Rg-eqcAKgHww",
        "outputId": "e302d56e-532b-4962-b2f3-31d4668ac4ed"
      },
      "execution_count": null,
      "outputs": [
        {
          "output_type": "execute_result",
          "data": {
            "text/plain": [
              "   target  mean_isWeekend  mean_quarter  mean_carType  mean_month  \\\n",
              "0       1        8.280239         8.532      9.976118    8.203032   \n",
              "1       1        8.220793         8.532      9.976118    7.617611   \n",
              "2       1        8.220793         8.532      9.976118    7.617611   \n",
              "3       5        8.280239         8.532      9.976118    7.617611   \n",
              "4      31        8.280239         8.532      9.976118    7.617611   \n",
              "\n",
              "   mean_boardingPeriod  car_type_Bus  car_type_shuttle  travel_from_Awendo  \\\n",
              "0             8.012427             1                 0                   0   \n",
              "1             8.012427             1                 0                   0   \n",
              "2             8.012427             1                 0                   0   \n",
              "3             8.012427             1                 0                   0   \n",
              "4             8.012427             1                 0                   0   \n",
              "\n",
              "   travel_from_Homa Bay  ...  day_of_week_5  day_of_week_6  \\\n",
              "0                     0  ...              0              0   \n",
              "1                     0  ...              0              1   \n",
              "2                     0  ...              0              1   \n",
              "3                     1  ...              0              0   \n",
              "4                     0  ...              0              0   \n",
              "\n",
              "   boarding period_AfterNoon  boarding period_Evening  \\\n",
              "0                          0                        0   \n",
              "1                          0                        0   \n",
              "2                          0                        0   \n",
              "3                          0                        0   \n",
              "4                          0                        0   \n",
              "\n",
              "   boarding period_Morning  boarding period_Night  quarter_1  quarter_2  \\\n",
              "0                        1                      0          0          0   \n",
              "1                        1                      0          0          0   \n",
              "2                        1                      0          0          0   \n",
              "3                        1                      0          0          0   \n",
              "4                        1                      0          0          0   \n",
              "\n",
              "   quarter_3  quarter_4  \n",
              "0          0          1  \n",
              "1          0          1  \n",
              "2          0          1  \n",
              "3          0          1  \n",
              "4          0          1  \n",
              "\n",
              "[5 rows x 42 columns]"
            ],
            "text/html": [
              "\n",
              "  <div id=\"df-c88141d8-2173-4133-b7d1-f0e1079d3245\">\n",
              "    <div class=\"colab-df-container\">\n",
              "      <div>\n",
              "<style scoped>\n",
              "    .dataframe tbody tr th:only-of-type {\n",
              "        vertical-align: middle;\n",
              "    }\n",
              "\n",
              "    .dataframe tbody tr th {\n",
              "        vertical-align: top;\n",
              "    }\n",
              "\n",
              "    .dataframe thead th {\n",
              "        text-align: right;\n",
              "    }\n",
              "</style>\n",
              "<table border=\"1\" class=\"dataframe\">\n",
              "  <thead>\n",
              "    <tr style=\"text-align: right;\">\n",
              "      <th></th>\n",
              "      <th>target</th>\n",
              "      <th>mean_isWeekend</th>\n",
              "      <th>mean_quarter</th>\n",
              "      <th>mean_carType</th>\n",
              "      <th>mean_month</th>\n",
              "      <th>mean_boardingPeriod</th>\n",
              "      <th>car_type_Bus</th>\n",
              "      <th>car_type_shuttle</th>\n",
              "      <th>travel_from_Awendo</th>\n",
              "      <th>travel_from_Homa Bay</th>\n",
              "      <th>...</th>\n",
              "      <th>day_of_week_5</th>\n",
              "      <th>day_of_week_6</th>\n",
              "      <th>boarding period_AfterNoon</th>\n",
              "      <th>boarding period_Evening</th>\n",
              "      <th>boarding period_Morning</th>\n",
              "      <th>boarding period_Night</th>\n",
              "      <th>quarter_1</th>\n",
              "      <th>quarter_2</th>\n",
              "      <th>quarter_3</th>\n",
              "      <th>quarter_4</th>\n",
              "    </tr>\n",
              "  </thead>\n",
              "  <tbody>\n",
              "    <tr>\n",
              "      <th>0</th>\n",
              "      <td>1</td>\n",
              "      <td>8.280239</td>\n",
              "      <td>8.532</td>\n",
              "      <td>9.976118</td>\n",
              "      <td>8.203032</td>\n",
              "      <td>8.012427</td>\n",
              "      <td>1</td>\n",
              "      <td>0</td>\n",
              "      <td>0</td>\n",
              "      <td>0</td>\n",
              "      <td>...</td>\n",
              "      <td>0</td>\n",
              "      <td>0</td>\n",
              "      <td>0</td>\n",
              "      <td>0</td>\n",
              "      <td>1</td>\n",
              "      <td>0</td>\n",
              "      <td>0</td>\n",
              "      <td>0</td>\n",
              "      <td>0</td>\n",
              "      <td>1</td>\n",
              "    </tr>\n",
              "    <tr>\n",
              "      <th>1</th>\n",
              "      <td>1</td>\n",
              "      <td>8.220793</td>\n",
              "      <td>8.532</td>\n",
              "      <td>9.976118</td>\n",
              "      <td>7.617611</td>\n",
              "      <td>8.012427</td>\n",
              "      <td>1</td>\n",
              "      <td>0</td>\n",
              "      <td>0</td>\n",
              "      <td>0</td>\n",
              "      <td>...</td>\n",
              "      <td>0</td>\n",
              "      <td>1</td>\n",
              "      <td>0</td>\n",
              "      <td>0</td>\n",
              "      <td>1</td>\n",
              "      <td>0</td>\n",
              "      <td>0</td>\n",
              "      <td>0</td>\n",
              "      <td>0</td>\n",
              "      <td>1</td>\n",
              "    </tr>\n",
              "    <tr>\n",
              "      <th>2</th>\n",
              "      <td>1</td>\n",
              "      <td>8.220793</td>\n",
              "      <td>8.532</td>\n",
              "      <td>9.976118</td>\n",
              "      <td>7.617611</td>\n",
              "      <td>8.012427</td>\n",
              "      <td>1</td>\n",
              "      <td>0</td>\n",
              "      <td>0</td>\n",
              "      <td>0</td>\n",
              "      <td>...</td>\n",
              "      <td>0</td>\n",
              "      <td>1</td>\n",
              "      <td>0</td>\n",
              "      <td>0</td>\n",
              "      <td>1</td>\n",
              "      <td>0</td>\n",
              "      <td>0</td>\n",
              "      <td>0</td>\n",
              "      <td>0</td>\n",
              "      <td>1</td>\n",
              "    </tr>\n",
              "    <tr>\n",
              "      <th>3</th>\n",
              "      <td>5</td>\n",
              "      <td>8.280239</td>\n",
              "      <td>8.532</td>\n",
              "      <td>9.976118</td>\n",
              "      <td>7.617611</td>\n",
              "      <td>8.012427</td>\n",
              "      <td>1</td>\n",
              "      <td>0</td>\n",
              "      <td>0</td>\n",
              "      <td>1</td>\n",
              "      <td>...</td>\n",
              "      <td>0</td>\n",
              "      <td>0</td>\n",
              "      <td>0</td>\n",
              "      <td>0</td>\n",
              "      <td>1</td>\n",
              "      <td>0</td>\n",
              "      <td>0</td>\n",
              "      <td>0</td>\n",
              "      <td>0</td>\n",
              "      <td>1</td>\n",
              "    </tr>\n",
              "    <tr>\n",
              "      <th>4</th>\n",
              "      <td>31</td>\n",
              "      <td>8.280239</td>\n",
              "      <td>8.532</td>\n",
              "      <td>9.976118</td>\n",
              "      <td>7.617611</td>\n",
              "      <td>8.012427</td>\n",
              "      <td>1</td>\n",
              "      <td>0</td>\n",
              "      <td>0</td>\n",
              "      <td>0</td>\n",
              "      <td>...</td>\n",
              "      <td>0</td>\n",
              "      <td>0</td>\n",
              "      <td>0</td>\n",
              "      <td>0</td>\n",
              "      <td>1</td>\n",
              "      <td>0</td>\n",
              "      <td>0</td>\n",
              "      <td>0</td>\n",
              "      <td>0</td>\n",
              "      <td>1</td>\n",
              "    </tr>\n",
              "  </tbody>\n",
              "</table>\n",
              "<p>5 rows × 42 columns</p>\n",
              "</div>\n",
              "      <button class=\"colab-df-convert\" onclick=\"convertToInteractive('df-c88141d8-2173-4133-b7d1-f0e1079d3245')\"\n",
              "              title=\"Convert this dataframe to an interactive table.\"\n",
              "              style=\"display:none;\">\n",
              "        \n",
              "  <svg xmlns=\"http://www.w3.org/2000/svg\" height=\"24px\"viewBox=\"0 0 24 24\"\n",
              "       width=\"24px\">\n",
              "    <path d=\"M0 0h24v24H0V0z\" fill=\"none\"/>\n",
              "    <path d=\"M18.56 5.44l.94 2.06.94-2.06 2.06-.94-2.06-.94-.94-2.06-.94 2.06-2.06.94zm-11 1L8.5 8.5l.94-2.06 2.06-.94-2.06-.94L8.5 2.5l-.94 2.06-2.06.94zm10 10l.94 2.06.94-2.06 2.06-.94-2.06-.94-.94-2.06-.94 2.06-2.06.94z\"/><path d=\"M17.41 7.96l-1.37-1.37c-.4-.4-.92-.59-1.43-.59-.52 0-1.04.2-1.43.59L10.3 9.45l-7.72 7.72c-.78.78-.78 2.05 0 2.83L4 21.41c.39.39.9.59 1.41.59.51 0 1.02-.2 1.41-.59l7.78-7.78 2.81-2.81c.8-.78.8-2.07 0-2.86zM5.41 20L4 18.59l7.72-7.72 1.47 1.35L5.41 20z\"/>\n",
              "  </svg>\n",
              "      </button>\n",
              "      \n",
              "  <style>\n",
              "    .colab-df-container {\n",
              "      display:flex;\n",
              "      flex-wrap:wrap;\n",
              "      gap: 12px;\n",
              "    }\n",
              "\n",
              "    .colab-df-convert {\n",
              "      background-color: #E8F0FE;\n",
              "      border: none;\n",
              "      border-radius: 50%;\n",
              "      cursor: pointer;\n",
              "      display: none;\n",
              "      fill: #1967D2;\n",
              "      height: 32px;\n",
              "      padding: 0 0 0 0;\n",
              "      width: 32px;\n",
              "    }\n",
              "\n",
              "    .colab-df-convert:hover {\n",
              "      background-color: #E2EBFA;\n",
              "      box-shadow: 0px 1px 2px rgba(60, 64, 67, 0.3), 0px 1px 3px 1px rgba(60, 64, 67, 0.15);\n",
              "      fill: #174EA6;\n",
              "    }\n",
              "\n",
              "    [theme=dark] .colab-df-convert {\n",
              "      background-color: #3B4455;\n",
              "      fill: #D2E3FC;\n",
              "    }\n",
              "\n",
              "    [theme=dark] .colab-df-convert:hover {\n",
              "      background-color: #434B5C;\n",
              "      box-shadow: 0px 1px 3px 1px rgba(0, 0, 0, 0.15);\n",
              "      filter: drop-shadow(0px 1px 2px rgba(0, 0, 0, 0.3));\n",
              "      fill: #FFFFFF;\n",
              "    }\n",
              "  </style>\n",
              "\n",
              "      <script>\n",
              "        const buttonEl =\n",
              "          document.querySelector('#df-c88141d8-2173-4133-b7d1-f0e1079d3245 button.colab-df-convert');\n",
              "        buttonEl.style.display =\n",
              "          google.colab.kernel.accessAllowed ? 'block' : 'none';\n",
              "\n",
              "        async function convertToInteractive(key) {\n",
              "          const element = document.querySelector('#df-c88141d8-2173-4133-b7d1-f0e1079d3245');\n",
              "          const dataTable =\n",
              "            await google.colab.kernel.invokeFunction('convertToInteractive',\n",
              "                                                     [key], {});\n",
              "          if (!dataTable) return;\n",
              "\n",
              "          const docLinkHtml = 'Like what you see? Visit the ' +\n",
              "            '<a target=\"_blank\" href=https://colab.research.google.com/notebooks/data_table.ipynb>data table notebook</a>'\n",
              "            + ' to learn more about interactive tables.';\n",
              "          element.innerHTML = '';\n",
              "          dataTable['output_type'] = 'display_data';\n",
              "          await google.colab.output.renderOutput(dataTable, element);\n",
              "          const docLink = document.createElement('div');\n",
              "          docLink.innerHTML = docLinkHtml;\n",
              "          element.appendChild(docLink);\n",
              "        }\n",
              "      </script>\n",
              "    </div>\n",
              "  </div>\n",
              "  "
            ]
          },
          "metadata": {},
          "execution_count": 83
        }
      ]
    },
    {
      "cell_type": "code",
      "source": [
        "final_df.rename(columns={'num_booking':'target'},inplace=True)"
      ],
      "metadata": {
        "id": "wxTIP6RMhSwo"
      },
      "execution_count": null,
      "outputs": []
    },
    {
      "cell_type": "code",
      "source": [
        "final_df.head()"
      ],
      "metadata": {
        "colab": {
          "base_uri": "https://localhost:8080/",
          "height": 316
        },
        "id": "JW1Uifowhiie",
        "outputId": "41695fee-9a0b-4de8-c659-de015e2b8ccd"
      },
      "execution_count": null,
      "outputs": [
        {
          "output_type": "execute_result",
          "data": {
            "text/plain": [
              "   target  mean_isWeekend  mean_quarter  mean_carType  mean_month  \\\n",
              "0       1        8.280239         8.532      9.976118    8.203032   \n",
              "1       1        8.220793         8.532      9.976118    7.617611   \n",
              "2       1        8.220793         8.532      9.976118    7.617611   \n",
              "3       5        8.280239         8.532      9.976118    7.617611   \n",
              "4      31        8.280239         8.532      9.976118    7.617611   \n",
              "\n",
              "   mean_boardingPeriod  car_type_Bus  car_type_shuttle  travel_from_Awendo  \\\n",
              "0             8.012427             1                 0                   0   \n",
              "1             8.012427             1                 0                   0   \n",
              "2             8.012427             1                 0                   0   \n",
              "3             8.012427             1                 0                   0   \n",
              "4             8.012427             1                 0                   0   \n",
              "\n",
              "   travel_from_Homa Bay  ...  day_of_week_5  day_of_week_6  \\\n",
              "0                     0  ...              0              0   \n",
              "1                     0  ...              0              1   \n",
              "2                     0  ...              0              1   \n",
              "3                     1  ...              0              0   \n",
              "4                     0  ...              0              0   \n",
              "\n",
              "   boarding period_AfterNoon  boarding period_Evening  \\\n",
              "0                          0                        0   \n",
              "1                          0                        0   \n",
              "2                          0                        0   \n",
              "3                          0                        0   \n",
              "4                          0                        0   \n",
              "\n",
              "   boarding period_Morning  boarding period_Night  quarter_1  quarter_2  \\\n",
              "0                        1                      0          0          0   \n",
              "1                        1                      0          0          0   \n",
              "2                        1                      0          0          0   \n",
              "3                        1                      0          0          0   \n",
              "4                        1                      0          0          0   \n",
              "\n",
              "   quarter_3  quarter_4  \n",
              "0          0          1  \n",
              "1          0          1  \n",
              "2          0          1  \n",
              "3          0          1  \n",
              "4          0          1  \n",
              "\n",
              "[5 rows x 42 columns]"
            ],
            "text/html": [
              "\n",
              "  <div id=\"df-055618e9-c2e8-4cf4-bab5-b7eef0df3860\">\n",
              "    <div class=\"colab-df-container\">\n",
              "      <div>\n",
              "<style scoped>\n",
              "    .dataframe tbody tr th:only-of-type {\n",
              "        vertical-align: middle;\n",
              "    }\n",
              "\n",
              "    .dataframe tbody tr th {\n",
              "        vertical-align: top;\n",
              "    }\n",
              "\n",
              "    .dataframe thead th {\n",
              "        text-align: right;\n",
              "    }\n",
              "</style>\n",
              "<table border=\"1\" class=\"dataframe\">\n",
              "  <thead>\n",
              "    <tr style=\"text-align: right;\">\n",
              "      <th></th>\n",
              "      <th>target</th>\n",
              "      <th>mean_isWeekend</th>\n",
              "      <th>mean_quarter</th>\n",
              "      <th>mean_carType</th>\n",
              "      <th>mean_month</th>\n",
              "      <th>mean_boardingPeriod</th>\n",
              "      <th>car_type_Bus</th>\n",
              "      <th>car_type_shuttle</th>\n",
              "      <th>travel_from_Awendo</th>\n",
              "      <th>travel_from_Homa Bay</th>\n",
              "      <th>...</th>\n",
              "      <th>day_of_week_5</th>\n",
              "      <th>day_of_week_6</th>\n",
              "      <th>boarding period_AfterNoon</th>\n",
              "      <th>boarding period_Evening</th>\n",
              "      <th>boarding period_Morning</th>\n",
              "      <th>boarding period_Night</th>\n",
              "      <th>quarter_1</th>\n",
              "      <th>quarter_2</th>\n",
              "      <th>quarter_3</th>\n",
              "      <th>quarter_4</th>\n",
              "    </tr>\n",
              "  </thead>\n",
              "  <tbody>\n",
              "    <tr>\n",
              "      <th>0</th>\n",
              "      <td>1</td>\n",
              "      <td>8.280239</td>\n",
              "      <td>8.532</td>\n",
              "      <td>9.976118</td>\n",
              "      <td>8.203032</td>\n",
              "      <td>8.012427</td>\n",
              "      <td>1</td>\n",
              "      <td>0</td>\n",
              "      <td>0</td>\n",
              "      <td>0</td>\n",
              "      <td>...</td>\n",
              "      <td>0</td>\n",
              "      <td>0</td>\n",
              "      <td>0</td>\n",
              "      <td>0</td>\n",
              "      <td>1</td>\n",
              "      <td>0</td>\n",
              "      <td>0</td>\n",
              "      <td>0</td>\n",
              "      <td>0</td>\n",
              "      <td>1</td>\n",
              "    </tr>\n",
              "    <tr>\n",
              "      <th>1</th>\n",
              "      <td>1</td>\n",
              "      <td>8.220793</td>\n",
              "      <td>8.532</td>\n",
              "      <td>9.976118</td>\n",
              "      <td>7.617611</td>\n",
              "      <td>8.012427</td>\n",
              "      <td>1</td>\n",
              "      <td>0</td>\n",
              "      <td>0</td>\n",
              "      <td>0</td>\n",
              "      <td>...</td>\n",
              "      <td>0</td>\n",
              "      <td>1</td>\n",
              "      <td>0</td>\n",
              "      <td>0</td>\n",
              "      <td>1</td>\n",
              "      <td>0</td>\n",
              "      <td>0</td>\n",
              "      <td>0</td>\n",
              "      <td>0</td>\n",
              "      <td>1</td>\n",
              "    </tr>\n",
              "    <tr>\n",
              "      <th>2</th>\n",
              "      <td>1</td>\n",
              "      <td>8.220793</td>\n",
              "      <td>8.532</td>\n",
              "      <td>9.976118</td>\n",
              "      <td>7.617611</td>\n",
              "      <td>8.012427</td>\n",
              "      <td>1</td>\n",
              "      <td>0</td>\n",
              "      <td>0</td>\n",
              "      <td>0</td>\n",
              "      <td>...</td>\n",
              "      <td>0</td>\n",
              "      <td>1</td>\n",
              "      <td>0</td>\n",
              "      <td>0</td>\n",
              "      <td>1</td>\n",
              "      <td>0</td>\n",
              "      <td>0</td>\n",
              "      <td>0</td>\n",
              "      <td>0</td>\n",
              "      <td>1</td>\n",
              "    </tr>\n",
              "    <tr>\n",
              "      <th>3</th>\n",
              "      <td>5</td>\n",
              "      <td>8.280239</td>\n",
              "      <td>8.532</td>\n",
              "      <td>9.976118</td>\n",
              "      <td>7.617611</td>\n",
              "      <td>8.012427</td>\n",
              "      <td>1</td>\n",
              "      <td>0</td>\n",
              "      <td>0</td>\n",
              "      <td>1</td>\n",
              "      <td>...</td>\n",
              "      <td>0</td>\n",
              "      <td>0</td>\n",
              "      <td>0</td>\n",
              "      <td>0</td>\n",
              "      <td>1</td>\n",
              "      <td>0</td>\n",
              "      <td>0</td>\n",
              "      <td>0</td>\n",
              "      <td>0</td>\n",
              "      <td>1</td>\n",
              "    </tr>\n",
              "    <tr>\n",
              "      <th>4</th>\n",
              "      <td>31</td>\n",
              "      <td>8.280239</td>\n",
              "      <td>8.532</td>\n",
              "      <td>9.976118</td>\n",
              "      <td>7.617611</td>\n",
              "      <td>8.012427</td>\n",
              "      <td>1</td>\n",
              "      <td>0</td>\n",
              "      <td>0</td>\n",
              "      <td>0</td>\n",
              "      <td>...</td>\n",
              "      <td>0</td>\n",
              "      <td>0</td>\n",
              "      <td>0</td>\n",
              "      <td>0</td>\n",
              "      <td>1</td>\n",
              "      <td>0</td>\n",
              "      <td>0</td>\n",
              "      <td>0</td>\n",
              "      <td>0</td>\n",
              "      <td>1</td>\n",
              "    </tr>\n",
              "  </tbody>\n",
              "</table>\n",
              "<p>5 rows × 42 columns</p>\n",
              "</div>\n",
              "      <button class=\"colab-df-convert\" onclick=\"convertToInteractive('df-055618e9-c2e8-4cf4-bab5-b7eef0df3860')\"\n",
              "              title=\"Convert this dataframe to an interactive table.\"\n",
              "              style=\"display:none;\">\n",
              "        \n",
              "  <svg xmlns=\"http://www.w3.org/2000/svg\" height=\"24px\"viewBox=\"0 0 24 24\"\n",
              "       width=\"24px\">\n",
              "    <path d=\"M0 0h24v24H0V0z\" fill=\"none\"/>\n",
              "    <path d=\"M18.56 5.44l.94 2.06.94-2.06 2.06-.94-2.06-.94-.94-2.06-.94 2.06-2.06.94zm-11 1L8.5 8.5l.94-2.06 2.06-.94-2.06-.94L8.5 2.5l-.94 2.06-2.06.94zm10 10l.94 2.06.94-2.06 2.06-.94-2.06-.94-.94-2.06-.94 2.06-2.06.94z\"/><path d=\"M17.41 7.96l-1.37-1.37c-.4-.4-.92-.59-1.43-.59-.52 0-1.04.2-1.43.59L10.3 9.45l-7.72 7.72c-.78.78-.78 2.05 0 2.83L4 21.41c.39.39.9.59 1.41.59.51 0 1.02-.2 1.41-.59l7.78-7.78 2.81-2.81c.8-.78.8-2.07 0-2.86zM5.41 20L4 18.59l7.72-7.72 1.47 1.35L5.41 20z\"/>\n",
              "  </svg>\n",
              "      </button>\n",
              "      \n",
              "  <style>\n",
              "    .colab-df-container {\n",
              "      display:flex;\n",
              "      flex-wrap:wrap;\n",
              "      gap: 12px;\n",
              "    }\n",
              "\n",
              "    .colab-df-convert {\n",
              "      background-color: #E8F0FE;\n",
              "      border: none;\n",
              "      border-radius: 50%;\n",
              "      cursor: pointer;\n",
              "      display: none;\n",
              "      fill: #1967D2;\n",
              "      height: 32px;\n",
              "      padding: 0 0 0 0;\n",
              "      width: 32px;\n",
              "    }\n",
              "\n",
              "    .colab-df-convert:hover {\n",
              "      background-color: #E2EBFA;\n",
              "      box-shadow: 0px 1px 2px rgba(60, 64, 67, 0.3), 0px 1px 3px 1px rgba(60, 64, 67, 0.15);\n",
              "      fill: #174EA6;\n",
              "    }\n",
              "\n",
              "    [theme=dark] .colab-df-convert {\n",
              "      background-color: #3B4455;\n",
              "      fill: #D2E3FC;\n",
              "    }\n",
              "\n",
              "    [theme=dark] .colab-df-convert:hover {\n",
              "      background-color: #434B5C;\n",
              "      box-shadow: 0px 1px 3px 1px rgba(0, 0, 0, 0.15);\n",
              "      filter: drop-shadow(0px 1px 2px rgba(0, 0, 0, 0.3));\n",
              "      fill: #FFFFFF;\n",
              "    }\n",
              "  </style>\n",
              "\n",
              "      <script>\n",
              "        const buttonEl =\n",
              "          document.querySelector('#df-055618e9-c2e8-4cf4-bab5-b7eef0df3860 button.colab-df-convert');\n",
              "        buttonEl.style.display =\n",
              "          google.colab.kernel.accessAllowed ? 'block' : 'none';\n",
              "\n",
              "        async function convertToInteractive(key) {\n",
              "          const element = document.querySelector('#df-055618e9-c2e8-4cf4-bab5-b7eef0df3860');\n",
              "          const dataTable =\n",
              "            await google.colab.kernel.invokeFunction('convertToInteractive',\n",
              "                                                     [key], {});\n",
              "          if (!dataTable) return;\n",
              "\n",
              "          const docLinkHtml = 'Like what you see? Visit the ' +\n",
              "            '<a target=\"_blank\" href=https://colab.research.google.com/notebooks/data_table.ipynb>data table notebook</a>'\n",
              "            + ' to learn more about interactive tables.';\n",
              "          element.innerHTML = '';\n",
              "          dataTable['output_type'] = 'display_data';\n",
              "          await google.colab.output.renderOutput(dataTable, element);\n",
              "          const docLink = document.createElement('div');\n",
              "          docLink.innerHTML = docLinkHtml;\n",
              "          element.appendChild(docLink);\n",
              "        }\n",
              "      </script>\n",
              "    </div>\n",
              "  </div>\n",
              "  "
            ]
          },
          "metadata": {},
          "execution_count": 85
        }
      ]
    },
    {
      "cell_type": "markdown",
      "source": [
        "**Outlier Detection and distribution of Target variable**"
      ],
      "metadata": {
        "id": "rhTkPvlxgtG4"
      }
    },
    {
      "cell_type": "code",
      "source": [
        "#boxplot for detecting outlier\n",
        "sns.boxplot(y=final_df['target'])"
      ],
      "metadata": {
        "colab": {
          "base_uri": "https://localhost:8080/",
          "height": 266
        },
        "id": "2xD1eUxlhFMd",
        "outputId": "3304b88c-dedb-4c4a-f774-c2b66263c589"
      },
      "execution_count": null,
      "outputs": [
        {
          "output_type": "execute_result",
          "data": {
            "text/plain": [
              "<matplotlib.axes._subplots.AxesSubplot at 0x7f55a02bfd50>"
            ]
          },
          "metadata": {},
          "execution_count": 86
        },
        {
          "output_type": "display_data",
          "data": {
            "text/plain": [
              "<Figure size 432x288 with 1 Axes>"
            ],
            "image/png": "[encoded data removed]"
          },
          "metadata": {
            "needs_background": "light"
          }
        }
      ]
    },
    {
      "cell_type": "code",
      "source": [
        "#removing outliers\n",
        "final_df.drop(index=final_df[final_df['target']>30].index,axis=0,inplace=True)\n",
        "sns.boxplot(y=final_df['target'])\n"
      ],
      "metadata": {
        "colab": {
          "base_uri": "https://localhost:8080/",
          "height": 270
        },
        "id": "LnLYcn6Dar1q",
        "outputId": "b49151b5-fd15-46e7-c46e-282fa680a623"
      },
      "execution_count": null,
      "outputs": [
        {
          "output_type": "execute_result",
          "data": {
            "text/plain": [
              "<matplotlib.axes._subplots.AxesSubplot at 0x7f55a01ff190>"
            ]
          },
          "metadata": {},
          "execution_count": 87
        },
        {
          "output_type": "display_data",
          "data": {
            "text/plain": [
              "<Figure size 432x288 with 1 Axes>"
            ],
            "image/png": "[encoded data removed]"
          },
          "metadata": {
            "needs_background": "light"
          }
        }
      ]
    },
    {
      "cell_type": "code",
      "source": [
        "final_df.shape"
      ],
      "metadata": {
        "colab": {
          "base_uri": "https://localhost:8080/"
        },
        "id": "y2rFzr3pbehm",
        "outputId": "067fef64-6639-421a-e1db-3a16b27a60ad"
      },
      "execution_count": null,
      "outputs": [
        {
          "output_type": "execute_result",
          "data": {
            "text/plain": [
              "(5992, 42)"
            ]
          },
          "metadata": {},
          "execution_count": 88
        }
      ]
    },
    {
      "cell_type": "code",
      "source": [
        "sns.histplot(final_df['target'],kde=True)"
      ],
      "metadata": {
        "id": "HXU1EfBKiQKP",
        "colab": {
          "base_uri": "https://localhost:8080/",
          "height": 303
        },
        "outputId": "bb293e9d-4f66-4861-e66a-dbd1195a2f70"
      },
      "execution_count": null,
      "outputs": [
        {
          "output_type": "execute_result",
          "data": {
            "text/plain": [
              "<matplotlib.axes._subplots.AxesSubplot at 0x7f55a0308650>"
            ]
          },
          "metadata": {},
          "execution_count": 89
        },
        {
          "output_type": "display_data",
          "data": {
            "text/plain": [
              "<Figure size 432x288 with 1 Axes>"
            ],
            "image/png": "[encoded data removed]"
          },
          "metadata": {
            "needs_background": "light"
          }
        }
      ]
    },
    {
      "cell_type": "code",
      "source": [
        "#skew measument of target variable\n",
        "from scipy.stats import skew\n",
        "from scipy import stats\n",
        "print(skew(final_df['target']))"
      ],
      "metadata": {
        "colab": {
          "base_uri": "https://localhost:8080/"
        },
        "id": "fVNQmNEgxvhA",
        "outputId": "6d798970-676c-47a3-f7b7-71e1924df88d"
      },
      "execution_count": null,
      "outputs": [
        {
          "output_type": "stream",
          "name": "stdout",
          "text": [
            "1.3519798850090952\n"
          ]
        }
      ]
    },
    {
      "cell_type": "code",
      "source": [
        "# final_df['transformed_target'] = stats.boxcox(final_df['target'])[0]\n",
        "from scipy.special import boxcox, inv_boxcox\n",
        "final_df['transformed_target'] = boxcox(final_df['target'],0.21)\n",
        "# inv_boxcox(y, 2.5)\n",
        "\n"
      ],
      "metadata": {
        "id": "HqEZeYgMyuOO"
      },
      "execution_count": null,
      "outputs": []
    },
    {
      "cell_type": "code",
      "source": [
        "sns.histplot(final_df['transformed_target'],kde=True)\n",
        "print(skew(final_df['transformed_target']))"
      ],
      "metadata": {
        "colab": {
          "base_uri": "https://localhost:8080/",
          "height": 303
        },
        "id": "LoVitN-GzSCH",
        "outputId": "44307268-810d-4657-bac6-1e2efffeb667"
      },
      "execution_count": null,
      "outputs": [
        {
          "output_type": "stream",
          "name": "stdout",
          "text": [
            "-0.005838372455210873\n"
          ]
        },
        {
          "output_type": "display_data",
          "data": {
            "text/plain": [
              "<Figure size 432x288 with 1 Axes>"
            ],
            "image/png": "[encoded data removed]"
          },
          "metadata": {
            "needs_background": "light"
          }
        }
      ]
    },
    {
      "cell_type": "code",
      "source": [
        "#drop target feature from final_df\n",
        "final_df.drop(['target'],axis=1,inplace=True)"
      ],
      "metadata": {
        "id": "xBavVbl00aer"
      },
      "execution_count": null,
      "outputs": []
    },
    {
      "cell_type": "markdown",
      "source": [
        "**Breaking the dataset into predictor and target variable**"
      ],
      "metadata": {
        "id": "qidU0uKg1TTR"
      }
    },
    {
      "cell_type": "code",
      "source": [
        "X = final_df[[i for i in final_df.columns if i not in ['transformed_target']]]\n",
        "Y = final_df['transformed_target']"
      ],
      "metadata": {
        "id": "uJQuy6vU1m4s"
      },
      "execution_count": null,
      "outputs": []
    },
    {
      "cell_type": "code",
      "source": [
        "from sklearn.preprocessing import MinMaxScaler\n",
        "from sklearn.model_selection import train_test_split\n",
        "\n",
        "scaler = MinMaxScaler()\n",
        "# transform data\n",
        "scaled_X = scaler.fit_transform(X)"
      ],
      "metadata": {
        "id": "WYILU20E18IX"
      },
      "execution_count": null,
      "outputs": []
    },
    {
      "cell_type": "code",
      "source": [
        "X_train, X_test, y_train, y_test = train_test_split(scaled_X,Y,test_size=0.2,random_state=7)"
      ],
      "metadata": {
        "id": "tfG_wQXS2iff"
      },
      "execution_count": null,
      "outputs": []
    },
    {
      "cell_type": "code",
      "source": [
        "from sklearn import linear_model\n",
        "from sklearn.metrics import r2_score\n",
        "from sklearn.metrics import mean_squared_error\n",
        "reg = linear_model.LinearRegression()\n",
        "reg.fit(X_train , y_train)\n",
        "pred_train = reg.predict(X_train)\n",
        "pred_test = reg.predict(X_test)"
      ],
      "metadata": {
        "id": "PkGAwsQc2lHD"
      },
      "execution_count": null,
      "outputs": []
    },
    {
      "cell_type": "code",
      "source": [
        "print('-----------Mean Squared Error------------')\n",
        "print('Training Data Set mean square error is: {}'.format(mean_squared_error(inv_boxcox(y_train,0.21),inv_boxcox(pred_train,0.21))))\n",
        "print('Test Data Set mean sqaure error is {}'.format(mean_squared_error(inv_boxcox(y_test,0.21),inv_boxcox(pred_test,0.21))))\n",
        "print('-----------------------------------------')\n",
        "print('-----------Root Mean Squared Error----------')\n",
        "rmse_train = np.sqrt(mean_squared_error(y_train,pred_train))\n",
        "rmse_test = np.sqrt(mean_squared_error(y_test,pred_test))\n",
        "print('Training Data Set rmse is {}'.format(rmse_train))\n",
        "print('Test Data Set rmse is {}'.format(rmse_test))\n",
        "print('--------------------------------------------')\n",
        "print('--------------r2_Score---------------------')\n",
        "print('r2_score for training dataset is {}'.format(r2_score(inv_boxcox(y_train,0.21),inv_boxcox(pred_train,0.21))))\n",
        "print('r2_score for test dataset is {}'.format(r2_score(inv_boxcox(y_test,0.21),inv_boxcox(pred_test,0.21))))"
      ],
      "metadata": {
        "colab": {
          "base_uri": "https://localhost:8080/"
        },
        "id": "NzA9OrJZ2pWv",
        "outputId": "fed1af55-afd7-489d-81b9-e3ac47a8f988"
      },
      "execution_count": null,
      "outputs": [
        {
          "output_type": "stream",
          "name": "stdout",
          "text": [
            "-----------Mean Squared Error------------\n",
            "Training Data Set mean square error is: 30.42325375104207\n",
            "Test Data Set mean sqaure error is 31.206376429802237\n",
            "-----------------------------------------\n",
            "-----------Root Mean Squared Error----------\n",
            "Training Data Set rmse is 1.1934290693501786\n",
            "Test Data Set rmse is 1.2109848100678313\n",
            "--------------------------------------------\n",
            "--------------r2_Score---------------------\n",
            "r2_score for training dataset is 0.19485421713491058\n",
            "r2_score for test dataset is 0.1901679781766764\n"
          ]
        }
      ]
    },
    {
      "cell_type": "code",
      "source": [
        "from sklearn.model_selection import GridSearchCV\n",
        "from sklearn.ensemble import RandomForestRegressor\n",
        "from sklearn.ensemble import GradientBoostingRegressor"
      ],
      "metadata": {
        "id": "rJTlcWTBxsHH"
      },
      "execution_count": null,
      "outputs": []
    },
    {
      "cell_type": "code",
      "source": [
        "train_preds =  g_search.predict(X_train)\n",
        "test_preds  = g_search.predict(X_test)"
      ],
      "metadata": {
        "id": "2RyWzUprxPyR"
      },
      "execution_count": null,
      "outputs": []
    },
    {
      "cell_type": "code",
      "source": [
        "# Obtain accuracy on train set\n",
        "r2_score(y_train,train_preds)"
      ],
      "metadata": {
        "colab": {
          "base_uri": "https://localhost:8080/"
        },
        "id": "B2943BLWxTrV",
        "outputId": "f5400252-9adb-4884-f7a0-f077a31975eb"
      },
      "execution_count": null,
      "outputs": [
        {
          "output_type": "execute_result",
          "data": {
            "text/plain": [
              "0.37563956956560285"
            ]
          },
          "metadata": {},
          "execution_count": 108
        }
      ]
    },
    {
      "cell_type": "code",
      "source": [
        "# Obtain accuracy on test set\n",
        "r2_score(y_test,test_preds)"
      ],
      "metadata": {
        "colab": {
          "base_uri": "https://localhost:8080/"
        },
        "id": "ZKR0sSG8xXw6",
        "outputId": "97b398c5-5e24-4efb-abcf-1c65d1694761"
      },
      "execution_count": null,
      "outputs": [
        {
          "output_type": "execute_result",
          "data": {
            "text/plain": [
              "0.28898191444649746"
            ]
          },
          "metadata": {},
          "execution_count": 109
        }
      ]
    }
  ]
}